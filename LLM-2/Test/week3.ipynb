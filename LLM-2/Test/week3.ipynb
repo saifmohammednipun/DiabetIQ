{
 "cells": [
  {
   "cell_type": "markdown",
   "id": "00646e0e-199c-4b9e-ab70-f4b6548cf90c",
   "metadata": {},
   "source": [
    "## Environment Setup"
   ]
  },
  {
   "cell_type": "code",
   "execution_count": 80,
   "id": "0c2b3c7b-2b5e-4820-b00e-eb5bf7522b5c",
   "metadata": {},
   "outputs": [],
   "source": [
    "import os\n",
    "from dotenv import load_dotenv\n",
    "\n",
    "# Load environment variables from the .env file\n",
    "load_dotenv()\n",
    "\n",
    "# Ensure the environment variables are set\n",
    "langchain_api_key = os.getenv('LANGCHAIN_API_KEY')\n",
    "huggingface_api_key = os.getenv('HUGGINGFACE_API_KEY')\n",
    "\n",
    "# Set environment variables for the application\n",
    "os.environ['LANGCHAIN_TRACING_V2'] = 'true'\n",
    "os.environ['LANGCHAIN_API_KEY'] = langchain_api_key\n",
    "os.environ['HUGGINGFACE_API_KEY'] = huggingface_api_key"
   ]
  },
  {
   "cell_type": "code",
   "execution_count": 82,
   "id": "aca25d81-374f-4ff8-974a-d81b1b0bdb3d",
   "metadata": {},
   "outputs": [],
   "source": [
    "import bs4\n",
    "from langchain import hub\n",
    "from langchain.text_splitter import RecursiveCharacterTextSplitter\n",
    "from langchain_community.document_loaders import PyPDFLoader\n",
    "from langchain_community.vectorstores import Chroma\n",
    "from langchain_core.output_parsers import StrOutputParser\n",
    "from langchain_core.runnables import RunnablePassthrough\n",
    "from langchain_huggingface import HuggingFaceEmbeddings\n",
    "from langchain_ollama import OllamaLLM"
   ]
  },
  {
   "cell_type": "markdown",
   "id": "a25bf376-1bfb-4cf2-b32d-d0db30f4a932",
   "metadata": {},
   "source": [
    "## Load PDF Document"
   ]
  },
  {
   "cell_type": "code",
   "execution_count": 84,
   "id": "2fd94dc2-6a91-4fdb-980f-d3be2e93faf0",
   "metadata": {},
   "outputs": [
    {
     "data": {
      "text/plain": [
       "'DIABETES CARE \\nBADAS Guideline 2019 \\n          \\n          P|) DAS GUELINE ON Man \\nDELIT IGEMEN \\n  A Joint Initiative of \\nDiabetic Association of Bangladesh \\nNCDC Program, Directorate General of Health Services'"
      ]
     },
     "execution_count": 84,
     "metadata": {},
     "output_type": "execute_result"
    }
   ],
   "source": [
    "# Load Documents (use PyPDFLoader for PDF)\n",
    "file_path = r\"/Users/saifmohammed/Downloads/Diabetes_Care_BADAS_guideline2019-3.pdf\"\n",
    "loader = PyPDFLoader(file_path)\n",
    "docs = loader.load()\n",
    "\n",
    "docs[0].page_content[:1000]"
   ]
  },
  {
   "cell_type": "markdown",
   "id": "556188e7-6dbc-4865-ae58-4a60f1fe1519",
   "metadata": {},
   "source": [
    "## Split Document into Chunks"
   ]
  },
  {
   "cell_type": "code",
   "execution_count": 86,
   "id": "82e22844-36a2-43e8-8b6a-04219b15fc38",
   "metadata": {},
   "outputs": [
    {
     "name": "stdout",
     "output_type": "stream",
     "text": [
      "\n",
      "--- Chunk 1 ---\n",
      "DIABETES CARE \n",
      "BADAS Guideline 2019 \n",
      "          \n",
      "          P|) DAS GUELINE ON Man \n",
      "DELIT IGEMEN \n",
      "  A Joint Initiative of \n",
      "Diabetic Association of Bangladesh \n",
      "NCDC Program, Directorate General of Health Services\n",
      "\n",
      "----------------------------------------------------------------------\n",
      "\n",
      "\n",
      "--- Chunk 2 ---\n",
      "DIABETES CARE \n",
      "BADAS Guideline 2019 \n",
      "  A Joint Initiative of \n",
      "Diabetic Association of Bangladesh \n",
      "NCDC Program, Directorate General of Health Services   \n",
      "Diabetes Care: BADAS Guideline 2019 HEI! 1\n",
      "\n",
      "----------------------------------------------------------------------\n",
      "\n",
      "\n",
      "--- Chunk 3 ---\n",
      "DIABETES CARE: BADAS GUIDELINE 2019 \n",
      "Convener: Prof A K Azad Khan \n",
      "Chairman: Prof Hajera Mahtab \n",
      "Members of the steering committee \n",
      "Prof Dr AHM Enayet Hossain \n",
      "Prof Akhtar Hussain \n",
      "Prof Zafar Anmed Latif \n",
      "Prof Tofail Ahmed \n",
      "Prof Laique Ahmed Khan \n",
      "Prof Nazrul Islam Siddiqui \n",
      "Prof Md Hafizur Rahman \n",
      "Prof Abdus Saleque Mollah \n",
      "Prof Md Farid Uddin \n",
      "Prof M A Jalil Ansary \n",
      "Prof Dr MA Samad \n",
      "Prof SM Ashrafuzzaman \n",
      "Prof MA Hasnat \n",
      "Dr Kazi Ali Hassan \n",
      "Dr Abdul Mannan Sarker \n",
      "Members of the Task Force \n",
      "Prof Md Faruque Pathan \n",
      "Dr Tareen Ahmed \n",
      "Dr Md Feroz Amin \n",
      "Dr Faria Afsana \n",
      "Dr Bishwajit Bhowmik \n",
      "Dr Nazmul Kabir Qureshi \n",
      "Dr Indrajit Prasad \n",
      "Dr Tanjina Hossain \n",
      "Dr Shahjada Selim \n",
      "Dr M Saifuddin \n",
      "Dr Tasnima Siddiquee \n",
      "Dr Abdul Alim \n",
      "Published \n",
      "November 2019 \n",
      "Correspondence \n",
      "Diabetic Association of Bangladesh \n",
      "122 Kazi Nazrul Islam Avenue, Dhaka 1000, Bangladesh \n",
      "Design and layout \n",
      "Liason Office,122 Kazi Nazrul Islam avenue, Shabag, Dhaka \n",
      "Printing \n",
      "BADAS-RVTC Printing Press\n",
      "\n",
      "----------------------------------------------------------------------\n",
      "\n"
     ]
    }
   ],
   "source": [
    "# Split the documents into chunks\n",
    "text_splitter = RecursiveCharacterTextSplitter(chunk_size=1000, chunk_overlap=200)\n",
    "splits = text_splitter.split_documents(docs)\n",
    "\n",
    "for i, chunk in enumerate(splits[:3]):  # Show the first 3 chunks\n",
    "    print(f\"\\n--- Chunk {i+1} ---\")\n",
    "    print(chunk.page_content[:1000])  # Print the first 1000 characters of the chunk\n",
    "    print(\"\\n\" + \"-\"*70 + \"\\n\")  # Separator between chunks"
   ]
  },
  {
   "cell_type": "markdown",
   "id": "dd0d2384-d608-4e9f-98bb-2a0d64269c62",
   "metadata": {},
   "source": [
    "## Embedding"
   ]
  },
  {
   "cell_type": "code",
   "execution_count": null,
   "id": "6893750f-38d7-4449-a83c-22cba5250be8",
   "metadata": {},
   "outputs": [],
   "source": [
    "# Use HuggingFace Embeddings\n",
    "embedding_model = HuggingFaceEmbeddings(model_name=\"intfloat/e5-small-v2\")\n",
    "vectorstore = Chroma.from_documents(documents=splits, embedding=embedding_model)\n",
    "retriever = vectorstore.as_retriever()"
   ]
  },
  {
   "cell_type": "markdown",
   "id": "44fadd1e-2b11-4d88-93bb-9d5e2dfb4dd2",
   "metadata": {},
   "source": [
    "## Chatbot Prompt & LLM Model"
   ]
  },
  {
   "cell_type": "code",
   "execution_count": 70,
   "id": "3943cfef-8326-4c5f-bec8-5498e514b91b",
   "metadata": {},
   "outputs": [],
   "source": [
    "from langchain_core.prompts import PromptTemplate\n",
    "\n",
    "# Prompt\n",
    "prompt = PromptTemplate.from_template(\"\"\"\n",
    "You are a diabetes assistant for patients in Bangladesh. Provide concise, textbook-based advice on diabetes management. \n",
    "Keep responses short, direct, and actionable. Consider local diet, lifestyle, and healthcare practices. Avoid unnecessary details. \n",
    "If medical consultation is needed, advise accordingly.\n",
    "\"\"\")\n",
    "\n",
    "# LLM\n",
    "llm = OllamaLLM(model=\"mistral\")"
   ]
  },
  {
   "cell_type": "code",
   "execution_count": 72,
   "id": "102cc35a-03d3-42d4-8b3f-73094461d0e1",
   "metadata": {},
   "outputs": [],
   "source": [
    "# Post-processing\n",
    "def format_docs(docs):\n",
    "    return \"\\n\".join(f\"{i+1}. {doc.page_content.strip()}\" for i, doc in enumerate(docs))"
   ]
  },
  {
   "cell_type": "markdown",
   "id": "077c95cd-ae60-44e7-ad41-86eda3808deb",
   "metadata": {},
   "source": [
    "## Retrival & Generation"
   ]
  },
  {
   "cell_type": "code",
   "execution_count": 76,
   "id": "ed68a4f0-e6e0-4f1b-8417-540dc31c8ca8",
   "metadata": {},
   "outputs": [],
   "source": [
    "from langchain.schema.runnable import RunnableMap\n",
    "\n",
    "# Chain\n",
    "rag_chain = (\n",
    "    RunnableMap({\"context\": retriever | format_docs, \"question\": RunnablePassthrough()})\n",
    "    | prompt\n",
    "    | llm\n",
    "    | StrOutputParser()\n",
    ")"
   ]
  },
  {
   "cell_type": "code",
   "execution_count": 78,
   "id": "4f85d9c9-9f44-4a1b-93a5-ce772ba24d9a",
   "metadata": {},
   "outputs": [
    {
     "data": {
      "text/plain": [
       "'1. Monitor Blood Sugar Levels: Regularly check blood sugar levels at home using a glucometer. Aim for before-meal (fasting) levels less than 140 mg/dL and after-meal (postprandial) levels less than 180 mg/dL.\\n\\n  2. Balanced Diet: Follow a balanced diet with appropriate portion sizes, focusing on complex carbohydrates, lean proteins, fruits, vegetables, and whole grains. Limit simple sugars, saturated fats, and sodium intake.\\n\\n  3. Physical Activity: Engage in at least 30 minutes of moderate-intensity physical activity daily, such as walking or cycling. Consult a healthcare professional for guidance on suitable activities.\\n\\n  4. Medication Adherence: Take prescribed medication as directed by your doctor to manage blood sugar levels effectively. If you have any concerns about medications, consult with your healthcare provider.\\n\\n  5. Regular Check-ups: Schedule regular appointments with your healthcare team for monitoring and adjusting treatment plans as needed.\\n\\n  6. Foot Care: Take proper care of your feet by washing them daily, inspecting them regularly for cuts or sores, and wearing appropriate shoes to avoid foot complications.\\n\\n  7. Eye Care: Have annual eye examinations to detect and prevent diabetic retinopathy.\\n\\n  8. Dental Care: Practice good oral hygiene and visit your dentist regularly to maintain dental health.\\n\\n  9. Stress Management: Incorporate stress-reduction techniques, such as meditation or yoga, into your daily routine to improve overall health.\\n\\n  10. Consultation: If you have any concerns about your diabetes management or experience symptoms like severe headache, vision changes, or difficulty breathing, consult with a healthcare professional immediately.'"
      ]
     },
     "execution_count": 78,
     "metadata": {},
     "output_type": "execute_result"
    }
   ],
   "source": [
    "# Question\n",
    "rag_chain.invoke(\"What steps you will suggest to control my sugar level?\")"
   ]
  }
 ],
 "metadata": {
  "kernelspec": {
   "display_name": "Python 3 (ipykernel)",
   "language": "python",
   "name": "python3"
  },
  "language_info": {
   "codemirror_mode": {
    "name": "ipython",
    "version": 3
   },
   "file_extension": ".py",
   "mimetype": "text/x-python",
   "name": "python",
   "nbconvert_exporter": "python",
   "pygments_lexer": "ipython3",
   "version": "3.12.4"
  }
 },
 "nbformat": 4,
 "nbformat_minor": 5
}
