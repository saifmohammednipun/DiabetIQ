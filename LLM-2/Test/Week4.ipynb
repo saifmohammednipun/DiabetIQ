{
 "cells": [
  {
   "cell_type": "markdown",
   "id": "f8ac0c66-b85c-4980-974f-10598a90945d",
   "metadata": {},
   "source": [
    "## Environment Setup"
   ]
  },
  {
   "cell_type": "code",
   "execution_count": 2,
   "id": "b3321975-35e4-4429-a199-4e12de100fc0",
   "metadata": {},
   "outputs": [],
   "source": [
    "import os\n",
    "from dotenv import load_dotenv\n",
    "\n",
    "# Load environment variables from the .env file\n",
    "load_dotenv()\n",
    "\n",
    "# Ensure the environment variables are set\n",
    "langchain_api_key = os.getenv('LANGCHAIN_API_KEY')\n",
    "huggingface_api_key = os.getenv('HUGGINGFACE_API_KEY')\n",
    "\n",
    "# Set environment variables for the application\n",
    "os.environ['LANGCHAIN_TRACING_V2'] = 'true'\n",
    "os.environ['LANGCHAIN_API_KEY'] = langchain_api_key\n",
    "os.environ['HUGGINGFACE_API_KEY'] = huggingface_api_key"
   ]
  },
  {
   "cell_type": "code",
   "execution_count": 4,
   "id": "f36ceb2b-84e7-4742-abbe-acb52d3ac0aa",
   "metadata": {},
   "outputs": [],
   "source": [
    "import bs4\n",
    "from langchain import hub\n",
    "from langchain.text_splitter import RecursiveCharacterTextSplitter\n",
    "from langchain_community.document_loaders import PyPDFLoader\n",
    "from langchain_community.vectorstores import Chroma\n",
    "from langchain_core.output_parsers import StrOutputParser\n",
    "from langchain_core.runnables import RunnablePassthrough\n",
    "from langchain_huggingface import HuggingFaceEmbeddings\n",
    "from langchain_ollama import OllamaLLM"
   ]
  },
  {
   "cell_type": "markdown",
   "id": "6f3e269b-d912-4231-8ae8-8c4f640d4f04",
   "metadata": {},
   "source": [
    "## Load Multiple PDF Documents"
   ]
  },
  {
   "cell_type": "code",
   "execution_count": 7,
   "id": "6abc7a1e-a671-4528-8f07-b12dcb664fa2",
   "metadata": {},
   "outputs": [
    {
     "name": "stdout",
     "output_type": "stream",
     "text": [
      "Text from /Users/saifmohammed/Desktop/DiabetIQ/LLM-1/PDFs/Bright_Spots_and_Landmines_by_Adam_Brown.pdf (first 500 chars):\n",
      " “A superb and compelling read... In these pages you will find years of \n",
      "lessons learned and tips you can immediately apply in your own life with \n",
      "diabetes. Adam’s personal journey can teach us all to find our Bright \n",
      "Spots, no matter what diabetes throws at us.”\n",
      "DR .  F R A N CIN E KAUFMAN | Author of Diabesity; Endocrinologist at \n",
      "Children’s Hospital Los Angeles; Chief Medical Officer at Medtronic Diabetes\n",
      "“For me, this is the most anticipated book ever for people living with \n",
      "diabetes.”\n",
      "J OHN  \n",
      "==================================================\n",
      "Text from /Users/saifmohammed/Desktop/DiabetIQ/LLM-1/PDFs/Diabetes_Care_BADAS_guideline2019-3.pdf (first 500 chars):\n",
      "   \n",
      "DIABETES CARE \n",
      "BADAS Guideline 2019 \n",
      "    \n",
      "  \n",
      "    \n",
      "  \n",
      "   \n",
      "  \n",
      "   \n",
      "P|) DAS GUELINE ON Man \n",
      "DELIT \n",
      "IGEMEN \n",
      "  \n",
      "A Joint Initiative of \n",
      "Diabetic Association of Bangladesh \n",
      "NCDC Program, Directorate General of Health Services\n",
      "  \n",
      "  \n",
      "DIABETES CARE \n",
      "BADAS Guideline 2019 \n",
      "  \n",
      "A Joint Initiative of \n",
      "Diabetic Association of Bangladesh \n",
      "NCDC Program, Directorate General of Health Services \n",
      "  \n",
      "Diabetes Care: BADAS Guideline 2019 HEI! \n",
      "1 \n",
      " \n",
      "  \n",
      "  \n",
      "  \n",
      "DIABETES CARE: BADAS GUIDELINE 2019 \n",
      "Convener: Prof A K Azad  \n",
      "==================================================\n",
      "Text from /Users/saifmohammed/Desktop/DiabetIQ/LLM-1/PDFs/Textbook-of-Diabetes-2024.pdf (first 500 chars):\n",
      " Textbook of Diabetes\n",
      "﻿\n",
      "We dedicate this book to all people living with diabetes and the healthcare professionals \n",
      "who look after them. We would also like to dedicate this book to our families, without \n",
      "whose support and encouragement the book would never have been finished.\n",
      "Textbook of \n",
      "Diabetes\n",
      "EDITED BY\n",
      "RICHARD I.G. HOLT MA, MB BChir, PhD, FRCP, FHEA\n",
      "Professor in Diabetes & Endocrinology\n",
      "Human Development and Health\n",
      "Faculty of Medicine, University of Southampton\n",
      "Southampton, UK\n",
      "Honorary Consul \n",
      "==================================================\n"
     ]
    }
   ],
   "source": [
    "import fitz  # PyMuPDF\n",
    "\n",
    "pdf_files = [\"/Users/saifmohammed/Desktop/DiabetIQ/LLM-1/PDFs/Bright_Spots_and_Landmines_by_Adam_Brown.pdf\", \n",
    "             \"/Users/saifmohammed/Desktop/DiabetIQ/LLM-1/PDFs/Diabetes_Care_BADAS_guideline2019-3.pdf\", \n",
    "             \"/Users/saifmohammed/Desktop/DiabetIQ/LLM-1/PDFs/Textbook-of-Diabetes-2024.pdf\"]  \n",
    "pdf_texts = []\n",
    "\n",
    "for pdf in pdf_files:\n",
    "    doc = fitz.open(pdf)\n",
    "    text = \"\"\n",
    "\n",
    "    for page in doc:\n",
    "        text += page.get_text()\n",
    "\n",
    "    pdf_texts.append(text)  # Store extracted text\n",
    "\n",
    "# Print only the first 500 characters of each PDF\n",
    "for idx, text in enumerate(pdf_texts, start=1):\n",
    "    print(f\"Text from {pdf_files[idx-1]} (first 500 chars):\\n\", text[:500], \"\\n\" + \"=\"*50)\n"
   ]
  },
  {
   "cell_type": "markdown",
   "id": "2d3c5874-926f-48b9-a045-ad507b4dc368",
   "metadata": {},
   "source": [
    "## Split All the Documents into Chunks"
   ]
  },
  {
   "cell_type": "code",
   "execution_count": 10,
   "id": "c3f7a5f0-bc69-41a2-8f75-70456b120a38",
   "metadata": {},
   "outputs": [
    {
     "name": "stdout",
     "output_type": "stream",
     "text": [
      "\n",
      "--- Chunk 1 ---\n",
      "“A superb and compelling read... In these pages you will find years of \n",
      "lessons learned and tips you can immediately apply in your own life with \n",
      "diabetes. Adam’s personal journey can teach us all to find our Bright \n",
      "Spots, no matter what diabetes throws at us.”\n",
      "DR .  F R A N CIN E KAUFMAN | Author of Diabesity; Endocrinologist at \n",
      "Children’s Hospital Los Angeles; Chief Medical Officer at Medtronic Diabetes\n",
      "“For me, this is the most anticipated book ever for people living with \n",
      "diabetes.”\n",
      "J OHN  S JÖL UN D  | Founder/CEO of Timesulin; 32 years living with diabetes\n",
      "“When I picked up this book, my A1c was 9.3%. After just a month, I’m \n",
      "down to 8.3% and still falling! Every person with diabetes, young or old, \n",
      "should read Bright Spots & Landmines. I plan to be one of Adam’s biggest \n",
      "success stories.” \n",
      "S TEV E M A L L IN SON | 24 years living with diabetes\n",
      "“Living with diabetes, we all have good days and not-so-good days.\n",
      "\n",
      "----------------------------------------------------------------------\n",
      "\n",
      "\n",
      "--- Chunk 2 ---\n",
      "success stories.” \n",
      "S TEV E M A L L IN SON | 24 years living with diabetes\n",
      "“Living with diabetes, we all have good days and not-so-good days. \n",
      "Adam’s book is an essential guide on how to make the good days more \n",
      "frequent, more predictable, and a lot more fun.”\n",
      "J AM ES  S .  HIR S C H  | Author of Cheating Destiny; 36 years living with diabetes\n",
      "“A must-read for anyone living with diabetes and those who care for \n",
      "them. After 35 years with diabetes, I still took some very valuable lessons \n",
      "from Adam. No matter where you are in your diabetes journey, life will \n",
      "be easier after this read. I guarantee you will learn something new, get \n",
      "inspired, and feel more empowered.”\n",
      "P H IL  S OUTHER LAND | Author of Not Dead Yet; Co-founder of Team Novo \n",
      "Nordisk and the Team Type 1 Foundation; 35 years living with diabetes\n",
      "“When Adam has advice, I listen. There are few people in the world who \n",
      "have more visibility into the cutting edge of diabetes. Bright Spots &\n",
      "\n",
      "----------------------------------------------------------------------\n",
      "\n",
      "\n",
      "--- Chunk 3 ---\n",
      "“When Adam has advice, I listen. There are few people in the world who \n",
      "have more visibility into the cutting edge of diabetes. Bright Spots & \n",
      "Landmines is an incredible resource from a true champion for people \n",
      "with diabetes.”\n",
      "DR .  AAR ON  KOWALSKI  | Chief Mission Officer at JDRF; 33 years living with \n",
      "diabetes\n",
      "“Our son dropped his A1c from 11.1% to 4.9% in three months! Following \n",
      "Adam’s advice made it easy and makes living with diabetes so much less \n",
      "stressful. This inspiring book is a goldmine of helpful information, \n",
      "especially on foods to eat. Chia pudding has changed our lives!”\n",
      "S A R ITA  L IS A |  Mother of Aden (diagnosed November 2016)\n",
      "“I’ve lived with diabetes for over 50 years, and when I get diaTribe, I read \n",
      "Adam’s column before all the others. This impressive book shares \n",
      "Adam’s story and tons of specific, useful tips for managing my blood \n",
      "sugar. I completely agree with his approach.”\n",
      "N AN CY  CR AN E | Over 50 years living with diabetes\n",
      "\n",
      "----------------------------------------------------------------------\n",
      "\n"
     ]
    }
   ],
   "source": [
    "# Combine all texts into one large document\n",
    "full_text = \"\\n\".join(pdf_texts)\n",
    "\n",
    "# Split the text into chunks\n",
    "text_splitter = RecursiveCharacterTextSplitter(chunk_size=1000, chunk_overlap=200)\n",
    "chunks = text_splitter.split_text(full_text)\n",
    "\n",
    "# Display first 3 chunks\n",
    "for i, chunk in enumerate(chunks[:3]):  \n",
    "    print(f\"\\n--- Chunk {i+1} ---\")\n",
    "    print(chunk[:1000])  # Print first 1000 characters of the chunk\n",
    "    print(\"\\n\" + \"-\" * 70 + \"\\n\")"
   ]
  },
  {
   "cell_type": "markdown",
   "id": "e35fe63f-fddd-4bbf-a4fd-bffcde86a140",
   "metadata": {},
   "source": [
    "## Embedding"
   ]
  },
  {
   "cell_type": "code",
   "execution_count": null,
   "id": "9175f6e3-c827-44de-9474-359b2bebbda6",
   "metadata": {},
   "outputs": [
    {
     "name": "stderr",
     "output_type": "stream",
     "text": [
      "2025-03-15 16:01:01.759 python[1732:12720] Error creating directory \n",
      " The volume ‚ÄúMacintosh HD‚Äù is out of space. You can‚Äôt save the file ‚Äúmpsgraph-1732-2025-03-15_16_01_01-1563232731‚Äù because the volume ‚ÄúMacintosh HD‚Äù is out of space.\n"
     ]
    }
   ],
   "source": [
    "# Step 3: Generate embeddings using HuggingFace\n",
    "embedding_model = HuggingFaceEmbeddings(model_name=\"intfloat/e5-small-v2\")\n",
    "\n",
    "# Step 4: Store chunks in ChromaDB\n",
    "vectorstore = Chroma.from_texts(chunks, embedding=embedding_model)\n",
    "\n",
    "# Step 5: Create a retriever\n",
    "retriever = vectorstore.as_retriever()"
   ]
  },
  {
   "cell_type": "markdown",
   "id": "b444543f-a5fa-4d5d-92cc-a98c233826f6",
   "metadata": {},
   "source": [
    "## Chatbot Prompt & LLM Model"
   ]
  },
  {
   "cell_type": "code",
   "execution_count": null,
   "id": "4cc869dd-538e-4d32-829f-d57372c8a61d",
   "metadata": {},
   "outputs": [],
   "source": [
    "from langchain_core.prompts import PromptTemplate\n",
    "\n",
    "# Prompt\n",
    "prompt = PromptTemplate.from_template(\"\"\"\n",
    "You are a diabetes assistant for patients in Bangladesh. Provide concise, textbook-based advice on diabetes management. \n",
    "Keep responses short, direct, and actionable. Consider local diet, lifestyle, and healthcare practices. Avoid unnecessary details. \n",
    "If medical consultation is needed, advise accordingly.\n",
    "\"\"\")\n",
    "\n",
    "# LLM\n",
    "llm = OllamaLLM(model=\"mistral\")"
   ]
  },
  {
   "cell_type": "code",
   "execution_count": null,
   "id": "468721bf-b026-4f27-a0e8-313331104c2f",
   "metadata": {},
   "outputs": [],
   "source": [
    "# Post-processing\n",
    "def format_docs(docs):\n",
    "    return \"\\n\".join(f\"{i+1}. {doc.page_content.strip()}\" for i, doc in enumerate(docs))"
   ]
  },
  {
   "cell_type": "markdown",
   "id": "e09a7035-65a0-407a-ac35-56da15cb0be0",
   "metadata": {},
   "source": [
    "## Retrival & Generation"
   ]
  },
  {
   "cell_type": "code",
   "execution_count": null,
   "id": "951371db-a670-4df1-9d06-f324c4e24800",
   "metadata": {},
   "outputs": [],
   "source": [
    "from langchain.schema.runnable import RunnableMap\n",
    "\n",
    "# Chain\n",
    "rag_chain = (\n",
    "    RunnableMap({\"context\": retriever | format_docs, \"question\": RunnablePassthrough()})\n",
    "    | prompt\n",
    "    | llm\n",
    "    | StrOutputParser()\n",
    ")"
   ]
  },
  {
   "cell_type": "code",
   "execution_count": null,
   "id": "44aa108c-f27e-44e2-bbe2-443eff528ad0",
   "metadata": {},
   "outputs": [],
   "source": [
    "# Question\n",
    "rag_chain.invoke(\"What steps do I need to take for control my diabetics?\")"
   ]
  }
 ],
 "metadata": {
  "kernelspec": {
   "display_name": "Python 3 (ipykernel)",
   "language": "python",
   "name": "python3"
  },
  "language_info": {
   "codemirror_mode": {
    "name": "ipython",
    "version": 3
   },
   "file_extension": ".py",
   "mimetype": "text/x-python",
   "name": "python",
   "nbconvert_exporter": "python",
   "pygments_lexer": "ipython3",
   "version": "3.12.4"
  }
 },
 "nbformat": 4,
 "nbformat_minor": 5
}
