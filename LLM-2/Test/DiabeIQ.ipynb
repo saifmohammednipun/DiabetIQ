{
 "cells": [
  {
   "cell_type": "code",
   "execution_count": 24,
   "id": "e8fb5dfb-a8b5-4e9c-a978-ffc3e3c8f89d",
   "metadata": {},
   "outputs": [],
   "source": [
    "import os\n",
    "from dotenv import load_dotenv\n",
    "\n",
    "# Load environment variables from the .env file\n",
    "load_dotenv()\n",
    "\n",
    "# Ensure the environment variables are set\n",
    "langchain_api_key = os.getenv('LANGCHAIN_API_KEY')\n",
    "huggingface_api_key = os.getenv('HUGGINGFACE_API_KEY')\n",
    "\n",
    "# Set environment variables for the application\n",
    "os.environ['LANGCHAIN_TRACING_V2'] = 'true'\n",
    "os.environ['LANGCHAIN_API_KEY'] = langchain_api_key\n",
    "os.environ['HUGGINGFACE_API_KEY'] = huggingface_api_key"
   ]
  },
  {
   "cell_type": "code",
   "execution_count": 26,
   "id": "cf3227d6-43e7-4acd-8029-8899c4692cbb",
   "metadata": {},
   "outputs": [],
   "source": [
    "import bs4\n",
    "from langchain import hub\n",
    "from langchain.text_splitter import RecursiveCharacterTextSplitter\n",
    "from langchain_community.document_loaders import PyPDFLoader\n",
    "from langchain_community.vectorstores import Chroma\n",
    "from langchain_core.output_parsers import StrOutputParser\n",
    "from langchain_core.runnables import RunnablePassthrough"
   ]
  },
  {
   "cell_type": "code",
   "execution_count": 28,
   "id": "9c6c59ce-917a-4a10-ac30-1abda9aaa733",
   "metadata": {},
   "outputs": [
    {
     "data": {
      "text/plain": [
       "'DIABETES CARE \\nBADAS Guideline 2019 \\n          \\n          P|) DAS GUELINE ON Man \\nDELIT IGEMEN \\n  A Joint Initiative of \\nDiabetic Association of Bangladesh \\nNCDC Program, Directorate General of Health Services'"
      ]
     },
     "execution_count": 28,
     "metadata": {},
     "output_type": "execute_result"
    }
   ],
   "source": [
    "# Load Documents (use PyPDFLoader for PDF)\n",
    "file_path = r\"/Users/saifmohammed/Downloads/Diabetes_Care_BADAS_guideline2019-3.pdf\"\n",
    "loader = PyPDFLoader(file_path)\n",
    "docs = loader.load()\n",
    "\n",
    "docs[0].page_content[:1000]"
   ]
  },
  {
   "cell_type": "code",
   "execution_count": 30,
   "id": "b5df4f6d-fb7e-4295-a27b-b332ba415ea2",
   "metadata": {},
   "outputs": [
    {
     "name": "stdout",
     "output_type": "stream",
     "text": [
      "\n",
      "--- Chunk 1 ---\n",
      "DIABETES CARE \n",
      "BADAS Guideline 2019 \n",
      "          \n",
      "          P|) DAS GUELINE ON Man \n",
      "DELIT IGEMEN \n",
      "  A Joint Initiative of \n",
      "Diabetic Association of Bangladesh \n",
      "NCDC Program, Directorate General of Health Services\n",
      "\n",
      "----------------------------------------------------------------------\n",
      "\n",
      "\n",
      "--- Chunk 2 ---\n",
      "DIABETES CARE \n",
      "BADAS Guideline 2019 \n",
      "  A Joint Initiative of \n",
      "Diabetic Association of Bangladesh \n",
      "NCDC Program, Directorate General of Health Services   \n",
      "Diabetes Care: BADAS Guideline 2019 HEI! 1\n",
      "\n",
      "----------------------------------------------------------------------\n",
      "\n",
      "\n",
      "--- Chunk 3 ---\n",
      "DIABETES CARE: BADAS GUIDELINE 2019 \n",
      "Convener: Prof A K Azad Khan \n",
      "Chairman: Prof Hajera Mahtab \n",
      "Members of the steering committee \n",
      "Prof Dr AHM Enayet Hossain \n",
      "Prof Akhtar Hussain \n",
      "Prof Zafar Anmed Latif \n",
      "Prof Tofail Ahmed \n",
      "Prof Laique Ahmed Khan \n",
      "Prof Nazrul Islam Siddiqui \n",
      "Prof Md Hafizur Rahman \n",
      "Prof Abdus Saleque Mollah \n",
      "Prof Md Farid Uddin \n",
      "Prof M A Jalil Ansary \n",
      "Prof Dr MA Samad \n",
      "Prof SM Ashrafuzzaman \n",
      "Prof MA Hasnat \n",
      "Dr Kazi Ali Hassan \n",
      "Dr Abdul Mannan Sarker \n",
      "Members of the Task Force \n",
      "Prof Md Faruque Pathan \n",
      "Dr Tareen Ahmed \n",
      "Dr Md Feroz Amin \n",
      "Dr Faria Afsana \n",
      "Dr Bishwajit Bhowmik \n",
      "Dr Nazmul Kabir Qureshi \n",
      "Dr Indrajit Prasad \n",
      "Dr Tanjina Hossain \n",
      "Dr Shahjada Selim \n",
      "Dr M Saifuddin \n",
      "Dr Tasnima Siddiquee \n",
      "Dr Abdul Alim \n",
      "Published \n",
      "November 2019 \n",
      "Correspondence \n",
      "Diabetic Association of Bangladesh \n",
      "122 Kazi Nazrul Islam Avenue, Dhaka 1000, Bangladesh \n",
      "Design and layout \n",
      "Liason Office,122 Kazi Nazrul Islam avenue, Shabag, Dhaka \n",
      "Printing \n",
      "BADAS-RVTC Printing Press\n",
      "\n",
      "----------------------------------------------------------------------\n",
      "\n"
     ]
    }
   ],
   "source": [
    "# Split the documents into chunks\n",
    "text_splitter = RecursiveCharacterTextSplitter(chunk_size=1000, chunk_overlap=200)\n",
    "splits = text_splitter.split_documents(docs)\n",
    "\n",
    "for i, chunk in enumerate(splits[:3]):  # Show the first 3 chunks\n",
    "    print(f\"\\n--- Chunk {i+1} ---\")\n",
    "    print(chunk.page_content[:1000])  # Print the first 1000 characters of the chunk\n",
    "    print(\"\\n\" + \"-\"*70 + \"\\n\")  # Separator between chunks"
   ]
  },
  {
   "cell_type": "code",
   "execution_count": 32,
   "id": "fb6e162f-bb57-45de-b786-25e4d53dabc6",
   "metadata": {},
   "outputs": [],
   "source": [
    "from langchain_huggingface import HuggingFaceEmbeddings\n",
    "\n",
    "# Use HuggingFace Embeddings\n",
    "embedding_model = HuggingFaceEmbeddings(model_name=\"intfloat/e5-small-v2\")\n",
    "vectorstore = Chroma.from_documents(documents=splits, embedding=embedding_model)\n",
    "retriever = vectorstore.as_retriever()"
   ]
  },
  {
   "cell_type": "code",
   "execution_count": 36,
   "id": "3635df0a-debe-48be-b6d1-c047f5bded62",
   "metadata": {},
   "outputs": [],
   "source": [
    "from langchain_ollama import OllamaLLM\n",
    "\n",
    "# Prompt\n",
    "prompt = hub.pull(\"rlm/rag-prompt\")\n",
    "\n",
    "# LLM\n",
    "llm = OllamaLLM(model=\"mistral\")"
   ]
  },
  {
   "cell_type": "code",
   "execution_count": 38,
   "id": "7c44ba57-6657-4aba-a442-9ca9a66aa3cc",
   "metadata": {},
   "outputs": [],
   "source": [
    "# Post-processing\n",
    "def format_docs(docs):\n",
    "    return \"\\n\\n\".join(doc.page_content for doc in docs)"
   ]
  },
  {
   "cell_type": "code",
   "execution_count": 40,
   "id": "4a50f44e-942c-4c6d-9562-ada6b01bbcfc",
   "metadata": {},
   "outputs": [],
   "source": [
    "# Chain\n",
    "rag_chain = (\n",
    "    {\"context\": retriever | format_docs, \"question\": RunnablePassthrough()}\n",
    "    | prompt\n",
    "    | llm\n",
    "    | StrOutputParser()\n",
    ")"
   ]
  },
  {
   "cell_type": "code",
   "execution_count": 42,
   "id": "80df2c88-b7a7-4184-a523-2e4f86d19cdf",
   "metadata": {},
   "outputs": [
    {
     "name": "stderr",
     "output_type": "stream",
     "text": [
      "huggingface/tokenizers: The current process just got forked, after parallelism has already been used. Disabling parallelism to avoid deadlocks...\n",
      "To disable this warning, you can either:\n",
      "\t- Avoid using `tokenizers` before the fork if possible\n",
      "\t- Explicitly set the environment variable TOKENIZERS_PARALLELISM=(true | false)\n"
     ]
    },
    {
     "data": {
      "text/plain": [
       "' Pathophysiology is the study of the underlying mechanisms that cause a disease to occur, specifically in the context of Diabetes Mellitus. In Type 1 diabetes, it\\'s characterized by marked impairment of insulin production due to autoimmune destruction of beta cells, while in Type 2 diabetes, it involves both insulin resistance and beta-cell failure. The development of glucose intolerance in Type 2 diabetes is influenced by eight key pathways involving muscle, liver, fat cells, gastrointestinal tract, alpha-cells, kidney, brain, and beta-cells collectively known as the \"ominous octet.\"'"
      ]
     },
     "execution_count": 42,
     "metadata": {},
     "output_type": "execute_result"
    }
   ],
   "source": [
    "# Question\n",
    "rag_chain.invoke(\"What is Pathophysiology?\")"
   ]
  },
  {
   "cell_type": "code",
   "execution_count": null,
   "id": "337d236c-e897-441c-87c7-b4d7db03cc3c",
   "metadata": {},
   "outputs": [],
   "source": []
  }
 ],
 "metadata": {
  "kernelspec": {
   "display_name": "Python 3 (ipykernel)",
   "language": "python",
   "name": "python3"
  },
  "language_info": {
   "codemirror_mode": {
    "name": "ipython",
    "version": 3
   },
   "file_extension": ".py",
   "mimetype": "text/x-python",
   "name": "python",
   "nbconvert_exporter": "python",
   "pygments_lexer": "ipython3",
   "version": "3.12.4"
  }
 },
 "nbformat": 4,
 "nbformat_minor": 5
}
