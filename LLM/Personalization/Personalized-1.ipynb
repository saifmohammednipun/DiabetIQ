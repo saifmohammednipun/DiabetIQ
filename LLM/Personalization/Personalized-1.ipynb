{
 "cells": [
  {
   "cell_type": "code",
   "execution_count": 1,
   "id": "94ca12a4-7929-4344-ac16-44a189dd922a",
   "metadata": {},
   "outputs": [
    {
     "name": "stdout",
     "output_type": "stream",
     "text": [
      "--- Environment and Imports ---\n",
      "Environment variables loaded and LangChain configured.\n",
      "Required libraries imported.\n"
     ]
    }
   ],
   "source": [
    "import os\n",
    "from dotenv import load_dotenv\n",
    "from langchain import hub\n",
    "from langchain.text_splitter import RecursiveCharacterTextSplitter\n",
    "from langchain_community.document_loaders import PyPDFLoader \n",
    "from langchain_community.vectorstores import Chroma\n",
    "from langchain_core.output_parsers import StrOutputParser\n",
    "from langchain_core.runnables import RunnablePassthrough, RunnableLambda, RunnableParallel\n",
    "from langchain_huggingface import HuggingFaceEmbeddings\n",
    "from langchain_ollama import OllamaLLM\n",
    "from langchain_core.documents import Document\n",
    "from langchain_core.prompts import PromptTemplate\n",
    "\n",
    "print(\"--- Environment and Imports ---\")\n",
    "\n",
    "\n",
    "load_dotenv()\n",
    "langchain_api_key = os.getenv('LANGCHAIN_API_KEY')\n",
    "huggingface_api_key = os.getenv('HUGGINGFACE_API_KEY')\n",
    "\n",
    "\n",
    "os.environ['LANGCHAIN_TRACING_V2'] = 'true'\n",
    "os.environ['LANGCHAIN_API_KEY'] = langchain_api_key\n",
    "os.environ['HUGGINGFACE_API_KEY'] = huggingface_api_key\n",
    "\n",
    "print(\"Environment variables loaded and LangChain configured.\")\n",
    "print(\"Required libraries imported.\")"
   ]
  },
  {
   "cell_type": "code",
   "execution_count": 2,
   "id": "54e60fc3-537b-4c2b-b2b4-9b8586875488",
   "metadata": {},
   "outputs": [
    {
     "name": "stdout",
     "output_type": "stream",
     "text": [
      "\n",
      "--- PDF File Paths ---\n",
      "Found: F:\\DiabetIQ\\LLM\\PDFs\\BES-COVID-Pract-Recomnd-06-June-Final-Copy.pdf\n",
      "Found: F:\\DiabetIQ\\LLM\\PDFs\\BES-Ramadan-Guideline-2020-min.pdf\n",
      "Found: F:\\DiabetIQ\\LLM\\PDFs\\Diabetes_Care_BADAS_guideline2019-3.pdf\n",
      "Found: F:\\DiabetIQ\\LLM\\PDFs\\Insulin-Guideline-min.pdf\n"
     ]
    }
   ],
   "source": [
    "print(\"\\n--- PDF File Paths ---\")\n",
    "pdf_files = [\n",
    "    \n",
    "    r\"F:\\DiabetIQ\\LLM\\PDFs\\BES-COVID-Pract-Recomnd-06-June-Final-Copy.pdf\",\n",
    "    r\"F:\\DiabetIQ\\LLM\\PDFs\\BES-Ramadan-Guideline-2020-min.pdf\",\n",
    "    r\"F:\\DiabetIQ\\LLM\\PDFs\\Diabetes_Care_BADAS_guideline2019-3.pdf\",\n",
    "    r\"F:\\DiabetIQ\\LLM\\PDFs\\Insulin-Guideline-min.pdf\"\n",
    "]\n",
    "\n",
    "for pdf_path in pdf_files:\n",
    "    if not os.path.exists(pdf_path):\n",
    "        print(f\"WARNING: File not found at {pdf_path}\")\n",
    "    else:\n",
    "        print(f\"Found: {pdf_path}\")"
   ]
  },
  {
   "cell_type": "code",
   "execution_count": 3,
   "id": "da9ef994-cd0c-4a2b-a013-be6a53f04945",
   "metadata": {},
   "outputs": [
    {
     "name": "stdout",
     "output_type": "stream",
     "text": [
      "\n",
      "--- Loading and Processing PDFs ---\n",
      "-> Loading: BES-COVID-Pract-Recomnd-06-June-Final-Copy.pdf\n",
      "   Loaded 38 pages.\n",
      "-> Loading: BES-Ramadan-Guideline-2020-min.pdf\n",
      "   Loaded 46 pages.\n",
      "-> Loading: Diabetes_Care_BADAS_guideline2019-3.pdf\n",
      "   Loaded 79 pages.\n",
      "-> Loading: Insulin-Guideline-min.pdf\n",
      "   Loaded 93 pages.\n",
      "\n",
      "Total documents loaded: 256\n",
      "\n",
      "Sample Document Metadata (first doc):\n",
      "{'producer': 'Nitro PDF PrimoPDF', 'creator': 'PrimoPDF http://www.primopdf.com', 'creationdate': '2020-06-07T20:17:39-06:00', 'moddate': '2020-06-07T20:17:39-06:00', 'title': 'Microsoft Word - BES COVID Pract Recomnd 06 June Final Copy', 'author': 'Mir', 'source': 'BES-COVID-Pract-Recomnd-06-June-Final-Copy.pdf', 'total_pages': 38, 'page': 0, 'page_label': '1'}\n",
      "\n",
      "Sample Document Content (first 500 chars of first doc):\n",
      "Bangladesh Endocrine Society (BES) \n",
      "Practical Recommendations for Management of \n",
      "Diabetes and Other Endocrine Diseases in Patients with \n",
      "COVID-19 \n",
      " \n",
      " \n",
      " \n",
      " \n",
      " \n",
      "Published Online June 2020 \n",
      " \n",
      " \n",
      "All rights reserved by: Bangladesh Endocrine Society (BES) \n",
      " \n",
      " \n",
      "Published by \n",
      "Bangladesh Endocrine Society (BES) \n",
      "Website: http://bes-org.net \n",
      "E-mail: \n",
      "endobd2012@gmail.com\n"
     ]
    }
   ],
   "source": [
    "print(\"\\n--- Loading and Processing PDFs ---\")\n",
    "all_docs = [] \n",
    "\n",
    "for pdf_path in pdf_files:\n",
    "    file_name = os.path.basename(pdf_path)\n",
    "    if not os.path.exists(pdf_path):\n",
    "        print(f\"Skipping non-existent file: {file_name}\")\n",
    "        continue\n",
    "    try:\n",
    "        print(f\"-> Loading: {file_name}\")\n",
    "        loader = PyPDFLoader(pdf_path)\n",
    "        pages = loader.load_and_split() \n",
    "\n",
    "        \n",
    "        for page_doc in pages:\n",
    "            page_doc.metadata['source'] = file_name\n",
    "            \n",
    "\n",
    "        all_docs.extend(pages)\n",
    "        print(f\"   Loaded {len(pages)} pages.\")\n",
    "\n",
    "    except Exception as e:\n",
    "        print(f\"Error loading {pdf_path}: {e}\")\n",
    "\n",
    "print(f\"\\nTotal documents loaded: {len(all_docs)}\")\n",
    "if all_docs:\n",
    "    print(\"\\nSample Document Metadata (first doc):\")\n",
    "    print(all_docs[0].metadata)\n",
    "    print(\"\\nSample Document Content (first 500 chars of first doc):\")\n",
    "    print(all_docs[0].page_content[:500])\n",
    "else:\n",
    "    print(\"\\nNo documents were loaded successfully. Exiting.\")\n",
    "    exit() "
   ]
  },
  {
   "cell_type": "code",
   "execution_count": 4,
   "id": "ec0463a8-847b-4643-8ba5-52bfa2cef7fa",
   "metadata": {},
   "outputs": [
    {
     "name": "stdout",
     "output_type": "stream",
     "text": [
      "\n",
      "--- Configuring Text Splitter ---\n",
      "Text splitter configured: chunk_size=1000, chunk_overlap=200\n"
     ]
    }
   ],
   "source": [
    "print(\"\\n--- Configuring Text Splitter ---\")\n",
    "text_splitter = RecursiveCharacterTextSplitter(\n",
    "    chunk_size=1000,\n",
    "    chunk_overlap=200,\n",
    "    separators=[\"\\n\\n\", \"\\n\", \". \", \", \", \" \", \"\"], \n",
    "    length_function=len,\n",
    ")\n",
    "print(f\"Text splitter configured: chunk_size={text_splitter._chunk_size}, chunk_overlap={text_splitter._chunk_overlap}\")"
   ]
  },
  {
   "cell_type": "code",
   "execution_count": 5,
   "id": "bf8b89f8-502a-41c4-974a-8fd6e4bd6af3",
   "metadata": {},
   "outputs": [
    {
     "name": "stdout",
     "output_type": "stream",
     "text": [
      "\n",
      "--- Splitting Documents into Chunks ---\n",
      "\n",
      "Total chunks created: 702\n",
      "\n",
      "Sample Chunk Metadata (first chunk):\n",
      "{'producer': 'Nitro PDF PrimoPDF', 'creator': 'PrimoPDF http://www.primopdf.com', 'creationdate': '2020-06-07T20:17:39-06:00', 'moddate': '2020-06-07T20:17:39-06:00', 'title': 'Microsoft Word - BES COVID Pract Recomnd 06 June Final Copy', 'author': 'Mir', 'source': 'BES-COVID-Pract-Recomnd-06-June-Final-Copy.pdf', 'total_pages': 38, 'page': 0, 'page_label': '1'}\n",
      "\n",
      "Sample Chunk Content (first 500 chars):\n",
      "Bangladesh Endocrine Society (BES) \n",
      "Practical Recommendations for Management of \n",
      "Diabetes and Other Endocrine Diseases in Patients with \n",
      "COVID-19 \n",
      " \n",
      " \n",
      " \n",
      " \n",
      " \n",
      "Published Online June 2020 \n",
      " \n",
      " \n",
      "All rights reserved by: Bangladesh Endocrine Society (BES) \n",
      " \n",
      " \n",
      "Published by \n",
      "Bangladesh Endocrine Society (BES) \n",
      "Website: http://bes-org.net \n",
      "E-mail: \n",
      "endobd2012@gmail.com\n"
     ]
    }
   ],
   "source": [
    "print(\"\\n--- Splitting Documents into Chunks ---\")\n",
    "chunks = text_splitter.split_documents(all_docs)\n",
    "\n",
    "print(f\"\\nTotal chunks created: {len(chunks)}\")\n",
    "if chunks:\n",
    "    print(\"\\nSample Chunk Metadata (first chunk):\")\n",
    "    print(chunks[0].metadata)\n",
    "    print(\"\\nSample Chunk Content (first 500 chars):\")\n",
    "    print(chunks[0].page_content[:500])\n",
    "else:\n",
    "    print(\"\\nNo chunks were created. Check splitting process. Exiting.\")\n",
    "    exit() "
   ]
  },
  {
   "cell_type": "code",
   "execution_count": 6,
   "id": "ba181123-16f3-48a3-a3cc-b85cb5e0ef23",
   "metadata": {},
   "outputs": [
    {
     "name": "stdout",
     "output_type": "stream",
     "text": [
      "\n",
      "--- Initializing Embedding Model ---\n",
      "Embedding model initialized: intfloat/e5-small-v2\n"
     ]
    }
   ],
   "source": [
    "print(\"\\n--- Initializing Embedding Model ---\")\n",
    "\n",
    "embedding_model_name = \"intfloat/e5-small-v2\"\n",
    "embedding_model = HuggingFaceEmbeddings(model_name=embedding_model_name)\n",
    "print(f\"Embedding model initialized: {embedding_model_name}\")"
   ]
  },
  {
   "cell_type": "code",
   "execution_count": 7,
   "id": "acd540d8-4ce4-4d84-bf15-f9a0aca9ac98",
   "metadata": {},
   "outputs": [
    {
     "name": "stdout",
     "output_type": "stream",
     "text": [
      "\n",
      "--- Creating Vector Store (ChromaDB) ---\n",
      "Vector Store Created (in-memory).\n"
     ]
    }
   ],
   "source": [
    "print(\"\\n--- Creating Vector Store (ChromaDB) ---\")\n",
    "\n",
    "vectorstore = Chroma.from_documents(\n",
    "    documents=chunks,\n",
    "    embedding=embedding_model,\n",
    ")\n",
    "\n",
    "print(\"Vector Store Created (in-memory).\")"
   ]
  },
  {
   "cell_type": "code",
   "execution_count": 8,
   "id": "a35527eb-34e9-43d4-b717-66c76d6a7250",
   "metadata": {},
   "outputs": [
    {
     "name": "stdout",
     "output_type": "stream",
     "text": [
      "\n",
      "--- Configuring Retriever ---\n",
      "Retriever configured to fetch top k=5 chunks.\n"
     ]
    }
   ],
   "source": [
    "print(\"\\n--- Configuring Retriever ---\")\n",
    "retriever = vectorstore.as_retriever(search_kwargs={\"k\": 5}) \n",
    "print(f\"Retriever configured to fetch top k={retriever.search_kwargs.get('k', 'N/A')} chunks.\")"
   ]
  },
  {
   "cell_type": "code",
   "execution_count": 9,
   "id": "b1d0ff6b-007f-4217-bf74-93a4f308c81e",
   "metadata": {},
   "outputs": [
    {
     "name": "stdout",
     "output_type": "stream",
     "text": [
      "\n",
      "--- Defining User Profile Structure and Helper ---\n",
      "Example User Profile defined for: Ahmed Khan (ID: user123)\n",
      "Helper function 'get_relevant_profile_info' defined.\n"
     ]
    }
   ],
   "source": [
    "print(\"\\n--- Defining User Profile Structure and Helper ---\")\n",
    "\n",
    "user_profile_example = {\n",
    "    \"user_id\": \"user123\",\n",
    "    \"name\": \"Ahmed Khan\", \n",
    "    \"diabetes_type\": \"Type 2\",\n",
    "    \"medications\": [\"Metformin 1000mg daily\", \"Gliclazide 80mg daily\"],\n",
    "    \"recent_a1c\": 7.8,\n",
    "    \"goals\": [\"Lower A1C to below 7.0\", \"Incorporate more vegetables\", \"Be more consistent with evening medication\"],\n",
    "    \"preferences\": {\"diet\": \"Likes chicken and fish, avoids red meat\", \"activity\": \"Prefers walking\"},\n",
    "    \"challenges\": [\"Snacking late at night\", \"Forgetting evening Gliclazide sometimes\", \"Finding time for exercise\"]\n",
    "}\n",
    "\n",
    "print(f\"Example User Profile defined for: {user_profile_example.get('name', 'N/A')} (ID: {user_profile_example.get('user_id', 'N/A')})\")\n",
    "\n",
    "\n",
    "def get_relevant_profile_info(profile, question=None):\n",
    "    \"\"\"\n",
    "    Extracts key information from the user profile to be included in the LLM prompt.\n",
    "    Can be enhanced with NLP to select info based on the question context.\n",
    "    \"\"\"\n",
    "    if not profile:\n",
    "        return \"No user profile provided.\"\n",
    "\n",
    "    info = f\"User Profile Summary:\\n\"\n",
    "    info += f\"- Diabetes Type: {profile.get('diabetes_type', 'N/A')}\\n\"\n",
    "    info += f\"- Key Medications: {', '.join(profile.get('medications', ['N/A']))}\\n\"\n",
    "    info += f\"- Recent A1C: {profile.get('recent_a1c', 'N/A')}\\n\"\n",
    "    info += f\"- Goals: {', '.join(profile.get('goals', ['N/A']))}\\n\"\n",
    "    info += f\"- Challenges: {', '.join(profile.get('challenges', ['N/A']))}\\n\"\n",
    "    info += f\"- Preferences: Diet - {profile.get('preferences', {}).get('diet', 'N/A')}; Activity - {profile.get('preferences', {}).get('activity', 'N/A')}\\n\"\n",
    "   \n",
    "    return info\n",
    "\n",
    "print(\"Helper function 'get_relevant_profile_info' defined.\")"
   ]
  },
  {
   "cell_type": "code",
   "execution_count": 10,
   "id": "268ae0c2-0267-4d6d-ab6f-c2a26e3e7ebb",
   "metadata": {},
   "outputs": [
    {
     "name": "stdout",
     "output_type": "stream",
     "text": [
      "\n",
      "--- Defining Personalized Prompt Template ---\n",
      "Personalized prompt template created.\n"
     ]
    }
   ],
   "source": [
    "print(\"\\n--- Defining Personalized Prompt Template ---\")\n",
    "\n",
    "personalized_prompt_template = \"\"\"\n",
    "You are DiabetIQ, an AI assistant specializing in personalized diabetes management for patients in Bangladesh.\n",
    "Your advice must be based *strictly* on the provided Context Documents AND the User's Profile.\n",
    "Do *not* use any information external to these sources. Your knowledge is limited to the documents provided.\n",
    "\n",
    "User Profile:\n",
    "{user_profile_summary}\n",
    "\n",
    "Context Documents:\n",
    "{context}\n",
    "\n",
    "---\n",
    "Based *only* on the User Profile and the Context Documents above, answer the user's question.\n",
    "Frame your answer to be actionable and relevant to this specific user's situation (their type of diabetes, medications, goals, challenges, preferences) where appropriate based *only* on the provided context.\n",
    "Incorporate principles of health optimization and behavioral encouragement (e.g., acknowledge goals, suggest small steps relevant to challenges mentioned in profile, align with preferences if context allows).\n",
    "If the context documents do not contain information relevant to the user's specific profile details or the question asked, state that the documents don't cover that specific aspect.\n",
    "If the answer is not found in the context documents at all, state clearly that the information is not available in the provided documents.\n",
    "Always conclude your response by advising the user to consult their healthcare professional for personalized medical decisions, especially regarding diagnosis, treatment, or medication changes.\n",
    "\n",
    "Question: {question}\n",
    "\n",
    "Personalized Answer:\n",
    "\"\"\"\n",
    "\n",
    "personalized_prompt = PromptTemplate.from_template(personalized_prompt_template)\n",
    "print(\"Personalized prompt template created.\")"
   ]
  },
  {
   "cell_type": "code",
   "execution_count": 11,
   "id": "9dd3fe7f-195e-4ed1-be5b-3dfa90499617",
   "metadata": {},
   "outputs": [
    {
     "name": "stdout",
     "output_type": "stream",
     "text": [
      "\n",
      "--- Initializing LLM (Ollama - Mistral) ---\n",
      "Ollama LLM (Mistral) initialized.\n"
     ]
    }
   ],
   "source": [
    "print(\"\\n--- Initializing LLM (Ollama - Mistral) ---\")\n",
    "\n",
    "llm = OllamaLLM(model=\"mistral\")\n",
    "\n",
    "print(\"Ollama LLM (Mistral) initialized.\")"
   ]
  },
  {
   "cell_type": "code",
   "execution_count": 12,
   "id": "9ac49b1d-6aa7-4874-8459-e7a89b4f1226",
   "metadata": {},
   "outputs": [
    {
     "name": "stdout",
     "output_type": "stream",
     "text": [
      "\n",
      "--- Defining Document Formatting Function ---\n",
      "Function 'format_docs_with_metadata' defined.\n"
     ]
    }
   ],
   "source": [
    "print(\"\\n--- Defining Document Formatting Function ---\")\n",
    "\n",
    "def format_docs_with_metadata(docs):\n",
    "    \"\"\"Formats retrieved documents including source and page.\"\"\"\n",
    "    formatted_strings = []\n",
    "    if not docs:\n",
    "        return \"No relevant context documents found.\"\n",
    "    for i, doc in enumerate(docs):\n",
    "        \n",
    "        source = doc.metadata.get('source', 'N/A')\n",
    "        page = doc.metadata.get('page', 'N/A')\n",
    "        metadata_str = f\"Source: {source}, Page: {page}\"\n",
    "        content_str = doc.page_content.replace('\\n', ' ').strip()\n",
    "        formatted_strings.append(f\"{i+1}. [{metadata_str}] {content_str}\")\n",
    "    return \"\\n\\n\".join(formatted_strings)\n",
    "\n",
    "print(\"Function 'format_docs_with_metadata' defined.\")"
   ]
  },
  {
   "cell_type": "code",
   "execution_count": 13,
   "id": "6df2874f-c1bb-4c03-9cc8-f37ea4c7e283",
   "metadata": {},
   "outputs": [
    {
     "name": "stdout",
     "output_type": "stream",
     "text": [
      "\n",
      "--- Constructing Personalized RAG Chain ---\n",
      "Personalized RAG Chain constructed successfully.\n"
     ]
    }
   ],
   "source": [
    "print(\"\\n--- Constructing Personalized RAG Chain ---\")\n",
    "\n",
    "\n",
    "def prepare_rag_input(input_dict):\n",
    "    \"\"\"\n",
    "    Takes the initial input {'question': str, 'user_profile': dict}\n",
    "    and structures it for the RunnableParallel step.\n",
    "    \"\"\"\n",
    "    user_question = input_dict[\"question\"]\n",
    "    user_profile = input_dict.get(\"user_profile\", {}) \n",
    "    profile_summary = get_relevant_profile_info(user_profile, user_question)\n",
    "    return {\n",
    "        \"question\": user_question,\n",
    "        \"user_profile_summary\": profile_summary,\n",
    "        \"retriever_input\": user_question \n",
    "    }\n",
    "\n",
    "\n",
    "personalized_rag_chain = (\n",
    "    RunnableLambda(prepare_rag_input) \n",
    "    | RunnableParallel(\n",
    "        {\n",
    "           \n",
    "            \"context\": (lambda x: x['retriever_input']) | retriever | format_docs_with_metadata,\n",
    "            \n",
    "            \"question\": (lambda x: x['question']),\n",
    "            \n",
    "            \"user_profile_summary\": (lambda x: x['user_profile_summary'])\n",
    "        }\n",
    "    )\n",
    "    | personalized_prompt   \n",
    "    | llm                    \n",
    "    | StrOutputParser()      \n",
    ")\n",
    "\n",
    "print(\"Personalized RAG Chain constructed successfully.\")"
   ]
  },
  {
   "cell_type": "code",
   "execution_count": 14,
   "id": "31763ea2-459d-4bba-844a-db2ef93412c6",
   "metadata": {},
   "outputs": [
    {
     "name": "stdout",
     "output_type": "stream",
     "text": [
      "\n",
      "--- Querying Personalized RAG Chain ---\n",
      "User: Ahmed Khan (ID: user123)\n",
      "Question: I'm finding it hard to avoid snacks at night because of my evening Gliclazide. What dietary advice from the documents can help me manage this and lower my A1C, considering I like chicken and fish?\n",
      "\n",
      "Personalized Response:\n",
      " Based on your profile and the provided context documents, here are some actionable steps to help you manage your snacking habits at night while trying to lower your A1C levels.\n",
      "\n",
      "1. Balanced Meals: Ensure your meals throughout the day are balanced and nutritious, focusing on lean proteins such as chicken and fish, whole grains, fruits, and vegetables. This can help keep you full and reduce the urge for late-night snacks.\n",
      "\n",
      "2. Portion Control: Pay attention to portion sizes during meals to avoid overeating and prevent excessive blood sugar spikes.\n",
      "\n",
      "3. Timing of Meals: Try to have your dinner at least 2-3 hours before bedtime to give your body ample time to digest the food properly and regulate blood sugar levels.\n",
      "\n",
      "4. Healthy Snacks: If you find it difficult to resist snacking, opt for healthy choices like low-carb fruits (berries) or vegetables with hummus, plain Greek yogurt, or a handful of nuts.\n",
      "\n",
      "5. Regular Exercise: Incorporating physical activity into your daily routine can help manage blood sugar levels and reduce cravings for unhealthy snacks. Aim for at least 30 minutes of moderate-intensity exercise most days of the week.\n",
      "\n",
      "6. Gliclazide Management: The context documents suggest that it's crucial to maintain consistent glucose control with COVID-19, so try to take your evening Gliclazide as prescribed and in consultation with your healthcare professional. If you find that it affects your appetite or sleep patterns, discuss this with them to explore potential adjustments.\n",
      "\n",
      "7. Monitor Blood Sugar Levels: Regularly monitor your blood sugar levels using a glucose meter, especially around meal times and before bedtime. This will help you understand how certain foods affect your blood sugar and make appropriate adjustments in your diet.\n",
      "\n",
      "8. Seek Professional Guidance: Consult your healthcare professional for personalized dietary advice based on your specific needs, medications, and health goals. They can provide more detailed guidance on managing your diabetes and optimizing your diet to help lower your A1C levels effectively.\n",
      "\n",
      "--- Second Query Example ---\n",
      "User: Ahmed Khan (ID: user123)\n",
      "Question: Based on the BADAS guideline, what should I know about starting insulin if I have Type 2 diabetes?\n",
      "\n",
      "Personalized Response:\n",
      " According to the BADAS Guideline 2019 document you provided, the use of insulin in Type 2 Diabetes may be considered when oral anti-diabetic drugs (OADs) are no longer effective in controlling blood glucose levels. However, the specific type and dosage of insulin would depend on your individual condition and requirements.\n",
      "\n",
      "Since you are currently taking Metformin and Gliclazide, it seems that these medications are still managing your blood sugar levels effectively. The BADAS Guideline 2019 suggests that if the person is on OADs like you, the dose may need to be readjusted when controlling blood glucose becomes challenging. Therefore, I encourage you to continue taking your prescribed medications and maintain regular contact with your healthcare professional for any necessary adjustments or monitoring.\n",
      "\n",
      "If your A1C level remains high despite medication adjustment, your doctor might consider adding insulin therapy to help further manage your blood sugar levels. In such a case, your healthcare provider will guide you on the appropriate type of insulin (intermediate or long-acting) and how it should be administered, including any necessary adjustments for food intake and blood glucose values.\n",
      "\n",
      "It's important to remember that starting insulin therapy is usually a gradual process, and your healthcare team will work with you to make the transition as smooth as possible. As always, consult your healthcare professional for personalized medical decisions regarding your diabetes management.\n"
     ]
    }
   ],
   "source": [
    "print(\"\\n--- Querying Personalized RAG Chain ---\")\n",
    "\n",
    "\n",
    "question = \"I'm finding it hard to avoid snacks at night because of my evening Gliclazide. What dietary advice from the documents can help me manage this and lower my A1C, considering I like chicken and fish?\"\n",
    "current_user_profile = user_profile_example \n",
    "\n",
    "print(f\"User: {current_user_profile.get('name', 'N/A')} (ID: {current_user_profile.get('user_id', 'N/A')})\")\n",
    "print(f\"Question: {question}\")\n",
    "\n",
    "try:\n",
    "    \n",
    "    response = personalized_rag_chain.invoke({\n",
    "        \"question\": question,\n",
    "        \"user_profile\": current_user_profile\n",
    "    })\n",
    "    print(\"\\nPersonalized Response:\")\n",
    "    print(response)\n",
    "\n",
    "except Exception as e:\n",
    "    print(f\"\\nError during personalized RAG chain invocation: {e}\")\n",
    "\n",
    "print(\"\\n--- Second Query Example ---\")\n",
    "question_2 = \"Based on the BADAS guideline, what should I know about starting insulin if I have Type 2 diabetes?\"\n",
    "print(f\"User: {current_user_profile.get('name', 'N/A')} (ID: {current_user_profile.get('user_id', 'N/A')})\")\n",
    "print(f\"Question: {question_2}\")\n",
    "\n",
    "try:\n",
    "    \n",
    "    response_2 = personalized_rag_chain.invoke({\n",
    "        \"question\": question_2,\n",
    "        \"user_profile\": current_user_profile\n",
    "    })\n",
    "    print(\"\\nPersonalized Response:\")\n",
    "    print(response_2)\n",
    "\n",
    "except Exception as e:\n",
    "    print(f\"\\nError during personalized RAG chain invocation: {e}\")"
   ]
  },
  {
   "cell_type": "code",
   "execution_count": 20,
   "id": "bf361e6b-0f6a-4e34-b47b-7bc8af091938",
   "metadata": {},
   "outputs": [
    {
     "ename": "ImportError",
     "evalue": "cannot import name 'Ollama' from 'deepeval.models' (F:\\DiabetIQ\\my_env\\Lib\\site-packages\\deepeval\\models\\__init__.py)",
     "output_type": "error",
     "traceback": [
      "\u001b[31m---------------------------------------------------------------------------\u001b[39m",
      "\u001b[31mImportError\u001b[39m                               Traceback (most recent call last)",
      "\u001b[36mCell\u001b[39m\u001b[36m \u001b[39m\u001b[32mIn[20]\u001b[39m\u001b[32m, line 4\u001b[39m\n\u001b[32m      2\u001b[39m \u001b[38;5;28;01mfrom\u001b[39;00m\u001b[38;5;250m \u001b[39m\u001b[34;01mdeepeval\u001b[39;00m\u001b[38;5;250m \u001b[39m\u001b[38;5;28;01mimport\u001b[39;00m evaluate\n\u001b[32m      3\u001b[39m \u001b[38;5;28;01mfrom\u001b[39;00m\u001b[38;5;250m \u001b[39m\u001b[34;01mdeepeval\u001b[39;00m\u001b[34;01m.\u001b[39;00m\u001b[34;01mtest_case\u001b[39;00m\u001b[38;5;250m \u001b[39m\u001b[38;5;28;01mimport\u001b[39;00m LLMTestCaseParams\n\u001b[32m----> \u001b[39m\u001b[32m4\u001b[39m \u001b[38;5;28;01mfrom\u001b[39;00m\u001b[38;5;250m \u001b[39m\u001b[34;01mdeepeval\u001b[39;00m\u001b[34;01m.\u001b[39;00m\u001b[34;01mmodels\u001b[39;00m\u001b[38;5;250m \u001b[39m\u001b[38;5;28;01mimport\u001b[39;00m Ollama\n\u001b[32m      5\u001b[39m \u001b[38;5;28;01mfrom\u001b[39;00m\u001b[38;5;250m \u001b[39m\u001b[34;01mdeepeval\u001b[39;00m\u001b[34;01m.\u001b[39;00m\u001b[34;01mmetrics\u001b[39;00m\u001b[38;5;250m \u001b[39m\u001b[38;5;28;01mimport\u001b[39;00m AnswerRelevancyMetric, FaithfulnessMetric\n\u001b[32m      6\u001b[39m \u001b[38;5;28;01mfrom\u001b[39;00m\u001b[38;5;250m \u001b[39m\u001b[34;01mlangchain_core\u001b[39;00m\u001b[34;01m.\u001b[39;00m\u001b[34;01mrunnables\u001b[39;00m\u001b[38;5;250m \u001b[39m\u001b[38;5;28;01mimport\u001b[39;00m RunnableLambda, RunnableParallel\n",
      "\u001b[31mImportError\u001b[39m: cannot import name 'Ollama' from 'deepeval.models' (F:\\DiabetIQ\\my_env\\Lib\\site-packages\\deepeval\\models\\__init__.py)"
     ]
    }
   ],
   "source": [
    "import os\n",
    "from deepeval import evaluate\n",
    "from deepeval.test_case import LLMTestCaseParams\n",
    "from deepeval.models import Ollama\n",
    "from deepeval.metrics import AnswerRelevancyMetric, FaithfulnessMetric\n",
    "from langchain_core.runnables import RunnableLambda, RunnableParallel\n",
    "from deepeval.models import OllamaModel"
   ]
  },
  {
   "cell_type": "code",
   "execution_count": null,
   "id": "db2631c1-04cc-413b-b14c-21754ed0d634",
   "metadata": {},
   "outputs": [],
   "source": [
    "print(\"--- DeepEval Imports and Setup ---\")\n",
    "print(\"Ensure Ollama server is running with the 'llama3.2' model available.\")\n",
    "\n",
    "\n",
    "required_vars = ['retriever', 'format_docs_with_metadata', 'personalized_rag_chain', 'prepare_rag_input', 'user_profile_example']\n",
    "missing_vars = [var for var in required_vars if var not in globals()]\n",
    "if missing_vars:\n",
    "    # Attempt to define the context retrieval chain helper again, in case it's missing\n",
    "    # but its components exist\n",
    "    if 'retriever' in globals() and 'format_docs_with_metadata' in globals() and 'prepare_rag_input' in globals():\n",
    "         print(\"Attempting to redefine context_retrieval_chain...\")\n",
    "         context_retrieval_chain = (\n",
    "             RunnableLambda(prepare_rag_input)\n",
    "             | RunnableParallel(\n",
    "                 {\n",
    "                     \"retrieved_docs\": (lambda x: x['retriever_input']) | retriever,\n",
    "                     \"passthrough\": (lambda x: x)\n",
    "                 }\n",
    "               )\n",
    "             | RunnableLambda(lambda x: {\n",
    "                     \"formatted_context\": format_docs_with_metadata(x['retrieved_docs']),\n",
    "                     \"original_input\": x['passthrough']\n",
    "                 })\n",
    "         )\n",
    "         print(\"Context retrieval chain redefined.\")\n",
    "         # Re-check missing vars\n",
    "         required_vars = ['retriever', 'format_docs_with_metadata', 'personalized_rag_chain', 'prepare_rag_input', 'user_profile_example', 'context_retrieval_chain']\n",
    "         missing_vars = [var for var in required_vars if var not in globals()]\n",
    "         if missing_vars:\n",
    "              raise NameError(f\"Still missing required variables: {', '.join(missing_vars)}. Please ensure all setup cells from the RAG notebook ran successfully.\")\n",
    "    else:\n",
    "          raise NameError(f\"Missing required variables from previous cells: {', '.join(missing_vars)}. Please run the setup cells first.\")\n",
    "else:\n",
    "    print(\"Required RAG components found in the environment.\")\n",
    "    # Define context_retrieval_chain here if all components are present initially\n",
    "    context_retrieval_chain = (\n",
    "        RunnableLambda(prepare_rag_input)\n",
    "        | RunnableParallel(\n",
    "            {\n",
    "                \"retrieved_docs\": (lambda x: x['retriever_input']) | retriever,\n",
    "                \"passthrough\": (lambda x: x)\n",
    "            }\n",
    "          )\n",
    "        | RunnableLambda(lambda x: {\n",
    "                \"formatted_context\": format_docs_with_metadata(x['retrieved_docs']),\n",
    "                \"original_input\": x['passthrough']\n",
    "            })\n",
    "    )\n",
    "    print(\"Context retrieval chain helper defined.\")"
   ]
  }
 ],
 "metadata": {
  "kernelspec": {
   "display_name": "Python 3 (ipykernel)",
   "language": "python",
   "name": "python3"
  },
  "language_info": {
   "codemirror_mode": {
    "name": "ipython",
    "version": 3
   },
   "file_extension": ".py",
   "mimetype": "text/x-python",
   "name": "python",
   "nbconvert_exporter": "python",
   "pygments_lexer": "ipython3",
   "version": "3.13.3"
  }
 },
 "nbformat": 4,
 "nbformat_minor": 5
}
