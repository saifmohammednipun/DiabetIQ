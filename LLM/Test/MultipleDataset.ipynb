{
 "cells": [
  {
   "cell_type": "markdown",
   "id": "13de130e-a606-47a9-b4eb-eec8acfca3aa",
   "metadata": {},
   "source": [
    "### Environment Setup"
   ]
  },
  {
   "cell_type": "code",
   "execution_count": 1,
   "id": "7a70fb33-d7ae-418d-b9e4-0d92e5a04770",
   "metadata": {},
   "outputs": [],
   "source": [
    "import os\n",
    "from dotenv import load_dotenv\n",
    "\n",
    "# Load environment variables from the .env file\n",
    "load_dotenv()\n",
    "\n",
    "# Ensure the environment variables are set\n",
    "langchain_api_key = os.getenv('LANGCHAIN_API_KEY')\n",
    "huggingface_api_key = os.getenv('HUGGINGFACE_API_KEY')\n",
    "\n",
    "# Set environment variables for the application\n",
    "os.environ['LANGCHAIN_TRACING_V2'] = 'true'\n",
    "os.environ['LANGCHAIN_API_KEY'] = langchain_api_key\n",
    "os.environ['HUGGINGFACE_API_KEY'] = huggingface_api_key"
   ]
  },
  {
   "cell_type": "code",
   "execution_count": 2,
   "id": "7a0a1798-255b-4cb5-bd4a-2e428dad55f5",
   "metadata": {},
   "outputs": [],
   "source": [
    "import bs4\n",
    "from langchain import hub\n",
    "from langchain.text_splitter import RecursiveCharacterTextSplitter\n",
    "from langchain_community.document_loaders import PyPDFLoader\n",
    "from langchain_community.vectorstores import Chroma\n",
    "from langchain_core.output_parsers import StrOutputParser\n",
    "from langchain_core.runnables import RunnablePassthrough\n",
    "from langchain_huggingface import HuggingFaceEmbeddings\n",
    "from langchain_ollama import OllamaLLM"
   ]
  },
  {
   "cell_type": "markdown",
   "id": "027d88bd-d34f-47a5-bc01-f819f86c59ae",
   "metadata": {},
   "source": [
    "## Load Multiple PDF Documents"
   ]
  },
  {
   "cell_type": "code",
   "execution_count": 3,
   "id": "119dd4d8-3e44-4b76-98d5-b79461bceb30",
   "metadata": {},
   "outputs": [
    {
     "name": "stdout",
     "output_type": "stream",
     "text": [
      "Text from E:\\CSE299-Junior-Design-Project\\LLM-1\\PDFs\\Diabetes_Care_BADAS_guideline2019-3.pdf (first 500 chars):\n",
      "   \n",
      "DIABETES CARE \n",
      "BADAS Guideline 2019 \n",
      "    \n",
      "  \n",
      "    \n",
      "  \n",
      "   \n",
      "  \n",
      "   \n",
      "P|) DAS GUELINE ON Man \n",
      "DELIT \n",
      "IGEMEN \n",
      "  \n",
      "A Joint Initiative of \n",
      "Diabetic Association of Bangladesh \n",
      "NCDC Program, Directorate General of Health Services\n",
      "  \n",
      "  \n",
      "DIABETES CARE \n",
      "BADAS Guideline 2019 \n",
      "  \n",
      "A Joint Initiative of \n",
      "Diabetic Association of Bangladesh \n",
      "NCDC Program, Directorate General of Health Services \n",
      "  \n",
      "Diabetes Care: BADAS Guideline 2019 HEI! \n",
      "1 \n",
      " \n",
      "  \n",
      "  \n",
      "  \n",
      "DIABETES CARE: BADAS GUIDELINE 2019 \n",
      "Convener: Prof A K Azad  \n",
      "==================================================\n",
      "Text from E:\\CSE299-Junior-Design-Project\\LLM-1\\PDFs\\Insulin-Guideline-min.pdf (first 500 chars):\n",
      " Bangladesh Endocrine Society (BES)\n",
      "Insulin Guideline\n",
      "First Edition 2018\n",
      "Reprint 2019\n",
      "All rights reserved by: Bangladesh Endocrine Society (BES)\n",
      "Published by\n",
      "Bangladesh Endocrine Society (BES)\n",
      "Website: http://bes-org.net\n",
      "E-mail: endobd2012@gmail.com\n",
      "Bangladesh Endocrine Society (BES) Insulin Guideline\n",
      "First Edition 2018\n",
      "Published\n",
      "02 November 2018, Dhaka, Bangladesh\n",
      "Reprint 2019\n",
      "BES Insulin Guideline Task Force\n",
      "Convener: Dr. Md. Fariduddin\n",
      "Member Secretary: Dr. Shahjada Selim\n",
      "Members:\n",
      "Dr. Tareen A \n",
      "==================================================\n",
      "Text from E:\\CSE299-Junior-Design-Project\\LLM-1\\PDFs\\Textbook-of-Diabetes-2024.pdf (first 500 chars):\n",
      " Textbook of Diabetes\n",
      "﻿\n",
      "We dedicate this book to all people living with diabetes and the healthcare professionals \n",
      "who look after them. We would also like to dedicate this book to our families, without \n",
      "whose support and encouragement the book would never have been finished.\n",
      "Textbook of \n",
      "Diabetes\n",
      "EDITED BY\n",
      "RICHARD I.G. HOLT MA, MB BChir, PhD, FRCP, FHEA\n",
      "Professor in Diabetes & Endocrinology\n",
      "Human Development and Health\n",
      "Faculty of Medicine, University of Southampton\n",
      "Southampton, UK\n",
      "Honorary Consul \n",
      "==================================================\n"
     ]
    }
   ],
   "source": [
    "import fitz  # PyMuPDF\n",
    "\n",
    "pdf_files = [\"E:\\CSE299-Junior-Design-Project\\LLM-1\\PDFs\\Diabetes_Care_BADAS_guideline2019-3.pdf\", \n",
    "             \"E:\\CSE299-Junior-Design-Project\\LLM-1\\PDFs\\Insulin-Guideline-min.pdf\", \n",
    "             \"E:\\CSE299-Junior-Design-Project\\LLM-1\\PDFs\\Textbook-of-Diabetes-2024.pdf\"]  \n",
    "pdf_texts = []\n",
    "\n",
    "for pdf in pdf_files:\n",
    "    doc = fitz.open(pdf)\n",
    "    text = \"\"\n",
    "\n",
    "    for page in doc:\n",
    "        text += page.get_text()\n",
    "\n",
    "    pdf_texts.append(text)  # Store extracted text\n",
    "\n",
    "# Print only the first 500 characters of each PDF\n",
    "for idx, text in enumerate(pdf_texts, start=1):\n",
    "    print(f\"Text from {pdf_files[idx-1]} (first 500 chars):\\n\", text[:500], \"\\n\" + \"=\"*50)"
   ]
  },
  {
   "cell_type": "markdown",
   "id": "ce143774-7f28-460a-b06c-be00dfb5f650",
   "metadata": {},
   "source": [
    "### Split All the Documents into Chunks"
   ]
  },
  {
   "cell_type": "code",
   "execution_count": 4,
   "id": "bbb701b2-a6ff-4975-a5c3-1339840cc347",
   "metadata": {},
   "outputs": [
    {
     "name": "stdout",
     "output_type": "stream",
     "text": [
      "\n",
      "--- Chunk 1 ---\n",
      "DIABETES CARE \n",
      "BADAS Guideline 2019 \n",
      "    \n",
      "  \n",
      "    \n",
      "  \n",
      "   \n",
      "  \n",
      "   \n",
      "P|) DAS GUELINE ON Man \n",
      "DELIT \n",
      "IGEMEN \n",
      "  \n",
      "A Joint Initiative of \n",
      "Diabetic Association of Bangladesh \n",
      "NCDC Program, Directorate General of Health Services\n",
      "  \n",
      "  \n",
      "DIABETES CARE \n",
      "BADAS Guideline 2019 \n",
      "  \n",
      "A Joint Initiative of \n",
      "Diabetic Association of Bangladesh \n",
      "NCDC Program, Directorate General of Health Services \n",
      "  \n",
      "Diabetes Care: BADAS Guideline 2019 HEI! \n",
      "1 \n",
      " \n",
      "  \n",
      "  \n",
      "  \n",
      "DIABETES CARE: BADAS GUIDELINE 2019 \n",
      "Convener: Prof A K Azad Khan \n",
      "Chairman: Prof Hajera Mahtab \n",
      "Members of the steering committee \n",
      "Prof Dr AHM Enayet Hossain \n",
      "Prof Akhtar Hussain \n",
      "Prof Zafar Anmed Latif \n",
      "Prof Tofail Ahmed \n",
      "Prof Laique Ahmed Khan \n",
      "Prof Nazrul Islam Siddiqui \n",
      "Prof Md Hafizur Rahman \n",
      "Prof Abdus Saleque Mollah \n",
      "Prof Md Farid Uddin \n",
      "Prof M A Jalil Ansary \n",
      "Prof Dr MA Samad \n",
      "Prof SM Ashrafuzzaman \n",
      "Prof MA Hasnat \n",
      "Dr Kazi Ali Hassan \n",
      "Dr Abdul Mannan Sarker \n",
      "Members of the Task Force \n",
      "Prof Md Faruque Pathan \n",
      "Dr Tareen Ahmed \n",
      "Dr Md Feroz Amin\n",
      "\n",
      "----------------------------------------------------------------------\n",
      "\n",
      "\n",
      "--- Chunk 2 ---\n",
      "Prof Dr MA Samad \n",
      "Prof SM Ashrafuzzaman \n",
      "Prof MA Hasnat \n",
      "Dr Kazi Ali Hassan \n",
      "Dr Abdul Mannan Sarker \n",
      "Members of the Task Force \n",
      "Prof Md Faruque Pathan \n",
      "Dr Tareen Ahmed \n",
      "Dr Md Feroz Amin \n",
      "Dr Faria Afsana \n",
      "Dr Bishwajit Bhowmik \n",
      "Dr Nazmul Kabir Qureshi \n",
      "Dr Indrajit Prasad \n",
      "Dr Tanjina Hossain \n",
      "Dr Shahjada Selim \n",
      "Dr M Saifuddin \n",
      "Dr Tasnima Siddiquee \n",
      "Dr Abdul Alim \n",
      "Published \n",
      "November 2019 \n",
      "Correspondence \n",
      "Diabetic Association of Bangladesh \n",
      "122 Kazi Nazrul Islam Avenue, Dhaka 1000, Bangladesh \n",
      "Design and layout \n",
      "Liason Office,122 Kazi Nazrul Islam avenue, Shabag, Dhaka \n",
      "Printing \n",
      "BADAS-RVTC Printing Press \n",
      "477 Medical Road, Jurain, Dhaka 1204, Bangladesh \n",
      "  \n",
      "Unrestricted Educational Grant from Novo Nordisk (Pvt) Limited \n",
      "  \n",
      "2 \n",
      "\\l§8 Diabetes Care: BADAS Guideline 2019\n",
      "  \n",
      "President \n",
      "  \n",
      "Diabetic Association of Bangladesh \n",
      "Message \n",
      "It gives me immense pleasure to know that BADAS is publishing country’s first \n",
      "diabetes care guideline. \n",
      "| express my heartfelt thanks to all the members of the\n",
      "\n",
      "----------------------------------------------------------------------\n",
      "\n",
      "\n",
      "--- Chunk 3 ---\n",
      "Message \n",
      "It gives me immense pleasure to know that BADAS is publishing country’s first \n",
      "diabetes care guideline. \n",
      "| express my heartfelt thanks to all the members of the \n",
      "taskforce team and expert committee for putting their effort to develop the guide- \n",
      "line. \n",
      "World is suffering from an epidemic of diabetes and this epidemic is rising faster in \n",
      "developing countries like Bangladesh; hence number of increasing patients need \n",
      "to get access to quality care for getting optimal control. It is well known that to \n",
      "ensure quality care competence building of physician is an utmost need. \n",
      "| believe \n",
      "this guideline will help the physician to choose the right regimen for treating the \n",
      "diabetic patients properly. In this regard \n",
      "| like to thank NCDC Program, Directorate \n",
      "General of Health Services for their support in developing this guideline. \n",
      "Based on this guideline we are also developing an app-based treatment approach\n",
      "\n",
      "----------------------------------------------------------------------\n",
      "\n"
     ]
    }
   ],
   "source": [
    "# Combine all texts into one large document\n",
    "full_text = \"\\n\".join(pdf_texts)\n",
    "\n",
    "# Split the text into chunks\n",
    "text_splitter = RecursiveCharacterTextSplitter(chunk_size=1000, chunk_overlap=200)\n",
    "chunks = text_splitter.split_text(full_text)\n",
    "\n",
    "# Display first 3 chunks\n",
    "for i, chunk in enumerate(chunks[:3]):  \n",
    "    print(f\"\\n--- Chunk {i+1} ---\")\n",
    "    print(chunk[:1000])  # Print first 1000 characters of the chunk\n",
    "    print(\"\\n\" + \"-\" * 70 + \"\\n\")"
   ]
  },
  {
   "cell_type": "markdown",
   "id": "b2207c11-ff21-4a9f-9456-2d0bf438f76a",
   "metadata": {},
   "source": [
    "## Embedding"
   ]
  },
  {
   "cell_type": "code",
   "execution_count": 5,
   "id": "45804b75-975a-41aa-9fd4-f5244a262680",
   "metadata": {},
   "outputs": [],
   "source": [
    "# Step 3: Generate embeddings using HuggingFace\n",
    "embedding_model = HuggingFaceEmbeddings(model_name=\"intfloat/e5-small-v2\")\n",
    "\n",
    "# Step 4: Store chunks in ChromaDB\n",
    "vectorstore = Chroma.from_texts(chunks, embedding=embedding_model)\n",
    "\n",
    "# Step 5: Create a retriever\n",
    "retriever = vectorstore.as_retriever()"
   ]
  },
  {
   "cell_type": "markdown",
   "id": "8ecfc028-85ac-43bc-b3c8-65ce73e7d9d1",
   "metadata": {},
   "source": [
    "## Chatbot Prompt & LLM Model"
   ]
  },
  {
   "cell_type": "code",
   "execution_count": 6,
   "id": "a1e4597c-1b9b-44e3-8079-3a7bc7671db3",
   "metadata": {},
   "outputs": [],
   "source": [
    "from langchain_core.prompts import PromptTemplate\n",
    "\n",
    "# Prompt\n",
    "prompt = PromptTemplate.from_template(\"\"\"\n",
    "You are a diabetes assistant for patients in Bangladesh. Provide concise, textbook-based advice on diabetes management. \n",
    "Keep responses short, direct, and actionable. Consider local diet, lifestyle, and healthcare practices. Avoid unnecessary details. \n",
    "If medical consultation is needed, advise accordingly.\n",
    "\"\"\")\n",
    "\n",
    "# LLM\n",
    "llm = OllamaLLM(model=\"mistral\")"
   ]
  },
  {
   "cell_type": "code",
   "execution_count": 7,
   "id": "4c64258d-829d-4f44-a968-3d6dcf4bb62f",
   "metadata": {},
   "outputs": [],
   "source": [
    "# Post-processing\n",
    "def format_docs(docs):\n",
    "    return \"\\n\".join(f\"{i+1}. {doc.page_content.strip()}\" for i, doc in enumerate(docs))"
   ]
  },
  {
   "cell_type": "markdown",
   "id": "4b855612-55a0-487c-81b1-902b16627efb",
   "metadata": {},
   "source": [
    "## Retrival & Generation"
   ]
  },
  {
   "cell_type": "code",
   "execution_count": 8,
   "id": "792f3d6a-f6ec-413a-a6d9-a3af50a8cb64",
   "metadata": {},
   "outputs": [],
   "source": [
    "from langchain.schema.runnable import RunnableMap\n",
    "\n",
    "# Chain\n",
    "rag_chain = (\n",
    "    RunnableMap({\"context\": retriever | format_docs, \"question\": RunnablePassthrough()})\n",
    "    | prompt\n",
    "    | llm\n",
    "    | StrOutputParser()\n",
    ")"
   ]
  },
  {
   "cell_type": "code",
   "execution_count": 9,
   "id": "a5ff8f1b-72e2-4d0f-b62a-a15a1841c884",
   "metadata": {},
   "outputs": [
    {
     "data": {
      "text/plain": [
       "\"1. Maintain a balanced diet: Include foods rich in fiber (e.g., whole grains, fruits, vegetables), lean proteins (fish, chicken), and healthy fats (nuts, avocado) while limiting sugary drinks, processed foods, and high-fat content items.\\n  2. Regular exercise: Aim for 30 minutes of moderate-intensity physical activity at least five days a week. This can include walking, cycling, or swimming.\\n  3. Monitor blood sugar levels: Check your blood glucose regularly as prescribed by your healthcare provider.\\n  4. Take medications as directed: If you're on insulin or oral diabetes medication, make sure to take it exactly as prescribed and never skip doses.\\n  5. Regular check-ups: Visit your doctor regularly for routine check-ups to manage your diabetes effectively and prevent complications.\\n  6. Control HbA1c levels: Strive to maintain an HbA1c level of less than 7%. Consult a healthcare professional if you struggle with this goal.\\n  7. Manage stress: High stress can affect blood sugar levels. Engage in relaxation techniques like meditation, yoga, or deep breathing exercises to manage stress effectively.\\n  8. Monitor feet and check for sores or wounds daily: Diabetes increases the risk of foot complications, so it's essential to keep your feet clean and dry and monitor them regularly.\\n  9. Keep track of kidney function: Regularly test for microalbuminuria (a sign of early kidney damage), and maintain good control of blood sugar and blood pressure to protect your kidneys.\\n  10. Maintain a healthy lifestyle: Quit smoking, limit alcohol intake, and try to get adequate sleep each night. All these factors can impact diabetes management.\""
      ]
     },
     "execution_count": 9,
     "metadata": {},
     "output_type": "execute_result"
    }
   ],
   "source": [
    "# Question\n",
    "rag_chain.invoke(\"How can I control my blood sugar level?\")"
   ]
  }
 ],
 "metadata": {
  "kernelspec": {
   "display_name": "Python 3 (ipykernel)",
   "language": "python",
   "name": "python3"
  },
  "language_info": {
   "codemirror_mode": {
    "name": "ipython",
    "version": 3
   },
   "file_extension": ".py",
   "mimetype": "text/x-python",
   "name": "python",
   "nbconvert_exporter": "python",
   "pygments_lexer": "ipython3",
   "version": "3.11.2"
  }
 },
 "nbformat": 4,
 "nbformat_minor": 5
}
