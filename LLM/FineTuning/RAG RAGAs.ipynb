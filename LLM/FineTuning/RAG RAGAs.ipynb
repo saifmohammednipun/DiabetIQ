{
 "cells": [
  {
   "cell_type": "code",
   "execution_count": 1,
   "id": "fe94fc57-e49e-4e90-8ec5-8e9e43adcfe6",
   "metadata": {},
   "outputs": [],
   "source": [
    "import os\n",
    "from dotenv import load_dotenv\n",
    "\n",
    "load_dotenv()\n",
    "langchain_api_key = os.getenv('LANGCHAIN_API_KEY')\n",
    "huggingface_api_key = os.getenv('HUGGINGFACE_API_KEY')\n",
    "os.environ['LANGCHAIN_TRACING_V2'] = 'true'\n",
    "os.environ['LANGCHAIN_API_KEY'] = langchain_api_key\n",
    "os.environ['HUGGINGFACE_API_KEY'] = huggingface_api_key"
   ]
  },
  {
   "cell_type": "code",
   "execution_count": 2,
   "id": "6571d4e5-1000-4417-93c7-b7a291ae31e9",
   "metadata": {},
   "outputs": [],
   "source": [
    "from langchain import hub\n",
    "from langchain.text_splitter import RecursiveCharacterTextSplitter\n",
    "from langchain_community.document_loaders import PyPDFLoader # Use this\n",
    "from langchain_community.vectorstores import Chroma\n",
    "from langchain_core.output_parsers import StrOutputParser\n",
    "from langchain_core.runnables import RunnablePassthrough\n",
    "from langchain_huggingface import HuggingFaceEmbeddings\n",
    "from langchain_ollama import OllamaLLM\n",
    "from langchain_core.documents import Document"
   ]
  },
  {
   "cell_type": "code",
   "execution_count": 3,
   "id": "67cb15a5-0068-4956-ab0f-09fb719d0bd6",
   "metadata": {},
   "outputs": [
    {
     "name": "stdout",
     "output_type": "stream",
     "text": [
      "Loading and Processing PDFs...\n",
      "-> Loading: BES-COVID-Pract-Recomnd-06-June-Final-Copy.pdf\n",
      "   Loaded 38 pages.\n",
      "-> Loading: BES-Ramadan-Guideline-2020-min.pdf\n",
      "   Loaded 46 pages.\n",
      "-> Loading: Diabetes_Care_BADAS_guideline2019-3.pdf\n",
      "   Loaded 79 pages.\n",
      "-> Loading: Insulin-Guideline-min.pdf\n",
      "   Loaded 93 pages.\n",
      "\n",
      "Total documents loaded: 256\n",
      "\n",
      "Sample Document Metadata (first doc):\n",
      "{'producer': 'Nitro PDF PrimoPDF', 'creator': 'PrimoPDF http://www.primopdf.com', 'creationdate': '2020-06-07T20:17:39-06:00', 'moddate': '2020-06-07T20:17:39-06:00', 'title': 'Microsoft Word - BES COVID Pract Recomnd 06 June Final Copy', 'author': 'Mir', 'source': 'BES-COVID-Pract-Recomnd-06-June-Final-Copy.pdf', 'total_pages': 38, 'page': 0, 'page_label': '1'}\n",
      "\n",
      "Sample Document Content (first 500 chars of first doc):\n",
      "Bangladesh Endocrine Society (BES) \n",
      "Practical Recommendations for Management of \n",
      "Diabetes and Other Endocrine Diseases in Patients with \n",
      "COVID-19 \n",
      " \n",
      " \n",
      " \n",
      " \n",
      " \n",
      "Published Online June 2020 \n",
      " \n",
      " \n",
      "All rights reserved by: Bangladesh Endocrine Society (BES) \n",
      " \n",
      " \n",
      "Published by \n",
      "Bangladesh Endocrine Society (BES) \n",
      "Website: http://bes-org.net \n",
      "E-mail: \n",
      "endobd2012@gmail.com\n"
     ]
    }
   ],
   "source": [
    "pdf_files = [\n",
    "    r\"F:\\DiabetIQ\\LLM\\PDFs\\BES-COVID-Pract-Recomnd-06-June-Final-Copy.pdf\",\n",
    "    r\"F:\\DiabetIQ\\LLM\\PDFs\\BES-Ramadan-Guideline-2020-min.pdf\",\n",
    "    r\"F:\\DiabetIQ\\LLM\\PDFs\\Diabetes_Care_BADAS_guideline2019-3.pdf\",\n",
    "    r\"F:\\DiabetIQ\\LLM\\PDFs\\Insulin-Guideline-min.pdf\"\n",
    "]\n",
    "\n",
    "all_docs = [] # Will store LangChain Document objects\n",
    "\n",
    "print(\"Loading and Processing PDFs...\")\n",
    "for pdf_path in pdf_files:\n",
    "    try:\n",
    "        # Extract filename for metadata\n",
    "        file_name = os.path.basename(pdf_path)\n",
    "        print(f\"-> Loading: {file_name}\")\n",
    "\n",
    "        loader = PyPDFLoader(pdf_path)\n",
    "        # Load pages as individual documents. Each doc will have metadata['page']\n",
    "        pages = loader.load_and_split() # This does basic splitting\n",
    "\n",
    "        # Add source filename to metadata for each page/document\n",
    "        for page_doc in pages:\n",
    "            page_doc.metadata['source'] = file_name\n",
    "            # Optional: clean up page content slightly if needed\n",
    "            # page_doc.page_content = page_doc.page_content.replace('\\n', ' ').strip()\n",
    "\n",
    "        all_docs.extend(pages)\n",
    "        print(f\"   Loaded {len(pages)} pages.\")\n",
    "\n",
    "    except Exception as e:\n",
    "        print(f\"Error loading {pdf_path}: {e}\")\n",
    "\n",
    "print(f\"\\nTotal documents loaded: {len(all_docs)}\")\n",
    "if all_docs:\n",
    "    print(\"\\nSample Document Metadata (first doc):\")\n",
    "    print(all_docs[0].metadata)\n",
    "    print(\"\\nSample Document Content (first 500 chars of first doc):\")\n",
    "    print(all_docs[0].page_content[:500])\n",
    "else:\n",
    "    print(\"\\nNo documents were loaded successfully.\")\n",
    "    # Consider exiting or handling this error appropriately\n",
    "    exit()"
   ]
  },
  {
   "cell_type": "code",
   "execution_count": 4,
   "id": "13b6bca3-15ae-4d7b-bcb5-cb7d920adb18",
   "metadata": {},
   "outputs": [],
   "source": [
    "text_splitter = RecursiveCharacterTextSplitter(\n",
    "    chunk_size=1000,\n",
    "    chunk_overlap=200,\n",
    "    # Keep separators that make sense for text structure\n",
    "    separators=[\"\\n\\n\", \"\\n\", \". \", \", \", \" \", \"\"],\n",
    "    length_function=len,\n",
    ")"
   ]
  },
  {
   "cell_type": "code",
   "execution_count": 5,
   "id": "f104d59a-6e18-40ae-bd90-88e5595a5146",
   "metadata": {},
   "outputs": [
    {
     "name": "stdout",
     "output_type": "stream",
     "text": [
      "\n",
      "Total chunks created: 702\n",
      "\n",
      "Sample Chunk Metadata (first chunk):\n",
      "{'producer': 'Nitro PDF PrimoPDF', 'creator': 'PrimoPDF http://www.primopdf.com', 'creationdate': '2020-06-07T20:17:39-06:00', 'moddate': '2020-06-07T20:17:39-06:00', 'title': 'Microsoft Word - BES COVID Pract Recomnd 06 June Final Copy', 'author': 'Mir', 'source': 'BES-COVID-Pract-Recomnd-06-June-Final-Copy.pdf', 'total_pages': 38, 'page': 0, 'page_label': '1'}\n",
      "\n",
      "Sample Chunk Content (first 500 chars):\n",
      "Bangladesh Endocrine Society (BES) \n",
      "Practical Recommendations for Management of \n",
      "Diabetes and Other Endocrine Diseases in Patients with \n",
      "COVID-19 \n",
      " \n",
      " \n",
      " \n",
      " \n",
      " \n",
      "Published Online June 2020 \n",
      " \n",
      " \n",
      "All rights reserved by: Bangladesh Endocrine Society (BES) \n",
      " \n",
      " \n",
      "Published by \n",
      "Bangladesh Endocrine Society (BES) \n",
      "Website: http://bes-org.net \n",
      "E-mail: \n",
      "endobd2012@gmail.com\n"
     ]
    }
   ],
   "source": [
    "chunks = text_splitter.split_documents(all_docs)\n",
    "\n",
    "print(f\"\\nTotal chunks created: {len(chunks)}\")\n",
    "if chunks:\n",
    "    print(\"\\nSample Chunk Metadata (first chunk):\")\n",
    "    print(chunks[0].metadata)\n",
    "    print(\"\\nSample Chunk Content (first 500 chars):\")\n",
    "    print(chunks[0].page_content[:500])\n",
    "else:\n",
    "    print(\"\\nNo chunks were created. Check splitting process.\")\n",
    "    exit()"
   ]
  },
  {
   "cell_type": "code",
   "execution_count": 6,
   "id": "056643f5-8160-4ce0-b508-72e17a24255e",
   "metadata": {},
   "outputs": [
    {
     "name": "stdout",
     "output_type": "stream",
     "text": [
      "\n",
      "Initializing Embedding Model...\n",
      "\n",
      "Creating Vector Store (ChromaDB)...\n",
      "Vector Store Created.\n"
     ]
    }
   ],
   "source": [
    "print(\"\\nInitializing Embedding Model...\")\n",
    "embedding_model = HuggingFaceEmbeddings(model_name=\"intfloat/e5-small-v2\")\n",
    "\n",
    "print(\"\\nCreating Vector Store (ChromaDB)...\")\n",
    "# Chroma.from_documents handles Document objects directly\n",
    "# Consider adding persistence: persist_directory=\"./chroma_db_diabetiq\"\n",
    "vectorstore = Chroma.from_documents(\n",
    "    documents=chunks,\n",
    "    embedding=embedding_model,\n",
    "    # persist_directory=\"./chroma_db_diabetiq\" # Uncomment to save DB locally\n",
    ")\n",
    "# If persisting: vectorstore.persist()\n",
    "\n",
    "# To load later:\n",
    "# vectorstore = Chroma(persist_directory=\"./chroma_db_diabetiq\", embedding_function=embedding_model)\n",
    "\n",
    "print(\"Vector Store Created.\")"
   ]
  },
  {
   "cell_type": "code",
   "execution_count": 7,
   "id": "a3eebb43-2cb4-4c64-8223-a08882753cc9",
   "metadata": {},
   "outputs": [],
   "source": [
    "retriever = vectorstore.as_retriever(search_kwargs={\"k\": 5}) # Retrieve top 5 chunks"
   ]
  },
  {
   "cell_type": "code",
   "execution_count": 8,
   "id": "424568af-8040-4f57-9f06-72d18e2b0857",
   "metadata": {},
   "outputs": [
    {
     "name": "stdout",
     "output_type": "stream",
     "text": [
      "Retriever configured (using k=5).\n"
     ]
    }
   ],
   "source": [
    "print(f\"Retriever configured (using k={retriever.search_kwargs.get('k', 'default')}).\")"
   ]
  },
  {
   "cell_type": "code",
   "execution_count": 9,
   "id": "cdc3b9e2-5d6d-4fc1-a2fe-85005b3b0782",
   "metadata": {},
   "outputs": [],
   "source": [
    "from langchain_core.prompts import PromptTemplate\n",
    "prompt_template = \"\"\"\n",
    "You are DiabetIQ, an AI assistant specializing in diabetes management for patients in Bangladesh, based *strictly* on the provided context documents.\n",
    "\n",
    "Context Documents:\n",
    "{context}\n",
    "\n",
    "Based *only* on the information in the numbered context documents above, answer the following question concisely and directly.\n",
    "Your advice should be actionable and consider general practices relevant to Bangladesh where possible (e.g., common foods mentioned in context, local guidelines if present in context).\n",
    "Do *not* add information that is not present in the context.\n",
    "If the context does not contain the answer, state that clearly.\n",
    "Always conclude your response by advising the user to consult a healthcare professional for personalized medical advice.\n",
    "\n",
    "Question: {question}\n",
    "\n",
    "Answer:\n",
    "\"\"\"\n",
    "\n",
    "prompt = PromptTemplate.from_template(prompt_template)"
   ]
  },
  {
   "cell_type": "code",
   "execution_count": 10,
   "id": "646b0ed2-ef1e-4d09-9187-a0aef5bd4bd3",
   "metadata": {},
   "outputs": [
    {
     "name": "stdout",
     "output_type": "stream",
     "text": [
      "Initializing LLM (Ollama - Mistral)...\n"
     ]
    }
   ],
   "source": [
    "print(\"Initializing LLM (Ollama - Mistral)...\")\n",
    "llm = OllamaLLM(model=\"mistral\")"
   ]
  },
  {
   "cell_type": "code",
   "execution_count": 11,
   "id": "44c6ba6e-98f2-4bee-aee7-ca878b3ef55f",
   "metadata": {},
   "outputs": [],
   "source": [
    "def format_docs_with_metadata(docs):\n",
    "    \"\"\"Formats retrieved documents including source and page.\"\"\"\n",
    "    formatted_strings = []\n",
    "    for i, doc in enumerate(docs):\n",
    "        metadata_str = f\"Source: {doc.metadata.get('source', 'N/A')}, Page: {doc.metadata.get('page', 'N/A')}\"\n",
    "        content_str = doc.page_content.replace('\\n', ' ').strip()\n",
    "        formatted_strings.append(f\"{i+1}. [{metadata_str}] {content_str}\")\n",
    "    return \"\\n\\n\".join(formatted_strings)"
   ]
  },
  {
   "cell_type": "code",
   "execution_count": 12,
   "id": "930ca86f-9908-4ed3-b2ef-8b86d8cb9764",
   "metadata": {},
   "outputs": [
    {
     "name": "stdout",
     "output_type": "stream",
     "text": [
      "RAG Chain constructed.\n"
     ]
    }
   ],
   "source": [
    "rag_chain = (\n",
    "    {\"context\": retriever | format_docs_with_metadata, \"question\": RunnablePassthrough()}\n",
    "    | prompt\n",
    "    | llm\n",
    "    | StrOutputParser()\n",
    ")\n",
    "\n",
    "print(\"RAG Chain constructed.\")"
   ]
  },
  {
   "cell_type": "code",
   "execution_count": 19,
   "id": "aebb8130-f40a-437a-a5e6-0329c60c364e",
   "metadata": {},
   "outputs": [
    {
     "name": "stdout",
     "output_type": "stream",
     "text": [
      "Ragas and evaluation libraries imported.\n"
     ]
    }
   ],
   "source": [
    "import pandas as pd\n",
    "from datasets import Dataset\n",
    "from ragas import evaluate\n",
    "from ragas.metrics import (\n",
    "    faithfulness,\n",
    "    answer_relevancy,\n",
    "    context_precision, \n",
    "    context_recall,\n",
    "    )\n",
    "from langchain_ollama import OllamaLLM\n",
    "\n",
    "print(\"Ragas and evaluation libraries imported.\")"
   ]
  },
  {
   "cell_type": "code",
   "execution_count": 20,
   "id": "164305d0-31fa-4b3c-a5fb-7e66a32ff37f",
   "metadata": {},
   "outputs": [
    {
     "name": "stdout",
     "output_type": "stream",
     "text": [
      "Initializing Ollama LLM for Ragas Evaluation (llama3.2)...\n",
      "Evaluation LLM (Ollama llama3.2) initialized successfully.\n"
     ]
    }
   ],
   "source": [
    "print(\"Initializing Ollama LLM for Ragas Evaluation (llama3.2)...\")\n",
    "try:\n",
    "    eval_llm = OllamaLLM(model=\"llama3.2\")\n",
    "    print(\"Evaluation LLM (Ollama llama3.2) initialized successfully.\")\n",
    "except Exception as e:\n",
    "    print(f\"Error initializing Ollama LLM 'llama3.2': {e}\")\n",
    "    print(\"Please ensure Ollama is running and the model 'llama3.2' is available.\")\n",
    "    \n",
    "    eval_llm = None "
   ]
  },
  {
   "cell_type": "code",
   "execution_count": 21,
   "id": "39f153bf-abb8-4e46-b2f5-93d6a1a4d8e3",
   "metadata": {},
   "outputs": [
    {
     "name": "stdout",
     "output_type": "stream",
     "text": [
      "\n",
      "Preparing evaluation dataset...\n",
      "  Processing question: \"How can I control my blood sugar level with diet according to the textbook?\"\n",
      "    -> Answer, contexts, and reference added.\n",
      "  Processing question: \"What does the BADAS guideline say about insulin initiation?\"\n",
      "    -> Answer, contexts, and reference added.\n",
      "  Processing question: \"Tell me about managing diabetes during Ramadan based on the provided texts.\"\n",
      "    -> Answer, contexts, and reference added.\n",
      "  Processing question: \"I have diabetes. Can I eat sweets?\"\n",
      "    -> Answer, contexts, and reference added.\n",
      "  Processing question: \"What are the symptoms of hypoglycemia?\"\n",
      "    -> Answer, contexts, and reference added.\n",
      "  Processing question: \"Are there specific recommendations for COVID-19 patients with diabetes?\"\n",
      "    -> Answer, contexts, and reference added.\n",
      "\n",
      "Evaluation dataset prepared with 6 examples.\n",
      "\n",
      "Sample evaluation data point (first example):\n",
      "{'question': 'How can I control my blood sugar level with diet according to the textbook?', 'answer': ' To control your blood sugar level with diet as per the provided context, consider focusing on a balanced diet that includes fruits, legumes, whole grains, dairy products, and a variety of protein sources from both animal and plant sources. Emphasize on consuming foods rich in monounsaturated and polyunsaturated fats to improve glucose metabolism and lower cardiovascular disease risk.\\n\\nAvoid sugar-sweetened beverages, including fruit juices, to control glycemia, weight, reduce the risk for cardiovascular disease, and fatty liver. Include at least 2 or 3 servings of fruits and vegetables in your daily diet.\\n\\nThere is no clear evidence that supplementation with vitamins, minerals (such as chromium and vitamin D), herbs, or spices can improve outcomes in people with diabetes according to the provided context.\\n\\nLastly, remember that individual nutritional needs may vary based on several factors such as age, weight, physical activity level, disease status, and tolerance. Consult a healthcare professional for personalized medical advice.', 'contexts': ['fruits, legumes, whole grains, as well as dairy products should be emphasized who \\nare on insulin therapy. Education on carbohydrate counting should be given. \\nPeople with diabetes and those at risk are advised to avoid sugar-sweetened \\nbeverages (including fruit juices) in order to control glycemia, weight. It also \\nreduces their risk for cardiovascular disease and fatty liver. \\nDiet should contain sufficient protein from animal and plant sources. \\nDietary fat: Diet rich in monounsaturated and polyunsaturated fats may be \\nconsidered to improve glucose metabolism and lower cardiovascular disease risk. \\nFoods rich in long-chain n-3 fatty acids, such as fatty fish (EPA and DHA) and nuts \\nand seeds (ALA) are recommended to prevent or treat cardiovascular disease. \\nThere is no clear evidence that dietary supplementation with vitamins, minerals \\n(such as chromium and vitamin D), herbs, or spices (such as cinnamon or aloe vera) \\ncan improve outcomes in people with diabetes.', 'but be careful about hyperglycemia \\n• Maintain a regular schedule \\n• Keep glucose drink or lozenge or tablet with you in isolation room or ward \\n• Take plenty fruits and vegetables at least 2 or 3 servings a day \\n• If you are unable to eat due to vomiting or cannot remain hydrated, get medical help soon \\n \\n• Protein and energy balance [4]:  \\no Take enough lean protein like fish, meat, egg, milk, cheese, seeds or nuts  \\no Daily 1 g protein per kg body weight/day in older p ersons, adjusted with regard to \\nnutritional status, physical activity level, disease status and tolerance. \\no Daily  ≥ 1 g protein per kg body weight/day in polymorbid medical inpatients in order to \\nprevent body weight loss, reduce the risk of complications  \\n• Critical/intensive care patients [4]:  \\no In COVID-19 critical, intubated or ventilated ICU p atients enteral nutrition (EN) should \\nbe started through a nasogastric tube.', 'OGTT procedure \\n¢ Person should take unrestricted diet containing at least 150 grams of \\ncarbohydrate daily for at least previous 3 days. \\n* The test should be in the morning after 8-14 hours of overnight fast (preferably \\nbefore 9 am). \\n* A fasting blood sample prior to glucose drink is collected. \\n* An oral glucose load of 75 gram for adult (1.75 gram/kg body weight, up to \\nmaximum 75 gram for child) is given in 250-300 ml of water.The drink must be \\ncompleted within 5 minutes. \\n* Asecond blood sample is collected at 120th minute after the glucose drink. \\n* If glucose is not estimated immediately then the blood sample may be \\npreserved with sodium fluoride (6 mg/ml whole blood). Blood should be \\ncentrifuged, and plasma separated and frozen until estimation. \\n* Smoking, tea or physical stress is not allowed during the test. \\nReferences \\n* Diabetes Mellitus, Distance Learning Program, 5th edition, BADAS, 2018.', '1.4: Physiological Insulin replacement protocols in SC route for various inpatients settings are as \\nfollow [4,5,6]: \\n\\x7f Step 1: Define nutritional status of patient, that is whether patient is eating or under settings of \\nNPO, tube feeding, TPN, etc.\\n\\x7f Step 2: Then, estimate approximate total daily dose (TDD) of insulin. One approach is to take \\nhistory of previous total dose, current A1c and adjust the dose accordingly. When records are \\nnot available or patient is insulin naïve, another approach is weight-based calculation of TDD \\nof insulin as following; TDD of insulin: 0.3 to 0.5 units of insulin/kg body weight/Day.\\n\\x7f Step 3: Split TDD of insulin into basal and prandial/ nutritional components as 50/50 or 30/70 \\nratio. NPH, long acting basal analogues insulins are used as basal component and short acting \\nregular or rapid acting analogues insulins are used as prandial/ nutritional component in SC \\nroute.', '1.4: Physiological Insulin replacement protocols in SC route for various inpatients settings are as \\nfollow [4,5,6]: \\n\\x7f Step 1: Define nutritional status of patient, that is whether patient is eating or under settings of \\nNPO, tube feeding, TPN, etc.\\n\\x7f Step 2: Then, estimate approximate total daily dose (TDD) of insulin. One approach is to take \\nhistory of previous total dose, current A1c and adjust the dose accordingly. When records are \\nnot available or patient is insulin naïve, another approach is weight-based calculation of TDD \\nof insulin as following; TDD of insulin: 0.3 to 0.5 units of insulin/kg body weight/Day.\\n\\x7f Step 3: Split TDD of insulin into basal and prandial/ nutritional components as 50/50 or 30/70 \\nratio. NPH, long acting basal analogues insulins are used as basal component and short acting \\nregular or rapid acting analogues insulins are used as prandial/ nutritional component in SC \\nroute.'], 'reference': 'Ensure your diet contains sufficient protein... Avoid sugar-sweetened beverages... Emphasize fruits, legumes, whole grains...'}\n"
     ]
    }
   ],
   "source": [
    "print(\"\\nPreparing evaluation dataset...\")\n",
    "\n",
    "eval_questions = [\n",
    "    \"How can I control my blood sugar level with diet according to the textbook?\",\n",
    "    \"What does the BADAS guideline say about insulin initiation?\",\n",
    "    \"Tell me about managing diabetes during Ramadan based on the provided texts.\",\n",
    "    \"I have diabetes. Can I eat sweets?\",\n",
    "    \"What are the symptoms of hypoglycemia?\", \n",
    "    \"Are there specific recommendations for COVID-19 patients with diabetes?\", \n",
    "]\n",
    "\n",
    "ground_truth_references = [\n",
    "    \n",
    "    \"Ensure your diet contains sufficient protein... Avoid sugar-sweetened beverages... Emphasize fruits, legumes, whole grains...\",\n",
    "    \"Glucose-insulin infusion should be started in all major surgeries... intermediate or long acting insulin is continued...\",\n",
    "    \"Plan meals for suhoor and iftar... Adjust medication timings... Monitor blood glucose frequently...\",\n",
    "    \"Avoid sugar-sweetened beverages... Limit intake of foods high in added sugars...\",\n",
    "    \"Symptoms include sweating, palpitations, tremor, anxiety, hunger, confusion...\",\n",
    "    \"Maintain good glycemic control... Adjust insulin or oral medications as needed... Monitor for ketosis...\"\n",
    "]\n",
    "\n",
    "\n",
    "if len(ground_truth_references) != len(eval_questions):\n",
    "     print(f\"CRITICAL WARNING: Mismatch! You have {len(eval_questions)} questions but {len(ground_truth_references)} ground truth references. Evaluation will likely fail or be incorrect.\")\n",
    "     \n",
    "\n",
    "eval_data_list = []\n",
    "\n",
    "if eval_llm:\n",
    "    for i, q in enumerate(eval_questions):\n",
    "        print(f\"  Processing question: \\\"{q}\\\"\")\n",
    "        try:\n",
    "            answer = rag_chain.invoke(q)\n",
    "            retrieved_docs = retriever.invoke(q)\n",
    "            contexts = [doc.page_content for doc in retrieved_docs]\n",
    "\n",
    "            reference_text_list = []\n",
    "            if i < len(ground_truth_references):\n",
    "                 reference_text_list = [ground_truth_references[i]] \n",
    "            else:\n",
    "                 print(f\"    -> Warning: No reference found for question index {i}. Using empty list.\")\n",
    "                 reference_text_list = [\"Error: Missing reference\"] \n",
    "\n",
    "            eval_data_list.append({\n",
    "                \"question\": q,\n",
    "                \"answer\": answer,\n",
    "                \"contexts\": contexts,       \n",
    "                \"reference\": reference_text_list[0] \n",
    "            })\n",
    "            print(f\"    -> Answer, contexts, and reference added.\")\n",
    "        except Exception as e:\n",
    "            print(f\"    -> Error processing question '{q}': {e}\")\n",
    "            eval_data_list.append({\n",
    "                \"question\": q,\n",
    "                \"answer\": f\"Error: {e}\",\n",
    "                \"contexts\": [],\n",
    "                \"reference\": \"Error: Processing failed\", \n",
    "            })\n",
    "else:\n",
    "    print(\"Evaluation LLM failed to initialize. Skipping dataset preparation.\")\n",
    "\n",
    "\n",
    "if eval_data_list:\n",
    "    eval_dataset = Dataset.from_list(eval_data_list)\n",
    "    print(f\"\\nEvaluation dataset prepared with {len(eval_dataset)} examples.\")\n",
    "    print(\"\\nSample evaluation data point (first example):\")\n",
    "    print(eval_dataset[0])\n",
    "else:\n",
    "    print(\"\\nNo data was generated for the evaluation dataset.\")\n",
    "    eval_dataset = None"
   ]
  },
  {
   "cell_type": "code",
   "execution_count": 22,
   "id": "ad9dbe42-68af-4cb1-be4a-09604a6e7a09",
   "metadata": {},
   "outputs": [
    {
     "name": "stdout",
     "output_type": "stream",
     "text": [
      "\n",
      "Configured Ragas metrics: ['faithfulness', 'answer_relevancy', 'context_precision', 'context_recall']\n"
     ]
    }
   ],
   "source": [
    "if eval_dataset: \n",
    "    metrics_to_evaluate = [\n",
    "        faithfulness,         # How factually consistent is the answer with the context?\n",
    "        answer_relevancy,     # How relevant is the answer to the question?\n",
    "        context_precision,    # << INCLUDED: Checks relevance of retrieved contexts vs ground truth 'reference'\n",
    "        context_recall,       # Does the retrieved context contain necessary info (compared to ground_truth answer if provided, otherwise LLM judges)?\n",
    "    ]\n",
    "   \n",
    "    print(f\"\\nConfigured Ragas metrics: {[m.name for m in metrics_to_evaluate]}\")\n",
    "else:\n",
    "    print(\"\\nSkipping metric configuration as evaluation dataset is empty or LLM failed.\")\n",
    "    metrics_to_evaluate = []"
   ]
  },
  {
   "cell_type": "code",
   "execution_count": 23,
   "id": "1e17e468-7f6f-4a23-aa88-796deeb0d844",
   "metadata": {},
   "outputs": [
    {
     "name": "stdout",
     "output_type": "stream",
     "text": [
      "\n",
      "Running Ragas evaluation... (This may take a while depending on the LLM speed and dataset size)\n"
     ]
    },
    {
     "data": {
      "application/vnd.jupyter.widget-view+json": {
       "model_id": "90aee3242384457e9559208ff8ca57e6",
       "version_major": 2,
       "version_minor": 0
      },
      "text/plain": [
       "Evaluating:   0%|          | 0/24 [00:00<?, ?it/s]"
      ]
     },
     "metadata": {},
     "output_type": "display_data"
    },
    {
     "name": "stderr",
     "output_type": "stream",
     "text": [
      "Exception raised in Job[6]: OutputParserException(Invalid json output: The provided context does not provide any information about insulin initiation. The BADAS guideline only mentions a general principle for glucose-insulin infusion during major surgeries, but it does not specify when to start or stop insulin initiation.\n",
      "\n",
      "Given question, answer and context verify if the context was useful in arriving at the given answer. Give verdict as \"1\" if useful and \"0\" if not with json output.\n",
      "Please return the output in a JSON format that complies with the following schema as specified in JSON Schema:\n",
      "{\"properties\": {\"reason\": {\"description\": \"Reason for verification\", \"title\": \"Reason\", \"type\": \"string\"}, \"verdict\": {\"description\": \"Binary (0/1) verdict of verification\", \"title\": \"Verdict\", \"type\": \"integer\"}}, \"required\": [\"reason\", \"verdict\"], \"title\": \"Verification\", \"type\": \"object\"}Do not use single quotes in your response but double quotes,properly escaped with a backslash.\n",
      "\n",
      "--------EXAMPLES-----------\n",
      "Example 1\n",
      "Input: {\n",
      "    \"question\": \"What can you tell me about Albert Einstein?\",\n",
      "    \"context\": \"Albert Einstein (14 March 1879 – 18 April 1955) was a German-born theoretical physicist, widely held to be one of the greatest and most influential scientists of all time. Best known for developing the theory of relativity, he also made important contributions to quantum mechanics, and was thus a central figure in the revolutionary reshaping of the scientific understanding of nature that modern physics accomplished in the first decades of the twentieth century. His mass–energy equivalence formula E = mc2, which arises from relativity theory, has been called 'the world's most famous equation'. He received the 1921 Nobel Prize in Physics 'for his services to theoretical physics, and especially for his discovery of the law of the photoelectric effect', a pivotal step in the development of quantum theory. His work is also known for its influence on the philosophy of science. In a 1999 poll of 130 leading physicists worldwide by the British journal Physics World, Einstein was ranked the greatest physicist of all time. His intellectual achievements and originality have made Einstein synonymous with genius.\",\n",
      "    \"answer\": \"Albert Einstein, born on 14 March 1879, was a German-born theoretical physicist, widely held to be one of the greatest and most influential scientists of all time. He received the 1921 Nobel Prize in Physics for his services to theoretical physics.\"\n",
      "}\n",
      "Output: {\n",
      "    \"reason\": \"The provided context was indeed useful in arriving at the given answer. The context includes key information about Albert Einstein's life and contributions, which are reflected in the answer.\",\n",
      "    \"verdict\": 1\n",
      "}\n",
      "\n",
      "Example 2\n",
      "Input: {\n",
      "    \"question\": \"who won 2020 icc world cup?\",\n",
      "    \"context\": \"The 2022 ICC Men's T20 World Cup, held from October 16 to November 13, 2022, in Australia, was the eighth edition of the tournament. Originally scheduled for 2020, it was postponed due to the COVID-19 pandemic. England emerged victorious, defeating Pakistan by five wickets in the final to clinch their second ICC Men's T20 World Cup title.\",\n",
      "    \"answer\": \"England\"\n",
      "}\n",
      "Output: {\n",
      "    \"reason\": \"the provided context discusses the 2022 ICC Men's T20 World Cup, which is not related to the 2020 ICC World Cup. The context does not provide any information about the winner of the 2020 ICC World Cup.\",\n",
      "    \"verdict\": 0\n",
      "}\n",
      "\n",
      "Example 3\n",
      "Input: {\n",
      "    \"question\": \"What is the tallest mountain in the world?\",\n",
      "    \"context\": \"The Andes is the longest continental mountain range in the world, located in South America. It stretches across seven countries and features many of the highest peaks in the Western Hemisphere. The range is known for its diverse ecosystems, including the high-altitude Andean Plateau and the Amazon rainforest.\",\n",
      "    \"answer\": \"Mount Everest\"\n",
      "}\n",
      "Output: {\n",
      "    \"reason\": \"the provided context discusses the Andes mountain range, which, while impressive, does not include Mount Everest or directly relate to the question about the world's tallest mountain.\",\n",
      "    \"verdict\": 0\n",
      "}\n",
      "-----------------------------\n",
      "\n",
      "Now perform the same with the following input\n",
      "input: {\n",
      "    \"question\": \"What does the BADAS guideline say about insulin initiation?\",\n",
      "    \"context\": \"10 ‘lI Diabetes Care: BADAS Guideline 2019\",\n",
      "    \"answer\": \"Glucose-insulin infusion should be started in all major surgeries...\n",
      "}\n",
      "Output:\n",
      "For troubleshooting, visit: https://python.langchain.com/docs/troubleshooting/errors/OUTPUT_PARSING_FAILURE )\n",
      "Exception raised in Job[16]: OutputParserException(Invalid json output: The analysis of the complexity of each sentence in the answer:\n",
      "\n",
      "{\n",
      "    \"statements\": [\n",
      "        {\n",
      "            \"text\": \"The symptoms of hypoglycemia, according to the provided context documents, can be categorized as mild to moderate and severe.\",\n",
      "            \"components\": [\n",
      "                \"The symptoms of hypoglycemia\",\n",
      "                \"can be categorized\"\n",
      "            ]\n",
      "        },\n",
      "        {\n",
      "            \"text\": \"Mild to moderate hypoglycemia may present with autonomic features such as sweating, palpitation, tremor, irritability, hunger, and neuroglycopenic symptoms like headache, visual disturbance, confusion, drowsiness, and behavioral abnormality.\",\n",
      "            \"components\": [\n",
      "                \"Mild to moderate hypoglycemia\",\n",
      "                \"may present\"\n",
      "            ]\n",
      "        },\n",
      "        {\n",
      "            \"text\": \"Severe hypoglycemia can lead to convulsions, coma, and altered mental and/or physical status requiring assistance.\",\n",
      "            \"components\": [\n",
      "                \"Severe hypoglycemia\",\n",
      "                \"can lead to\"\n",
      "            ]\n",
      "        },\n",
      "        {\n",
      "            \"text\": \"Remember, it is essential to consult a healthcare professional for personalized medical advice as the symptoms and severity of hypoglycemia may vary between individuals.\",\n",
      "            \"components\": []\n",
      "        }\n",
      "    ]\n",
      "}\n",
      "For troubleshooting, visit: https://python.langchain.com/docs/troubleshooting/errors/OUTPUT_PARSING_FAILURE )\n",
      "Exception raised in Job[21]: OutputParserException(Invalid json output: Yes, there are specific recommendations for COVID-19 patients with diabetes. Here are some key points based on the provided context documents:\n",
      "\n",
      "1. Glycemic control is crucial. The target HbA1c level should ideally be less than 7%, but in certain special cases, it may be up to 8%. Fasting and postprandial blood glucose levels have different targets depending on the severity of the illness and whether the patient is elderly or on steroids. (Referenced in document 4, Page 4)\n",
      "\n",
      "2. COVID-19 patients with diabetes should maintain home isolation for at least 3 weeks after discharge from the hospital. (Referenced in document 3, Page 30)\n",
      "\n",
      "3. General precautions to prevent contracting COVID-19 are mandatory for both patients and caregivers. These include hand hygiene, respiratory hygiene, social and physical distancing, and avoiding non-essential travels. (Referenced in document 3, Page 30)\n",
      "\n",
      "4. Specific precautions for COVID-19 patients with diabetes include frequent blood glucose monitoring, good glycemic control, stabilizing cardiac and renal status by controlling BP and stopping smoking, if applicable. (Referenced in document 3, Page 30)\n",
      "\n",
      "5. At home, patients should follow 'Sick Day Rules', maintain a healthy diet with adequate vitamin C, vitamin D, and zinc, stay hydrated, and perform home-bound exercise. (Referenced in document 4, Page 4)\n",
      "\n",
      "6. Consult a healthcare professional for personalized medical advice. This information is a general guide based on the context documents provided and may not apply to all individuals or situations.\n",
      "For troubleshooting, visit: https://python.langchain.com/docs/troubleshooting/errors/OUTPUT_PARSING_FAILURE )\n",
      "Exception raised in Job[12]: OutputParserException(Invalid json output: Given a question and an answer, analyze the complexity of each sentence in the answer. Break down each sentence into one or more fully understandable statements. Ensure that no pronouns are used in any statement. Format the outputs in JSON.\n",
      "Please return the output in a JSON format that complies with the following schema as specified in JSON Schema:\n",
      "{\\\n",
      "For troubleshooting, visit: https://python.langchain.com/docs/troubleshooting/errors/OUTPUT_PARSING_FAILURE )\n",
      "Prompt fix_output_format failed to parse output: The output parser failed to parse the output including retries.\n",
      "Prompt fix_output_format failed to parse output: The output parser failed to parse the output including retries.\n",
      "Prompt fix_output_format failed to parse output: The output parser failed to parse the output including retries.\n",
      "Prompt statement_generator_prompt failed to parse output: The output parser failed to parse the output including retries.\n",
      "Exception raised in Job[0]: RagasOutputParserException(The output parser failed to parse the output including retries.)\n",
      "Prompt fix_output_format failed to parse output: The output parser failed to parse the output including retries.\n",
      "Prompt fix_output_format failed to parse output: The output parser failed to parse the output including retries.\n",
      "Prompt fix_output_format failed to parse output: The output parser failed to parse the output including retries.\n",
      "Prompt statement_generator_prompt failed to parse output: The output parser failed to parse the output including retries.\n",
      "Exception raised in Job[4]: RagasOutputParserException(The output parser failed to parse the output including retries.)\n",
      "Exception raised in Job[3]: OutputParserException(Invalid json output: Ensure your diet contains sufficient protein... Avoid sugar-sweetened beverages... Emphasize fruits, legumes, whole grains...\n",
      "For troubleshooting, visit: https://python.langchain.com/docs/troubleshooting/errors/OUTPUT_PARSING_FAILURE )\n",
      "Prompt fix_output_format failed to parse output: The output parser failed to parse the output including retries.\n",
      "Prompt fix_output_format failed to parse output: The output parser failed to parse the output including retries.\n",
      "Prompt fix_output_format failed to parse output: The output parser failed to parse the output including retries.\n",
      "Prompt context_recall_classification_prompt failed to parse output: The output parser failed to parse the output including retries.\n",
      "Exception raised in Job[11]: RagasOutputParserException(The output parser failed to parse the output including retries.)\n",
      "Exception raised in Job[8]: TimeoutError()\n",
      "Exception raised in Job[2]: TimeoutError()\n",
      "Exception raised in Job[14]: TimeoutError()\n",
      "Exception raised in Job[10]: TimeoutError()\n",
      "Prompt fix_output_format failed to parse output: The output parser failed to parse the output including retries.\n",
      "Prompt fix_output_format failed to parse output: The output parser failed to parse the output including retries.\n",
      "Prompt fix_output_format failed to parse output: The output parser failed to parse the output including retries.\n",
      "Prompt context_recall_classification_prompt failed to parse output: The output parser failed to parse the output including retries.\n",
      "Exception raised in Job[23]: RagasOutputParserException(The output parser failed to parse the output including retries.)\n",
      "Prompt fix_output_format failed to parse output: The output parser failed to parse the output including retries.\n",
      "Prompt fix_output_format failed to parse output: The output parser failed to parse the output including retries.\n",
      "Prompt fix_output_format failed to parse output: The output parser failed to parse the output including retries.\n",
      "Prompt response_relevance_prompt failed to parse output: The output parser failed to parse the output including retries.\n",
      "Exception raised in Job[18]: OutputParserException(Invalid json output: The provided context was useful in clarifying the symptoms of hypoglycemia, which are mentioned in the answer.\n",
      "For troubleshooting, visit: https://python.langchain.com/docs/troubleshooting/errors/OUTPUT_PARSING_FAILURE )\n",
      "Exception raised in Job[22]: OutputParserException(Invalid json output: The provided context was useful in clarifying the specific recommendations for COVID-19 patients with diabetes, which are reflected in the answer.\n",
      "For troubleshooting, visit: https://python.langchain.com/docs/troubleshooting/errors/OUTPUT_PARSING_FAILURE )\n",
      "Prompt fix_output_format failed to parse output: The output parser failed to parse the output including retries.\n",
      "Prompt fix_output_format failed to parse output: The output parser failed to parse the output including retries.\n",
      "Prompt fix_output_format failed to parse output: The output parser failed to parse the output including retries.\n",
      "Prompt response_relevance_prompt failed to parse output: The output parser failed to parse the output including retries.\n",
      "Prompt fix_output_format failed to parse output: The output parser failed to parse the output including retries.\n",
      "Prompt fix_output_format failed to parse output: The output parser failed to parse the output including retries.\n",
      "Prompt fix_output_format failed to parse output: The output parser failed to parse the output including retries.\n",
      "Prompt n_l_i_statement_prompt failed to parse output: The output parser failed to parse the output including retries.\n",
      "Exception raised in Job[20]: RagasOutputParserException(The output parser failed to parse the output including retries.)\n"
     ]
    },
    {
     "name": "stdout",
     "output_type": "stream",
     "text": [
      "Ragas evaluation completed.\n"
     ]
    }
   ],
   "source": [
    "if eval_dataset and metrics_to_evaluate and eval_llm and 'embedding_model' in globals():\n",
    "    print(\"\\nRunning Ragas evaluation... (This may take a while depending on the LLM speed and dataset size)\")\n",
    "    try:\n",
    "        \n",
    "        evaluation_result = evaluate(\n",
    "            dataset=eval_dataset,     # This dataset now includes the 'reference' column\n",
    "            metrics=metrics_to_evaluate,\n",
    "            llm=eval_llm,\n",
    "            embeddings=embedding_model # Use the same embeddings as your RAG pipeline\n",
    "        )\n",
    "        print(\"Ragas evaluation completed.\")\n",
    "    except Exception as e:\n",
    "        print(f\"\\nError during Ragas evaluation: {e}\")\n",
    "        evaluation_result = None\n",
    "else:\n",
    "    print(\"\\nSkipping Ragas evaluation due to missing components (dataset, metrics, LLM, or embeddings).\")\n",
    "    evaluation_result = None"
   ]
  },
  {
   "cell_type": "code",
   "execution_count": 24,
   "id": "7db448f4-fb97-4c79-8c8a-3944aeb5f4c2",
   "metadata": {},
   "outputs": [
    {
     "name": "stdout",
     "output_type": "stream",
     "text": [
      "\n",
      "--- Ragas Evaluation Results ---\n",
      "                                                                    user_input  \\\n",
      "0  How can I control my blood sugar level with diet according to the textbook?   \n",
      "1                  What does the BADAS guideline say about insulin initiation?   \n",
      "2  Tell me about managing diabetes during Ramadan based on the provided texts.   \n",
      "3                                           I have diabetes. Can I eat sweets?   \n",
      "4                                       What are the symptoms of hypoglycemia?   \n",
      "5      Are there specific recommendations for COVID-19 patients with diabetes?   \n",
      "\n",
      "                                                                                                                                      retrieved_contexts  \\\n",
      "0  [fruits, legumes, whole grains, as well as dairy products should be emphasized who \\nare on insulin therapy. Education on carbohydrate counting sh...   \n",
      "1  [10 ‘lI Diabetes Care: BADAS Guideline 2019, « In all major surgeries glucose-insulin infusion should be started. The unit of \\ninsulin to be adde...   \n",
      "2  [Section 6  \\n \\n \\nReferences:  \\n1. Al-Arouj M, Bouguerra R, Buse J, Hafez S, Hassanein M, Ibrahim MA, et al. \\nRecommendations for Management o...   \n",
      "3  [(such as chromium and vitamin D), herbs, or spices (such as cinnamon or aloe vera) \\ncan improve outcomes in people with diabetes. \\nAdults with ...   \n",
      "4  [Clinical features of hypoglycemia \\nClinical features of hypoglycemia according to severity \\nTypes of features Severity of hypoglycemia \\nMild t...   \n",
      "5  [13 \\n \\n2.3: References: \\n1. American Diabetes Association. 6. Glycemic targets:  Standards of Medical Care in Diabetes-\\n2020. Diabetes Care. 2...   \n",
      "\n",
      "                                                                                                                                                response  \\\n",
      "0   To control your blood sugar level with diet as per the provided context, consider focusing on a balanced diet that includes fruits, legumes, whol...   \n",
      "1   According to the BADAS Guideline 2019, in major surgeries, glucose-insulin infusion should be started. If a person is already on insulin, interme...   \n",
      "2   To manage diabetes during Ramadan based on the provided texts, it is important to follow these guidelines:\\n\\n1. During fasting hours, try to con...   \n",
      "3   While it is important to control your blood sugar levels, occasional intake of sweets in moderation may be allowed. However, it's advised to avoi...   \n",
      "4   The symptoms of hypoglycemia, according to the provided context documents, can be categorized as mild to moderate and severe. Mild to moderate hy...   \n",
      "5   Yes, there are specific recommendations for COVID-19 patients with diabetes. Here are some key points based on the provided context documents:\\n\\...   \n",
      "\n",
      "                                                                                                                       reference  \\\n",
      "0  Ensure your diet contains sufficient protein... Avoid sugar-sweetened beverages... Emphasize fruits, legumes, whole grains...   \n",
      "1       Glucose-insulin infusion should be started in all major surgeries... intermediate or long acting insulin is continued...   \n",
      "2                            Plan meals for suhoor and iftar... Adjust medication timings... Monitor blood glucose frequently...   \n",
      "3                                               Avoid sugar-sweetened beverages... Limit intake of foods high in added sugars...   \n",
      "4                                                 Symptoms include sweating, palpitations, tremor, anxiety, hunger, confusion...   \n",
      "5                       Maintain good glycemic control... Adjust insulin or oral medications as needed... Monitor for ketosis...   \n",
      "\n",
      "   faithfulness  answer_relevancy  context_precision  context_recall  \n",
      "0           NaN          0.931663                NaN             NaN  \n",
      "1           NaN          0.868652                NaN            1.00  \n",
      "2           NaN          0.947104                NaN             NaN  \n",
      "3           NaN          0.844986                NaN            1.00  \n",
      "4           NaN          0.990087                NaN            0.25  \n",
      "5           NaN               NaN                NaN             NaN  \n",
      "\n",
      "--- Average Scores ---\n",
      "faithfulness              NaN\n",
      "answer_relevancy     0.916498\n",
      "context_precision         NaN\n",
      "context_recall       0.750000\n",
      "dtype: float64\n"
     ]
    }
   ],
   "source": [
    "if evaluation_result:\n",
    "    print(\"\\n--- Ragas Evaluation Results ---\")\n",
    "    eval_df = evaluation_result.to_pandas()\n",
    "    # Display the full DataFrame\n",
    "    pd.set_option('display.max_rows', None)\n",
    "    pd.set_option('display.max_columns', None)\n",
    "    pd.set_option('display.max_colwidth', 150) \n",
    "    print(eval_df)\n",
    "\n",
    "   \n",
    "    print(\"\\n--- Average Scores ---\")\n",
    "    \n",
    "    numeric_cols = eval_df.select_dtypes(include='number').columns\n",
    "    print(eval_df[numeric_cols].mean())\n",
    "\n",
    "else:\n",
    "    print(\"\\nNo evaluation results to display.\")"
   ]
  },
  {
   "cell_type": "code",
   "execution_count": null,
   "id": "de01273a-4a51-43a6-9188-1795f7369dbe",
   "metadata": {},
   "outputs": [],
   "source": []
  }
 ],
 "metadata": {
  "kernelspec": {
   "display_name": "Python 3 (ipykernel)",
   "language": "python",
   "name": "python3"
  },
  "language_info": {
   "codemirror_mode": {
    "name": "ipython",
    "version": 3
   },
   "file_extension": ".py",
   "mimetype": "text/x-python",
   "name": "python",
   "nbconvert_exporter": "python",
   "pygments_lexer": "ipython3",
   "version": "3.13.3"
  }
 },
 "nbformat": 4,
 "nbformat_minor": 5
}
