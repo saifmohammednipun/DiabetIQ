{
 "cells": [
  {
   "cell_type": "markdown",
   "id": "4487cb01-da31-4ef6-8f75-9fe6f0a5c5e3",
   "metadata": {},
   "source": [
    "# Environment Setup "
   ]
  },
  {
   "cell_type": "code",
   "execution_count": 1,
   "id": "e8a23c51-d75d-4bd6-9a00-1ded2835114a",
   "metadata": {},
   "outputs": [],
   "source": [
    "import os\n",
    "from dotenv import load_dotenv\n",
    "\n",
    "load_dotenv()\n",
    "langchain_api_key = os.getenv('LANGCHAIN_API_KEY')\n",
    "huggingface_api_key = os.getenv('HUGGINGFACE_API_KEY')\n",
    "os.environ['LANGCHAIN_TRACING_V2'] = 'true'\n",
    "os.environ['LANGCHAIN_API_KEY'] = langchain_api_key\n",
    "os.environ['HUGGINGFACE_API_KEY'] = huggingface_api_key"
   ]
  },
  {
   "cell_type": "code",
   "execution_count": 2,
   "id": "4b720f9a-0fed-41d9-a187-db86bf80dc87",
   "metadata": {},
   "outputs": [],
   "source": [
    "from langchain import hub\n",
    "from langchain.text_splitter import RecursiveCharacterTextSplitter\n",
    "from langchain_community.document_loaders import PyPDFLoader # Use this\n",
    "from langchain_community.vectorstores import Chroma\n",
    "from langchain_core.output_parsers import StrOutputParser\n",
    "from langchain_core.runnables import RunnablePassthrough\n",
    "from langchain_huggingface import HuggingFaceEmbeddings\n",
    "from langchain_ollama import OllamaLLM\n",
    "from langchain_core.documents import Document"
   ]
  },
  {
   "cell_type": "code",
   "execution_count": 3,
   "id": "6e21e4e2-9b17-4724-8729-f2cfb4ebd0ad",
   "metadata": {},
   "outputs": [
    {
     "name": "stdout",
     "output_type": "stream",
     "text": [
      "Loading and Processing PDFs...\n",
      "-> Loading: Diabetes_Care_BADAS_guideline2019-3.pdf\n",
      "   Loaded 79 pages.\n",
      "-> Loading: Insulin-Guideline-min.pdf\n",
      "   Loaded 93 pages.\n",
      "-> Loading: BES-Ramadan-Guideline-2020-min.pdf\n",
      "   Loaded 46 pages.\n",
      "-> Loading: BES-COVID-Pract-Recomnd-06-June-Final-Copy.pdf\n",
      "   Loaded 38 pages.\n",
      "\n",
      "Total documents loaded: 256\n",
      "\n",
      "Sample Document Metadata (first doc):\n",
      "{'producer': 'Online2PDF.com', 'creator': 'Online2PDF.com', 'creationdate': '2025-02-14T08:08:22+01:00', 'source': 'Diabetes_Care_BADAS_guideline2019-3.pdf', 'total_pages': 79, 'page': 0, 'page_label': '1'}\n",
      "\n",
      "Sample Document Content (first 500 chars of first doc):\n",
      "DIABETES CARE \n",
      "BADAS Guideline 2019 \n",
      "          \n",
      "  \n",
      "   \n",
      "  \n",
      "   P|) \n",
      "DAS GUELINE ON Man \n",
      "DELIT IGEMEN \n",
      "  \n",
      "A Joint Initiative of \n",
      "Diabetic Association of Bangladesh \n",
      "NCDC Program, Directorate General of Health Services\n"
     ]
    }
   ],
   "source": [
    "pdf_files = [\n",
    "    r\"F:\\DiabetIQ\\LLM\\PDFs\\BES-COVID-Pract-Recomnd-06-June-Final-Copy.pdf\",\n",
    "    r\"F:\\DiabetIQ\\LLM\\PDFs\\BES-Ramadan-Guideline-2020-min.pdf\",\n",
    "    r\"F:\\DiabetIQ\\LLM\\PDFs\\Diabetes_Care_BADAS_guideline2019-3.pdf\",\n",
    "    r\"F:\\DiabetIQ\\LLM\\PDFs\\Insulin-Guideline-min.pdf\"\n",
    "]\n",
    "\n",
    "all_docs = [] # Will store LangChain Document objects\n",
    "\n",
    "print(\"Loading and Processing PDFs...\")\n",
    "for pdf_path in pdf_files:\n",
    "    try:\n",
    "        # Extract filename for metadata\n",
    "        file_name = os.path.basename(pdf_path)\n",
    "        print(f\"-> Loading: {file_name}\")\n",
    "\n",
    "        loader = PyPDFLoader(pdf_path)\n",
    "        # Load pages as individual documents. Each doc will have metadata['page']\n",
    "        pages = loader.load_and_split() # This does basic splitting\n",
    "\n",
    "        # Add source filename to metadata for each page/document\n",
    "        for page_doc in pages:\n",
    "            page_doc.metadata['source'] = file_name\n",
    "            # Optional: clean up page content slightly if needed\n",
    "            # page_doc.page_content = page_doc.page_content.replace('\\n', ' ').strip()\n",
    "\n",
    "        all_docs.extend(pages)\n",
    "        print(f\"   Loaded {len(pages)} pages.\")\n",
    "\n",
    "    except Exception as e:\n",
    "        print(f\"Error loading {pdf_path}: {e}\")\n",
    "\n",
    "print(f\"\\nTotal documents loaded: {len(all_docs)}\")\n",
    "if all_docs:\n",
    "    print(\"\\nSample Document Metadata (first doc):\")\n",
    "    print(all_docs[0].metadata)\n",
    "    print(\"\\nSample Document Content (first 500 chars of first doc):\")\n",
    "    print(all_docs[0].page_content[:500])\n",
    "else:\n",
    "    print(\"\\nNo documents were loaded successfully.\")\n",
    "    # Consider exiting or handling this error appropriately\n",
    "    exit()"
   ]
  },
  {
   "cell_type": "code",
   "execution_count": 4,
   "id": "38c0209a-2391-4d89-b5cd-f5002443c81a",
   "metadata": {},
   "outputs": [],
   "source": [
    "text_splitter = RecursiveCharacterTextSplitter(\n",
    "    chunk_size=1000,\n",
    "    chunk_overlap=200,\n",
    "    # Keep separators that make sense for text structure\n",
    "    separators=[\"\\n\\n\", \"\\n\", \". \", \", \", \" \", \"\"],\n",
    "    length_function=len,\n",
    ")"
   ]
  },
  {
   "cell_type": "code",
   "execution_count": 5,
   "id": "aeb2b0d5-220c-42f2-a252-b64354c1372f",
   "metadata": {},
   "outputs": [
    {
     "name": "stdout",
     "output_type": "stream",
     "text": [
      "\n",
      "Total chunks created: 702\n",
      "\n",
      "Sample Chunk Metadata (first chunk):\n",
      "{'producer': 'Online2PDF.com', 'creator': 'Online2PDF.com', 'creationdate': '2025-02-14T08:08:22+01:00', 'source': 'Diabetes_Care_BADAS_guideline2019-3.pdf', 'total_pages': 79, 'page': 0, 'page_label': '1'}\n",
      "\n",
      "Sample Chunk Content (first 500 chars):\n",
      "DIABETES CARE \n",
      "BADAS Guideline 2019 \n",
      "          \n",
      "  \n",
      "   \n",
      "  \n",
      "   P|) \n",
      "DAS GUELINE ON Man \n",
      "DELIT IGEMEN \n",
      "  \n",
      "A Joint Initiative of \n",
      "Diabetic Association of Bangladesh \n",
      "NCDC Program, Directorate General of Health Services\n"
     ]
    }
   ],
   "source": [
    "chunks = text_splitter.split_documents(all_docs)\n",
    "\n",
    "print(f\"\\nTotal chunks created: {len(chunks)}\")\n",
    "if chunks:\n",
    "    print(\"\\nSample Chunk Metadata (first chunk):\")\n",
    "    print(chunks[0].metadata)\n",
    "    print(\"\\nSample Chunk Content (first 500 chars):\")\n",
    "    print(chunks[0].page_content[:500])\n",
    "else:\n",
    "    print(\"\\nNo chunks were created. Check splitting process.\")\n",
    "    exit()"
   ]
  },
  {
   "cell_type": "code",
   "execution_count": 6,
   "id": "4a73ae02-2db9-4825-8e7a-9859dd31de10",
   "metadata": {},
   "outputs": [
    {
     "name": "stdout",
     "output_type": "stream",
     "text": [
      "\n",
      "Initializing Embedding Model...\n",
      "\n",
      "Creating Vector Store (ChromaDB)...\n",
      "Vector Store Created.\n"
     ]
    }
   ],
   "source": [
    "print(\"\\nInitializing Embedding Model...\")\n",
    "embedding_model = HuggingFaceEmbeddings(model_name=\"intfloat/e5-small-v2\")\n",
    "\n",
    "print(\"\\nCreating Vector Store (ChromaDB)...\")\n",
    "# Chroma.from_documents handles Document objects directly\n",
    "# Consider adding persistence: persist_directory=\"./chroma_db_diabetiq\"\n",
    "vectorstore = Chroma.from_documents(\n",
    "    documents=chunks,\n",
    "    embedding=embedding_model,\n",
    "    # persist_directory=\"./chroma_db_diabetiq\" # Uncomment to save DB locally\n",
    ")\n",
    "# If persisting: vectorstore.persist()\n",
    "\n",
    "# To load later:\n",
    "# vectorstore = Chroma(persist_directory=\"./chroma_db_diabetiq\", embedding_function=embedding_model)\n",
    "\n",
    "print(\"Vector Store Created.\")"
   ]
  },
  {
   "cell_type": "code",
   "execution_count": 7,
   "id": "61d40225-55f0-497d-8939-8d1760d0ea3f",
   "metadata": {},
   "outputs": [],
   "source": [
    "retriever = vectorstore.as_retriever(search_kwargs={\"k\": 5}) # Retrieve top 5 chunks"
   ]
  },
  {
   "cell_type": "code",
   "execution_count": 8,
   "id": "ed085449-e449-4df1-9bac-71d866b0305e",
   "metadata": {},
   "outputs": [
    {
     "name": "stdout",
     "output_type": "stream",
     "text": [
      "Retriever configured (using k=5).\n"
     ]
    }
   ],
   "source": [
    "print(f\"Retriever configured (using k={retriever.search_kwargs.get('k', 'default')}).\")"
   ]
  },
  {
   "cell_type": "code",
   "execution_count": 9,
   "id": "64aa95ee-b7a8-4e1d-bf79-60416bbb8507",
   "metadata": {},
   "outputs": [],
   "source": [
    "from langchain_core.prompts import PromptTemplate\n",
    "prompt_template = \"\"\"\n",
    "You are DiabetIQ, an AI assistant specializing in diabetes management for patients in Bangladesh, based *strictly* on the provided context documents (diabetes guidelines and textbooks).\n",
    "\n",
    "Context Documents:\n",
    "{context}\n",
    "\n",
    "Based *only* on the information in the numbered context documents above, answer the following question.\n",
    "Be concise but specific. If the context discusses strategies for managing occasional intake of high-sugar foods (like sweets), explain those strategies clearly and actionably. Mention portion control, timing relative to meals, carbohydrate counting/exchange, and the role of sugar substitutes if discussed in the context.\n",
    "Consider general dietary principles relevant to Bangladesh if mentioned in the context.\n",
    "Do *not* add information or recommendations *not* found in the context documents.\n",
    "If the context strictly advises against all sweets with no exceptions or strategies mentioned, state that clearly.\n",
    "Always conclude your response by strongly advising the user to consult a healthcare professional or registered dietitian for personalized medical advice tailored to their specific situation.\n",
    "\n",
    "Question: {question}\n",
    "\n",
    "Answer:\n",
    "\"\"\"\n",
    "\n",
    "prompt = PromptTemplate.from_template(prompt_template)"
   ]
  },
  {
   "cell_type": "code",
   "execution_count": 10,
   "id": "9c897b46-b1ea-4da5-a975-7d0452fa186d",
   "metadata": {},
   "outputs": [
    {
     "name": "stdout",
     "output_type": "stream",
     "text": [
      "Initializing LLM (Ollama - Mistral)...\n"
     ]
    }
   ],
   "source": [
    "print(\"Initializing LLM (Ollama - Mistral)...\")\n",
    "llm = OllamaLLM(model=\"mistral\")"
   ]
  },
  {
   "cell_type": "code",
   "execution_count": 11,
   "id": "52530a75-6059-44bc-9cfe-01f99e6d6798",
   "metadata": {},
   "outputs": [],
   "source": [
    "def format_docs_with_metadata(docs):\n",
    "    \"\"\"Formats retrieved documents including source and page.\"\"\"\n",
    "    formatted_strings = []\n",
    "    for i, doc in enumerate(docs):\n",
    "        metadata_str = f\"Source: {doc.metadata.get('source', 'N/A')}, Page: {doc.metadata.get('page', 'N/A')}\"\n",
    "        content_str = doc.page_content.replace('\\n', ' ').strip()\n",
    "        formatted_strings.append(f\"{i+1}. [{metadata_str}] {content_str}\")\n",
    "    return \"\\n\\n\".join(formatted_strings)"
   ]
  },
  {
   "cell_type": "code",
   "execution_count": 12,
   "id": "b8bc1c61-8f59-4518-a48b-cc1577f57fb9",
   "metadata": {},
   "outputs": [
    {
     "name": "stdout",
     "output_type": "stream",
     "text": [
      "RAG Chain constructed.\n"
     ]
    }
   ],
   "source": [
    "rag_chain = (\n",
    "    {\"context\": retriever | format_docs_with_metadata, \"question\": RunnablePassthrough()}\n",
    "    | prompt\n",
    "    | llm\n",
    "    | StrOutputParser()\n",
    ")\n",
    "\n",
    "print(\"RAG Chain constructed.\")"
   ]
  },
  {
   "cell_type": "code",
   "execution_count": 13,
   "id": "285bb5d2-81a8-4253-b797-748f38d29958",
   "metadata": {},
   "outputs": [
    {
     "name": "stdout",
     "output_type": "stream",
     "text": [
      "\n",
      "--- Querying RAG Chain ---\n",
      "Question: How can I control my blood sugar level with diet according to the textbook?\n",
      "\n",
      "Response:\n",
      " To manage your blood sugar level effectively, focus on a balanced diet as per the guidelines provided in your diabetes management textbooks. Here are some actionable strategies you can consider:\n",
      "\n",
      "1. Portion Control: Limit your intake of high-sugar foods like sweets by portioning them carefully. Instead of eating large portions at once, try smaller amounts spread over time.\n",
      "\n",
      "2. Timing: It's best to consume sweets around meal times, rather than as snacks between meals. This will help regulate your blood sugar levels and prevent spikes.\n",
      "\n",
      "3. Carbohydrate Counting/Exchange: If you're on insulin therapy, it is recommended that you learn carbohydrate counting to better manage your food intake. This involves understanding the amount of carbohydrates in different foods and adjusting your insulin dosage accordingly.\n",
      "\n",
      "4. Dietary Composition: Emphasize fruits, legumes, whole grains, dairy products, lean proteins (like fish, meat, egg, milk, cheese, seeds or nuts), and vegetables. Choose foods rich in monounsaturated and polyunsaturated fats to improve glucose metabolism and lower cardiovascular disease risk. Foods rich in long-chain n-3 fatty acids such as fatty fish (EPA and DHA) and nuts and seeds (ALA) are particularly beneficial.\n",
      "\n",
      "5. Avoidance of Sugar-Sweetened Beverages: To control glycemia, weight, reduce the risk for cardiovascular disease, and fatty liver, it is advisable to avoid sugar-sweetened beverages including fruit juices.\n",
      "\n",
      "6. No specific advice on sugar substitutes was provided in your textbooks; therefore, consult a healthcare professional or registered dietitian before using any sugar substitutes.\n",
      "\n",
      "Remember, these recommendations are general and may not suit everyone's specific situation. Always consult a healthcare professional or registered dietitian for personalized medical advice tailored to your needs.\n"
     ]
    }
   ],
   "source": [
    "print(\"\\n--- Querying RAG Chain ---\")\n",
    "question = \"How can I control my blood sugar level with diet according to the textbook?\" # Example refined query\n",
    "# question = \"What does the BADAS guideline say about insulin initiation?\" # Example metadata-aware query\n",
    "# question = \"Tell me about managing diabetes during Ramadan based on the provided texts.\"\n",
    "\n",
    "print(f\"Question: {question}\")\n",
    "\n",
    "try:\n",
    "    response = rag_chain.invoke(question)\n",
    "    print(\"\\nResponse:\")\n",
    "    print(response)\n",
    "except Exception as e:\n",
    "    print(f\"\\nError during RAG chain invocation: {e}\")"
   ]
  },
  {
   "cell_type": "code",
   "execution_count": 14,
   "id": "c080157c-d483-4126-b6ca-2c3f27aad468",
   "metadata": {},
   "outputs": [
    {
     "name": "stdout",
     "output_type": "stream",
     "text": [
      "\n",
      "--- Querying RAG Chain ---\n",
      "Question: What does the BADAS guideline say about insulin initiation?\n",
      "\n",
      "Response:\n",
      " According to the BADAS Guideline 2019, in all major surgeries glucose-insulin infusion should be started. For regular diabetes management, if a person is on insulin, intermediate or long acting insulin is continued; the dose may need to be reduced. Shorter acting insulin should be adjusted according to blood glucose values and food intake. If the portion of high-sugar foods like sweets occasionally consumed, these should be included in daily carbohydrate counting/exchange when planning meals. The timing relative to meals is important, as consuming sweets around meal times can help with proper insulin dosage adjustments. Sugar substitutes are not explicitly mentioned in the provided context documents regarding dietary principles. It's crucial to consult a healthcare professional or registered dietitian for personalized medical advice tailored to your specific situation.\n"
     ]
    }
   ],
   "source": [
    "print(\"\\n--- Querying RAG Chain ---\")\n",
    "question = \"What does the BADAS guideline say about insulin initiation?\" # Example refined query\n",
    "\n",
    "# question = \"Tell me about managing diabetes during Ramadan based on the provided texts.\"\n",
    "\n",
    "print(f\"Question: {question}\")\n",
    "\n",
    "try:\n",
    "    response = rag_chain.invoke(question)\n",
    "    print(\"\\nResponse:\")\n",
    "    print(response)\n",
    "except Exception as e:\n",
    "    print(f\"\\nError during RAG chain invocation: {e}\")"
   ]
  },
  {
   "cell_type": "code",
   "execution_count": 15,
   "id": "6c7b88b0-79a3-405c-b75b-0d7241b22027",
   "metadata": {},
   "outputs": [
    {
     "name": "stdout",
     "output_type": "stream",
     "text": [
      "\n",
      "--- Querying RAG Chain ---\n",
      "Question: Tell me about managing diabetes during Ramadan based on the provided texts.\n",
      "\n",
      "Response:\n",
      " During Ramadan, it is important to manage your diet while maintaining proper blood sugar levels. The context documents suggest the following strategies for occasional intake of high-sugar foods like sweets:\n",
      "\n",
      "1. Portion Control: Limit your portion sizes and avoid overindulging in sugary treats.\n",
      "2. Timing Relative to Meals: Consume sweets either as a small dessert after a balanced meal or, if necessary, as a snack between meals. It is advisable to balance these treats with protein-rich foods for improved blood sugar control.\n",
      "3. Carbohydrate Counting/Exchange: If possible, count the carbohydrates in your sweets and adjust your other meal components accordingly. This will help you maintain proper blood glucose levels throughout the day.\n",
      "4. Sugar Substitutes: Some context documents suggest that sugar substitutes may be used occasionally, but it is essential to consult a healthcare professional or registered dietitian for guidance on their safe and appropriate use.\n",
      "\n",
      "It is crucial to keep in mind general dietary principles relevant to Bangladesh if mentioned in the provided texts. Consult with a healthcare professional or registered dietitian for personalized medical advice tailored to your specific situation, as they can provide recommendations based on your unique needs and circumstances.\n"
     ]
    }
   ],
   "source": [
    "print(\"\\n--- Querying RAG Chain ---\")\n",
    "question = \"Tell me about managing diabetes during Ramadan based on the provided texts.\" # Example refined query\n",
    "\n",
    "\n",
    "\n",
    "print(f\"Question: {question}\")\n",
    "\n",
    "try:\n",
    "    response = rag_chain.invoke(question)\n",
    "    print(\"\\nResponse:\")\n",
    "    print(response)\n",
    "except Exception as e:\n",
    "    print(f\"\\nError during RAG chain invocation: {e}\")"
   ]
  },
  {
   "cell_type": "code",
   "execution_count": 16,
   "id": "5df17168-0894-4b13-a4a2-b6af44777175",
   "metadata": {},
   "outputs": [
    {
     "name": "stdout",
     "output_type": "stream",
     "text": [
      "\n",
      "--- Querying RAG Chain ---\n",
      "Question: I have diabetes. Can I eat sweets?\n",
      "\n",
      "Response:\n",
      " While it's understandable that you might want to indulge in sweets as a person with diabetes, it's important to practice moderation and follow some guidelines to manage your blood glucose levels effectively. Here are some strategies discussed in the context documents:\n",
      "\n",
      "1. Portion control: Limit your serving size of sweets. A smaller portion can help you control your blood sugar levels better.\n",
      "2. Timing relative to meals: It's best to have sweets after a meal, preferably with carbohydrates. This helps balance the impact on your blood glucose levels.\n",
      "3. Carbohydrate counting/exchange: If you are on insulin therapy, it may be beneficial to count or exchange carbohydrates in your diet, including sweets, to manage your blood sugar levels accurately.\n",
      "4. Sugar substitutes: Nonnutritive sweeteners can help reduce overall calorie and carbohydrate intake but should be used sparingly as they may have potential side effects. It's essential to emphasize water intake instead.\n",
      "\n",
      "However, it's important to note that the context documents do not provide clear evidence that dietary supplementation with specific herbs or spices like cinnamon or aloe vera can improve outcomes in people with diabetes.\n",
      "\n",
      "Additionally, it's crucial to avoid sugar-sweetened beverages (including fruit juices) to control glycemia, weight, and reduce the risk for cardiovascular disease and fatty liver.\n",
      "\n",
      "Lastly, always consult a healthcare professional or registered dietitian for personalized medical advice tailored to your specific situation.\n"
     ]
    }
   ],
   "source": [
    "print(\"\\n--- Querying RAG Chain ---\")\n",
    "question = \"I have diabetes. Can I eat sweets?\" # Example refined query\n",
    "\n",
    "\n",
    "\n",
    "print(f\"Question: {question}\")\n",
    "\n",
    "try:\n",
    "    response = rag_chain.invoke(question)\n",
    "    print(\"\\nResponse:\")\n",
    "    print(response)\n",
    "except Exception as e:\n",
    "    print(f\"\\nError during RAG chain invocation: {e}\")"
   ]
  },
  {
   "cell_type": "code",
   "execution_count": null,
   "id": "24512c50-809d-4a05-a697-ff5d2248663e",
   "metadata": {},
   "outputs": [],
   "source": []
  }
 ],
 "metadata": {
  "kernelspec": {
   "display_name": "Python 3 (ipykernel)",
   "language": "python",
   "name": "python3"
  },
  "language_info": {
   "codemirror_mode": {
    "name": "ipython",
    "version": 3
   },
   "file_extension": ".py",
   "mimetype": "text/x-python",
   "name": "python",
   "nbconvert_exporter": "python",
   "pygments_lexer": "ipython3",
   "version": "3.11.2"
  }
 },
 "nbformat": 4,
 "nbformat_minor": 5
}
