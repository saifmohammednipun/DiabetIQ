{
 "cells": [
  {
   "cell_type": "markdown",
   "id": "2e0bbec1-f15e-471e-972f-83804d691316",
   "metadata": {},
   "source": [
    "# Load Environment Variables"
   ]
  },
  {
   "cell_type": "code",
   "execution_count": 1,
   "id": "0f2a425a-b754-4132-80a7-81770a818222",
   "metadata": {},
   "outputs": [],
   "source": [
    "import os\n",
    "from dotenv import load_dotenv\n",
    "\n",
    "load_dotenv()\n",
    "langchain_api_key = os.getenv('LANGCHAIN_API_KEY')\n",
    "huggingface_api_key = os.getenv('HUGGINGFACE_API_KEY')\n",
    "os.environ['LANGCHAIN_TRACING_V2'] = 'true'\n",
    "os.environ['LANGCHAIN_API_KEY'] = langchain_api_key\n",
    "os.environ['HUGGINGFACE_API_KEY'] = huggingface_api_key"
   ]
  },
  {
   "cell_type": "markdown",
   "id": "b9aea327-9595-4bc5-9ebc-bc02578f582a",
   "metadata": {},
   "source": [
    "# Import Core Langchain Libraries"
   ]
  },
  {
   "cell_type": "code",
   "execution_count": 2,
   "id": "138561ad-148c-46ce-ad2a-f7e178f6c396",
   "metadata": {},
   "outputs": [],
   "source": [
    "from langchain import hub\n",
    "from langchain.text_splitter import RecursiveCharacterTextSplitter\n",
    "from langchain_community.document_loaders import PyPDFLoader # Use this\n",
    "from langchain_community.vectorstores import Chroma\n",
    "from langchain_core.output_parsers import StrOutputParser\n",
    "from langchain_core.runnables import RunnablePassthrough\n",
    "from langchain_huggingface import HuggingFaceEmbeddings\n",
    "from langchain_ollama import OllamaLLM\n",
    "from langchain_core.documents import Document"
   ]
  },
  {
   "cell_type": "markdown",
   "id": "6b4bf8bb-eea1-4048-9c0d-fd27defa3819",
   "metadata": {},
   "source": [
    "# Load and Process PDFs"
   ]
  },
  {
   "cell_type": "code",
   "execution_count": 3,
   "id": "68f451b2-cbbb-405e-995b-fe1b9fd41bf1",
   "metadata": {},
   "outputs": [
    {
     "name": "stdout",
     "output_type": "stream",
     "text": [
      "Loading and Processing PDFs...\n",
      "-> Loading: BES-COVID-Pract-Recomnd-06-June-Final-Copy.pdf\n",
      "   Loaded 38 pages.\n",
      "-> Loading: BES-Ramadan-Guideline-2020-min.pdf\n",
      "   Loaded 46 pages.\n",
      "-> Loading: Diabetes_Care_BADAS_guideline2019-3.pdf\n",
      "   Loaded 79 pages.\n",
      "-> Loading: Insulin-Guideline-min.pdf\n",
      "   Loaded 93 pages.\n",
      "\n",
      "Total documents loaded: 256\n",
      "\n",
      "Sample Document Metadata (first doc):\n",
      "{'producer': 'Nitro PDF PrimoPDF', 'creator': 'PrimoPDF http://www.primopdf.com', 'creationdate': '2020-06-07T20:17:39-06:00', 'moddate': '2020-06-07T20:17:39-06:00', 'title': 'Microsoft Word - BES COVID Pract Recomnd 06 June Final Copy', 'author': 'Mir', 'source': 'BES-COVID-Pract-Recomnd-06-June-Final-Copy.pdf', 'total_pages': 38, 'page': 0, 'page_label': '1'}\n",
      "\n",
      "Sample Document Content (first 500 chars of first doc):\n",
      "Bangladesh Endocrine Society (BES) \n",
      "Practical Recommendations for Management of \n",
      "Diabetes and Other Endocrine Diseases in Patients with \n",
      "COVID-19 \n",
      " \n",
      " \n",
      " \n",
      " \n",
      " \n",
      "Published Online June 2020 \n",
      " \n",
      " \n",
      "All rights reserved by: Bangladesh Endocrine Society (BES) \n",
      " \n",
      " \n",
      "Published by \n",
      "Bangladesh Endocrine Society (BES) \n",
      "Website: http://bes-org.net \n",
      "E-mail: \n",
      "endobd2012@gmail.com\n"
     ]
    }
   ],
   "source": [
    "pdf_files = [\n",
    "    r\"F:\\DiabetIQ\\LLM\\PDFs\\BES-COVID-Pract-Recomnd-06-June-Final-Copy.pdf\",\n",
    "    r\"F:\\DiabetIQ\\LLM\\PDFs\\BES-Ramadan-Guideline-2020-min.pdf\",\n",
    "    r\"F:\\DiabetIQ\\LLM\\PDFs\\Diabetes_Care_BADAS_guideline2019-3.pdf\",\n",
    "    r\"F:\\DiabetIQ\\LLM\\PDFs\\Insulin-Guideline-min.pdf\"\n",
    "]\n",
    "\n",
    "all_docs = [] # Will store LangChain Document objects\n",
    "\n",
    "print(\"Loading and Processing PDFs...\")\n",
    "for pdf_path in pdf_files:\n",
    "    try:\n",
    "        # Extract filename for metadata\n",
    "        file_name = os.path.basename(pdf_path)\n",
    "        print(f\"-> Loading: {file_name}\")\n",
    "\n",
    "        loader = PyPDFLoader(pdf_path)\n",
    "        # Load pages as individual documents. Each doc will have metadata['page']\n",
    "        pages = loader.load_and_split() # This does basic splitting\n",
    "\n",
    "        # Add source filename to metadata for each page/document\n",
    "        for page_doc in pages:\n",
    "            page_doc.metadata['source'] = file_name\n",
    "            # Optional: clean up page content slightly if needed\n",
    "            # page_doc.page_content = page_doc.page_content.replace('\\n', ' ').strip()\n",
    "\n",
    "        all_docs.extend(pages)\n",
    "        print(f\"   Loaded {len(pages)} pages.\")\n",
    "\n",
    "    except Exception as e:\n",
    "        print(f\"Error loading {pdf_path}: {e}\")\n",
    "\n",
    "print(f\"\\nTotal documents loaded: {len(all_docs)}\")\n",
    "if all_docs:\n",
    "    print(\"\\nSample Document Metadata (first doc):\")\n",
    "    print(all_docs[0].metadata)\n",
    "    print(\"\\nSample Document Content (first 500 chars of first doc):\")\n",
    "    print(all_docs[0].page_content[:500])\n",
    "else:\n",
    "    print(\"\\nNo documents were loaded successfully.\")\n",
    "    # Consider exiting or handling this error appropriately\n",
    "    exit()"
   ]
  },
  {
   "cell_type": "markdown",
   "id": "b445e381-ddba-4a47-aac6-6a06828b47d5",
   "metadata": {},
   "source": [
    "# Initialize Text Splitter "
   ]
  },
  {
   "cell_type": "code",
   "execution_count": 4,
   "id": "b5fe9fe5-41ae-4ac3-97ee-105ae361c8ae",
   "metadata": {},
   "outputs": [],
   "source": [
    "text_splitter = RecursiveCharacterTextSplitter(\n",
    "    chunk_size=1000,\n",
    "    chunk_overlap=200,\n",
    "    # Keep separators that make sense for text structure\n",
    "    separators=[\"\\n\\n\", \"\\n\", \". \", \", \", \" \", \"\"],\n",
    "    length_function=len,\n",
    ")"
   ]
  },
  {
   "cell_type": "markdown",
   "id": "b71332f4-f787-4812-8e93-62b7b7dd97b5",
   "metadata": {},
   "source": [
    "# Split Documents into Chunks"
   ]
  },
  {
   "cell_type": "code",
   "execution_count": 5,
   "id": "32097778-a66f-499e-b41c-5813f64fc587",
   "metadata": {},
   "outputs": [
    {
     "name": "stdout",
     "output_type": "stream",
     "text": [
      "\n",
      "Total chunks created: 702\n",
      "\n",
      "Sample Chunk Metadata (first chunk):\n",
      "{'producer': 'Nitro PDF PrimoPDF', 'creator': 'PrimoPDF http://www.primopdf.com', 'creationdate': '2020-06-07T20:17:39-06:00', 'moddate': '2020-06-07T20:17:39-06:00', 'title': 'Microsoft Word - BES COVID Pract Recomnd 06 June Final Copy', 'author': 'Mir', 'source': 'BES-COVID-Pract-Recomnd-06-June-Final-Copy.pdf', 'total_pages': 38, 'page': 0, 'page_label': '1'}\n",
      "\n",
      "Sample Chunk Content (first 500 chars):\n",
      "Bangladesh Endocrine Society (BES) \n",
      "Practical Recommendations for Management of \n",
      "Diabetes and Other Endocrine Diseases in Patients with \n",
      "COVID-19 \n",
      " \n",
      " \n",
      " \n",
      " \n",
      " \n",
      "Published Online June 2020 \n",
      " \n",
      " \n",
      "All rights reserved by: Bangladesh Endocrine Society (BES) \n",
      " \n",
      " \n",
      "Published by \n",
      "Bangladesh Endocrine Society (BES) \n",
      "Website: http://bes-org.net \n",
      "E-mail: \n",
      "endobd2012@gmail.com\n"
     ]
    }
   ],
   "source": [
    "chunks = text_splitter.split_documents(all_docs)\n",
    "\n",
    "print(f\"\\nTotal chunks created: {len(chunks)}\")\n",
    "if chunks:\n",
    "    print(\"\\nSample Chunk Metadata (first chunk):\")\n",
    "    print(chunks[0].metadata)\n",
    "    print(\"\\nSample Chunk Content (first 500 chars):\")\n",
    "    print(chunks[0].page_content[:500])\n",
    "else:\n",
    "    print(\"\\nNo chunks were created. Check splitting process.\")\n",
    "    exit()"
   ]
  },
  {
   "cell_type": "markdown",
   "id": "d2d11e73-09fe-49a7-900f-9d0b2ff568c2",
   "metadata": {},
   "source": [
    "# Initialize Embeddings and Vector Store"
   ]
  },
  {
   "cell_type": "code",
   "execution_count": 6,
   "id": "6a7e365c-ae7d-4b51-9d79-323fe366ec3d",
   "metadata": {},
   "outputs": [
    {
     "name": "stdout",
     "output_type": "stream",
     "text": [
      "\n",
      "Initializing Embedding Model...\n",
      "\n",
      "Creating Vector Store (ChromaDB)...\n",
      "Vector Store Created.\n"
     ]
    }
   ],
   "source": [
    "print(\"\\nInitializing Embedding Model...\")\n",
    "embedding_model = HuggingFaceEmbeddings(model_name=\"intfloat/e5-small-v2\")\n",
    "\n",
    "print(\"\\nCreating Vector Store (ChromaDB)...\")\n",
    "# Chroma.from_documents handles Document objects directly\n",
    "# Consider adding persistence: persist_directory=\"./chroma_db_diabetiq\"\n",
    "vectorstore = Chroma.from_documents(\n",
    "    documents=chunks,\n",
    "    embedding=embedding_model,\n",
    "    # persist_directory=\"./chroma_db_diabetiq\" # Uncomment to save DB locally\n",
    ")\n",
    "# If persisting: vectorstore.persist()\n",
    "\n",
    "# To load later:\n",
    "# vectorstore = Chroma(persist_directory=\"./chroma_db_diabetiq\", embedding_function=embedding_model)\n",
    "\n",
    "print(\"Vector Store Created.\")"
   ]
  },
  {
   "cell_type": "markdown",
   "id": "12fc03b4-0bd4-4bd5-9bac-c8b0b8480e5a",
   "metadata": {},
   "source": [
    "# Create Retriever"
   ]
  },
  {
   "cell_type": "code",
   "execution_count": 7,
   "id": "9e4326e8-b9d3-43ab-9037-fa9e0c9c877b",
   "metadata": {},
   "outputs": [],
   "source": [
    "retriever = vectorstore.as_retriever(search_kwargs={\"k\": 5}) # Retrieve top 5 chunks"
   ]
  },
  {
   "cell_type": "markdown",
   "id": "aa4a55e0-5902-4862-aecb-85be610fc118",
   "metadata": {},
   "source": [
    "# Confirm Retriever Configuration"
   ]
  },
  {
   "cell_type": "code",
   "execution_count": 8,
   "id": "57853da4-1b13-40df-9f45-72109f419a7f",
   "metadata": {},
   "outputs": [
    {
     "name": "stdout",
     "output_type": "stream",
     "text": [
      "Retriever configured (using k=5).\n"
     ]
    }
   ],
   "source": [
    "print(f\"Retriever configured (using k={retriever.search_kwargs.get('k', 'default')}).\")"
   ]
  },
  {
   "cell_type": "markdown",
   "id": "7e1c7ff0-e8de-45fc-8646-010ae78b70b6",
   "metadata": {},
   "source": [
    "# Define RAG Prompt Template"
   ]
  },
  {
   "cell_type": "code",
   "execution_count": 9,
   "id": "1abd5c41-61ea-403c-a5ef-c95b8716d504",
   "metadata": {},
   "outputs": [],
   "source": [
    "from langchain_core.prompts import PromptTemplate\n",
    "prompt_template = \"\"\"\n",
    "You are DiabetIQ, an AI assistant specializing in diabetes management for patients in Bangladesh, based *strictly* on the provided context documents.\n",
    "\n",
    "Context Documents:\n",
    "{context}\n",
    "\n",
    "Based *only* on the information in the numbered context documents above, answer the following question concisely and directly.\n",
    "Your advice should be actionable and consider general practices relevant to Bangladesh where possible (e.g., common foods mentioned in context, local guidelines if present in context).\n",
    "Do *not* add information that is not present in the context.\n",
    "If the context does not contain the answer, state that clearly.\n",
    "Always conclude your response by advising the user to consult a healthcare professional for personalized medical advice.\n",
    "\n",
    "Question: {question}\n",
    "\n",
    "Answer:\n",
    "\"\"\"\n",
    "\n",
    "prompt = PromptTemplate.from_template(prompt_template)"
   ]
  },
  {
   "cell_type": "markdown",
   "id": "51a2d117-7e88-4f38-b59b-f4d0a80d3306",
   "metadata": {},
   "source": [
    "# Initialize RAG LLM"
   ]
  },
  {
   "cell_type": "code",
   "execution_count": 10,
   "id": "8ade7791-f8ea-4f46-a03f-791f03647bb8",
   "metadata": {},
   "outputs": [
    {
     "name": "stdout",
     "output_type": "stream",
     "text": [
      "Initializing LLM (Ollama - Mistral)...\n"
     ]
    }
   ],
   "source": [
    "print(\"Initializing LLM (Ollama - Mistral)...\")\n",
    "llm = OllamaLLM(model=\"mistral\")"
   ]
  },
  {
   "cell_type": "markdown",
   "id": "c3d7b034-add4-4e4a-8b55-9a133ec3dee9",
   "metadata": {},
   "source": [
    "# Define Document Formatting Function"
   ]
  },
  {
   "cell_type": "code",
   "execution_count": 11,
   "id": "99ea2af0-fc74-4d2e-91b8-6a8cd7460c65",
   "metadata": {},
   "outputs": [],
   "source": [
    "def format_docs_with_metadata(docs):\n",
    "    \"\"\"Formats retrieved documents including source and page.\"\"\"\n",
    "    formatted_strings = []\n",
    "    for i, doc in enumerate(docs):\n",
    "        metadata_str = f\"Source: {doc.metadata.get('source', 'N/A')}, Page: {doc.metadata.get('page', 'N/A')}\"\n",
    "        content_str = doc.page_content.replace('\\n', ' ').strip()\n",
    "        formatted_strings.append(f\"{i+1}. [{metadata_str}] {content_str}\")\n",
    "    return \"\\n\\n\".join(formatted_strings)"
   ]
  },
  {
   "cell_type": "markdown",
   "id": "3c0ee754-d346-4efa-8be9-045e08014327",
   "metadata": {},
   "source": [
    "# Construct RAG Chain"
   ]
  },
  {
   "cell_type": "code",
   "execution_count": 12,
   "id": "6d80bb06-556c-4db8-94db-c6e6ead956c5",
   "metadata": {},
   "outputs": [
    {
     "name": "stdout",
     "output_type": "stream",
     "text": [
      "RAG Chain constructed.\n"
     ]
    }
   ],
   "source": [
    "rag_chain = (\n",
    "    {\"context\": retriever | format_docs_with_metadata, \"question\": RunnablePassthrough()}\n",
    "    | prompt\n",
    "    | llm\n",
    "    | StrOutputParser()\n",
    ")\n",
    "\n",
    "print(\"RAG Chain constructed.\")"
   ]
  },
  {
   "cell_type": "markdown",
   "id": "ecf112c6-c988-466a-979b-bb345f315a89",
   "metadata": {},
   "source": [
    "# Re-set Environment Variables (Redundant) "
   ]
  },
  {
   "cell_type": "code",
   "execution_count": 13,
   "id": "23f9a849-5687-43b7-a732-9da21fa03eb3",
   "metadata": {},
   "outputs": [
    {
     "name": "stdout",
     "output_type": "stream",
     "text": [
      "Environment variables set.\n"
     ]
    }
   ],
   "source": [
    "\n",
    "import os\n",
    "from dotenv import load_dotenv\n",
    "\n",
    "load_dotenv()\n",
    "\n",
    "langchain_api_key = os.getenv('LANGCHAIN_API_KEY', 'YOUR_LANGCHAIN_API_KEY_FALLBACK') # Add fallbacks or ensure .env is present\n",
    "huggingface_api_key = os.getenv('HUGGINGFACE_API_KEY', 'YOUR_HF_API_KEY_FALLBACK') # Add fallbacks or ensure .env is present\n",
    "os.environ['LANGCHAIN_TRACING_V2'] = 'true'\n",
    "os.environ['LANGCHAIN_API_KEY'] = langchain_api_key\n",
    "os.environ['HUGGINGFACE_API_KEY'] = huggingface_api_key\n",
    "\n",
    "print(\"Environment variables set.\")"
   ]
  },
  {
   "cell_type": "markdown",
   "id": "865ff3fa-fa51-4129-ae63-f6feb9300985",
   "metadata": {},
   "source": [
    "# Import DeepEval and Related Libraries"
   ]
  },
  {
   "cell_type": "code",
   "execution_count": 23,
   "id": "ab166ba6-3af4-4fa1-921b-3bb7b450a2ad",
   "metadata": {},
   "outputs": [
    {
     "name": "stdout",
     "output_type": "stream",
     "text": [
      "Libraries imported.\n"
     ]
    }
   ],
   "source": [
    "from langchain import hub\n",
    "from langchain.text_splitter import RecursiveCharacterTextSplitter\n",
    "from langchain_community.document_loaders import PyPDFLoader\n",
    "from langchain_community.vectorstores import Chroma\n",
    "from langchain_core.output_parsers import StrOutputParser\n",
    "from langchain_core.runnables import RunnablePassthrough\n",
    "from langchain_huggingface import HuggingFaceEmbeddings\n",
    "from langchain_ollama import OllamaLLM\n",
    "from langchain_core.documents import Document\n",
    "from langchain_core.prompts import PromptTemplate\n",
    "\n",
    "\n",
    "import deepeval\n",
    "from deepeval import evaluate\n",
    "from deepeval.metrics import AnswerRelevancyMetric, FaithfulnessMetric, ContextualRelevancyMetric\n",
    "from deepeval.test_case import LLMTestCase\n",
    "from deepeval.models import OllamaModel\n",
    "\n",
    "print(\"Libraries imported.\")"
   ]
  },
  {
   "cell_type": "markdown",
   "id": "5c3f7b3a-0204-469b-af23-3a934b097f14",
   "metadata": {},
   "source": [
    "# RAG Pipeline"
   ]
  },
  {
   "cell_type": "code",
   "execution_count": 17,
   "id": "b3a16ccd-387e-4833-9b16-afe081d52c09",
   "metadata": {},
   "outputs": [
    {
     "name": "stdout",
     "output_type": "stream",
     "text": [
      "Loading and Processing PDFs for RAG chain...\n",
      "-> Loading: BES-COVID-Pract-Recomnd-06-June-Final-Copy.pdf\n",
      "   Loaded 38 pages.\n",
      "-> Loading: BES-Ramadan-Guideline-2020-min.pdf\n",
      "   Loaded 48 pages.\n",
      "-> Loading: Diabetes_Care_BADAS_guideline2019-3.pdf\n",
      "   Loaded 79 pages.\n",
      "-> Loading: Insulin-Guideline-min.pdf\n",
      "   Loaded 48 pages.\n",
      "Total documents loaded: 213\n",
      "Total chunks created: 684\n",
      "Initializing Embedding Model...\n",
      "Creating Vector Store (ChromaDB)...\n",
      "Vector Store Created.\n",
      "Retriever configured (using k=5).\n",
      "Initializing Generation LLM (Ollama - Mistral)...\n",
      "RAG Chain constructed and ready for testing.\n",
      "Context retrieval function defined.\n"
     ]
    }
   ],
   "source": [
    "pdf_files = [\n",
    "    r\"F:\\\\DiabetIQ\\\\LLM\\\\PDFs\\\\BES-COVID-Pract-Recomnd-06-June-Final-Copy.pdf\",\n",
    "    r\"F:\\\\DiabetIQ\\\\LLM\\\\PDFs\\\\BES-Ramadan-Guideline-2020-min.pdf\",\n",
    "    r\"F:\\\\DiabetIQ\\\\LLM\\\\PDFs\\\\Diabetes_Care_BADAS_guideline2019-3.pdf\",\n",
    "    r\"F:\\\\DiabetIQ\\\\LLM\\\\PDFs\\\\Insulin-Guideline-min.pdf\"\n",
    "]\n",
    "\n",
    "\n",
    "all_docs = []\n",
    "print(\"Loading and Processing PDFs for RAG chain...\")\n",
    "for pdf_path in pdf_files:\n",
    "    try:\n",
    "        file_name = os.path.basename(pdf_path)\n",
    "        print(f\"-> Loading: {file_name}\")\n",
    "        loader = PyPDFLoader(pdf_path)\n",
    "        pages = loader.load() \n",
    "        for page_doc in pages:\n",
    "            page_doc.metadata['source'] = file_name\n",
    "           \n",
    "        all_docs.extend(pages)\n",
    "        print(f\"   Loaded {len(pages)} pages.\")\n",
    "    except Exception as e:\n",
    "        print(f\"Error loading {pdf_path}: {e}\")\n",
    "print(f\"Total documents loaded: {len(all_docs)}\")\n",
    "if not all_docs:\n",
    "    print(\"No documents loaded, exiting.\")\n",
    "    exit()\n",
    "\n",
    "\n",
    "text_splitter = RecursiveCharacterTextSplitter(\n",
    "    chunk_size=1000,\n",
    "    chunk_overlap=200,\n",
    "    separators=[\"\\n\\n\", \"\\n\", \". \", \", \", \" \", \"\"],\n",
    "    length_function=len,\n",
    ")\n",
    "chunks = text_splitter.split_documents(all_docs)\n",
    "print(f\"Total chunks created: {len(chunks)}\")\n",
    "if not chunks:\n",
    "    print(\"No chunks created, exiting.\")\n",
    "    exit()\n",
    "\n",
    "\n",
    "print(\"Initializing Embedding Model...\")\n",
    "embedding_model = HuggingFaceEmbeddings(model_name=\"intfloat/e5-small-v2\")\n",
    "print(\"Creating Vector Store (ChromaDB)...\")\n",
    "vectorstore = Chroma.from_documents(\n",
    "    documents=chunks,\n",
    "    embedding=embedding_model,\n",
    ")\n",
    "print(\"Vector Store Created.\")\n",
    "\n",
    "\n",
    "retriever = vectorstore.as_retriever(search_kwargs={\"k\": 5})\n",
    "print(f\"Retriever configured (using k={retriever.search_kwargs.get('k', 'default')}).\")\n",
    "\n",
    "\n",
    "prompt_template = \"\"\"\n",
    "You are DiabetIQ, an AI assistant specializing in diabetes management for patients in Bangladesh, based *strictly* on the provided context documents.\n",
    "\n",
    "Context Documents:\n",
    "{context}\n",
    "\n",
    "Based *only* on the information in the numbered context documents above, answer the following question concisely and directly.\n",
    "Your advice should be actionable and consider general practices relevant to Bangladesh where possible (e.g., common foods mentioned in context, local guidelines if present in context).\n",
    "Do *not* add information that is not present in the context.\n",
    "If the context does not contain the answer, state that clearly.\n",
    "Always conclude your response by advising the user to consult a healthcare professional for personalized medical advice.\n",
    "\n",
    "Question: {question}\n",
    "\n",
    "Answer:\n",
    "\"\"\"\n",
    "prompt = PromptTemplate.from_template(prompt_template)\n",
    "\n",
    "\n",
    "print(\"Initializing Generation LLM (Ollama - Mistral)...\")\n",
    "llm = OllamaLLM(model=\"mistral\") \n",
    "\n",
    "\n",
    "def format_docs_with_metadata(docs):\n",
    "    formatted_strings = []\n",
    "    for i, doc in enumerate(docs):\n",
    "        metadata_str = f\"Source: {doc.metadata.get('source', 'N/A')}, Page: {doc.metadata.get('page', 'N/A')}\"\n",
    "        content_str = doc.page_content.replace('\\n', ' ').strip()\n",
    "        formatted_strings.append(f\"{i+1}. [{metadata_str}] {content_str}\")\n",
    "    return \"\\n\\n\".join(formatted_strings)\n",
    "\n",
    "rag_chain = (\n",
    "    {\"context\": retriever | format_docs_with_metadata, \"question\": RunnablePassthrough()}\n",
    "    | prompt\n",
    "    | llm\n",
    "    | StrOutputParser()\n",
    ")\n",
    "print(\"RAG Chain constructed and ready for testing.\")\n",
    "\n",
    "def retrieve_context(question: str):\n",
    "    \"\"\"Retrieves raw document chunks for a given question.\"\"\"\n",
    "    return retriever.invoke(question)\n",
    "\n",
    "print(\"Context retrieval function defined.\")"
   ]
  },
  {
   "cell_type": "markdown",
   "id": "719dd9cb-b20b-4aba-af8f-380ed8a62cc4",
   "metadata": {},
   "source": [
    "# Configure DeepEval Evaluation Model"
   ]
  },
  {
   "cell_type": "code",
   "execution_count": 24,
   "id": "72a59b51-7a8e-4079-96d5-5a84d8fa2331",
   "metadata": {},
   "outputs": [
    {
     "name": "stdout",
     "output_type": "stream",
     "text": [
      "Configuring DeepEval Evaluation Model (using deepeval.models.OllamaModel)...\n",
      "Using default Ollama base URL (http://localhost:11434).\n",
      "DeepEval Evaluation Model (llama3.2) configured.\n"
     ]
    }
   ],
   "source": [
    "import os \n",
    "\n",
    "print(\"Configuring DeepEval Evaluation Model (using deepeval.models.OllamaModel)...\")\n",
    "\n",
    "\n",
    "ollama_model_name = \"llama3.2\"\n",
    "\n",
    "ollama_base_url = os.getenv(\"OLLAMA_BASE_URL\", None) \n",
    "\n",
    "if ollama_base_url:\n",
    "    print(f\"Using Ollama base URL: {ollama_base_url}\")\n",
    "    evaluation_model = OllamaModel(model=ollama_model_name, base_url=ollama_base_url)\n",
    "else:\n",
    "    print(\"Using default Ollama base URL (http://localhost:11434).\")\n",
    "    \n",
    "    evaluation_model = OllamaModel(model=ollama_model_name)\n",
    "\n",
    "print(f\"DeepEval Evaluation Model ({ollama_model_name}) configured.\")"
   ]
  },
  {
   "cell_type": "code",
   "execution_count": null,
   "id": "4e9f73d4-ac85-4c08-a37d-042627ce8936",
   "metadata": {},
   "outputs": [],
   "source": []
  },
  {
   "cell_type": "code",
   "execution_count": 25,
   "id": "1f147777-5b9a-4d28-9d55-91c05d14b148",
   "metadata": {},
   "outputs": [
    {
     "name": "stdout",
     "output_type": "stream",
     "text": [
      "Defining DeepEval Metrics...\n",
      "Using configured 'llama3.2' DeepEval model object for judgments.\n",
      "DeepEval Metrics defined.\n"
     ]
    }
   ],
   "source": [
    "print(\"Defining DeepEval Metrics...\")\n",
    "\n",
    "\n",
    "print(f\"Using configured '{evaluation_model.model_name}' DeepEval model object for judgments.\")\n",
    "\n",
    "\n",
    "answer_relevancy_metric = AnswerRelevancyMetric(\n",
    "    threshold=0.7,\n",
    "    model=evaluation_model,          \n",
    "    include_reason=True\n",
    ")\n",
    "\n",
    "faithfulness_metric = FaithfulnessMetric(\n",
    "    threshold=0.7,\n",
    "    model=evaluation_model,           \n",
    "    include_reason=True\n",
    ")\n",
    "\n",
    "contextual_relevancy_metric = ContextualRelevancyMetric(\n",
    "    threshold=0.7,\n",
    "    model=evaluation_model,           \n",
    "    include_reason=True\n",
    ")\n",
    "\n",
    "\n",
    "metrics = [\n",
    "    answer_relevancy_metric,\n",
    "    faithfulness_metric,\n",
    "    contextual_relevancy_metric\n",
    "]\n",
    "print(\"DeepEval Metrics defined.\")"
   ]
  },
  {
   "cell_type": "code",
   "execution_count": 26,
   "id": "25e5950f-9823-4e41-b1ed-2e7cb685c314",
   "metadata": {},
   "outputs": [
    {
     "name": "stdout",
     "output_type": "stream",
     "text": [
      "Generating Test Cases and RAG Outputs...\n",
      "\n",
      "Processing question: How can I control my blood sugar level with diet according to the textbook?\n",
      "  - Generated Output:  To help control your blood sugar level according to the textbooks, consider following a balanced diet that emphasizes fruits, legumes, whole grains, ...\n",
      "  - Test case created.\n",
      "\n",
      "Processing question: What does the BADAS guideline say about insulin initiation?\n",
      "  - Generated Output:  According to the BADAS Guideline 2019, in all major surgeries, glucose-insulin infusion should be started. However, it does not specify the exact typ...\n",
      "  - Test case created.\n",
      "\n",
      "Processing question: Tell me about managing diabetes during Ramadan based on the provided texts.\n",
      "  - Generated Output:  To manage diabetes during Ramadan, it's crucial to adjust medication doses, diet, and exercise regimens as recommended. The following are some genera...\n",
      "  - Test case created.\n",
      "\n",
      "Processing question: I have diabetes. Can I eat sweets?\n",
      "  - Generated Output:  While you can consume sweets, it is advisable to do so in moderation as part of a balanced diet. It's important to limit your overall calorie and car...\n",
      "  - Test case created.\n",
      "\n",
      "Processing question: What are the symptoms of hypoglycemia?\n",
      "  - Generated Output:  The symptoms of hypoglycemia in Bangladesh, according to the BADAS Guideline 2019, include sweating, palpitation, tremor, irritability, hunger for mi...\n",
      "  - Test case created.\n",
      "\n",
      "Processing question: Does the context mention specific insulin brand names?\n",
      "  - Generated Output:  No, the provided context documents do not mention any specific insulin brand names. It is important to note that the selection of an appropriate insu...\n",
      "  - Test case created.\n",
      "\n",
      "Processing question: Summarize the COVID-19 recommendations for diabetic patients.\n",
      "  - Generated Output: 1. Maintain home isolation for at least 3 weeks after hospital discharge if you are a COVID-19 patient with diabetes.\n",
      "2. Adhere to general precautions...\n",
      "  - Test case created.\n",
      "\n",
      "Total test cases generated: 7\n"
     ]
    }
   ],
   "source": [
    "print(\"Generating Test Cases and RAG Outputs...\")\n",
    "\n",
    "\n",
    "test_questions = [\n",
    "    \"How can I control my blood sugar level with diet according to the textbook?\",\n",
    "    \"What does the BADAS guideline say about insulin initiation?\",\n",
    "    \"Tell me about managing diabetes during Ramadan based on the provided texts.\",\n",
    "    \"I have diabetes. Can I eat sweets?\",\n",
    "    \"What are the symptoms of hypoglycemia?\", \n",
    "    \"Does the context mention specific insulin brand names?\", \n",
    "    \"Summarize the COVID-19 recommendations for diabetic patients.\"\n",
    "]\n",
    "\n",
    "test_cases = []\n",
    "\n",
    "for question in test_questions:\n",
    "    print(f\"\\nProcessing question: {question}\")\n",
    "    try:\n",
    "        \n",
    "        retrieved_docs = retrieve_context(question)\n",
    "        retrieval_context_list = [doc.page_content for doc in retrieved_docs] \n",
    "\n",
    "        \n",
    "        actual_output = rag_chain.invoke(question)\n",
    "        print(f\"  - Generated Output: {actual_output[:150]}...\") \n",
    "\n",
    "        \n",
    "        test_case = LLMTestCase(\n",
    "            input=question,\n",
    "            actual_output=actual_output,\n",
    "            retrieval_context=retrieval_context_list \n",
    "        )\n",
    "        test_cases.append(test_case)\n",
    "        print(\"  - Test case created.\")\n",
    "\n",
    "    except Exception as e:\n",
    "        print(f\"  - Error processing question '{question}': {e}\")\n",
    "\n",
    "print(f\"\\nTotal test cases generated: {len(test_cases)}\")"
   ]
  },
  {
   "cell_type": "code",
   "execution_count": 28,
   "id": "1b1a18be-f5ce-4ce4-817c-e196eb0f98c5",
   "metadata": {},
   "outputs": [
    {
     "name": "stdout",
     "output_type": "stream",
     "text": [
      "\n",
      "--- Starting DeepEval Evaluation (Synchronous Mode) ---\n"
     ]
    },
    {
     "data": {
      "text/html": [
       "<pre style=\"white-space:pre;overflow-x:auto;line-height:normal;font-family:Menlo,'DejaVu Sans Mono',consolas,'Courier New',monospace\">✨ You're running DeepEval's latest <span style=\"color: #6a00ff; text-decoration-color: #6a00ff\">Answer Relevancy Metric</span>! <span style=\"color: #374151; text-decoration-color: #374151; font-weight: bold\">(</span><span style=\"color: #374151; text-decoration-color: #374151\">using llama3.</span><span style=\"color: #374151; text-decoration-color: #374151; font-weight: bold\">2</span><span style=\"color: #374151; text-decoration-color: #374151\"> </span><span style=\"color: #374151; text-decoration-color: #374151; font-weight: bold\">(</span><span style=\"color: #374151; text-decoration-color: #374151\">Ollama</span><span style=\"color: #374151; text-decoration-color: #374151; font-weight: bold\">)</span><span style=\"color: #374151; text-decoration-color: #374151\">, </span><span style=\"color: #374151; text-decoration-color: #374151\">strict</span><span style=\"color: #374151; text-decoration-color: #374151\">=</span><span style=\"color: #374151; text-decoration-color: #374151; font-style: italic\">False</span><span style=\"color: #374151; text-decoration-color: #374151\">, </span>\n",
       "<span style=\"color: #374151; text-decoration-color: #374151\">async_mode</span><span style=\"color: #374151; text-decoration-color: #374151\">=</span><span style=\"color: #374151; text-decoration-color: #374151; font-style: italic\">False</span><span style=\"color: #374151; text-decoration-color: #374151; font-weight: bold\">)</span><span style=\"color: #374151; text-decoration-color: #374151\">...</span>\n",
       "</pre>\n"
      ],
      "text/plain": [
       "✨ You're running DeepEval's latest \u001b[38;2;106;0;255mAnswer Relevancy Metric\u001b[0m! \u001b[1;38;2;55;65;81m(\u001b[0m\u001b[38;2;55;65;81musing llama3.\u001b[0m\u001b[1;38;2;55;65;81m2\u001b[0m\u001b[38;2;55;65;81m \u001b[0m\u001b[1;38;2;55;65;81m(\u001b[0m\u001b[38;2;55;65;81mOllama\u001b[0m\u001b[1;38;2;55;65;81m)\u001b[0m\u001b[38;2;55;65;81m, \u001b[0m\u001b[38;2;55;65;81mstrict\u001b[0m\u001b[38;2;55;65;81m=\u001b[0m\u001b[3;38;2;55;65;81mFalse\u001b[0m\u001b[38;2;55;65;81m, \u001b[0m\n",
       "\u001b[38;2;55;65;81masync_mode\u001b[0m\u001b[38;2;55;65;81m=\u001b[0m\u001b[3;38;2;55;65;81mFalse\u001b[0m\u001b[1;38;2;55;65;81m)\u001b[0m\u001b[38;2;55;65;81m...\u001b[0m\n"
      ]
     },
     "metadata": {},
     "output_type": "display_data"
    },
    {
     "data": {
      "text/html": [
       "<pre style=\"white-space:pre;overflow-x:auto;line-height:normal;font-family:Menlo,'DejaVu Sans Mono',consolas,'Courier New',monospace\">✨ You're running DeepEval's latest <span style=\"color: #6a00ff; text-decoration-color: #6a00ff\">Faithfulness Metric</span>! <span style=\"color: #374151; text-decoration-color: #374151; font-weight: bold\">(</span><span style=\"color: #374151; text-decoration-color: #374151\">using llama3.</span><span style=\"color: #374151; text-decoration-color: #374151; font-weight: bold\">2</span><span style=\"color: #374151; text-decoration-color: #374151\"> </span><span style=\"color: #374151; text-decoration-color: #374151; font-weight: bold\">(</span><span style=\"color: #374151; text-decoration-color: #374151\">Ollama</span><span style=\"color: #374151; text-decoration-color: #374151; font-weight: bold\">)</span><span style=\"color: #374151; text-decoration-color: #374151\">, </span><span style=\"color: #374151; text-decoration-color: #374151\">strict</span><span style=\"color: #374151; text-decoration-color: #374151\">=</span><span style=\"color: #374151; text-decoration-color: #374151; font-style: italic\">False</span><span style=\"color: #374151; text-decoration-color: #374151\">, </span>\n",
       "<span style=\"color: #374151; text-decoration-color: #374151\">async_mode</span><span style=\"color: #374151; text-decoration-color: #374151\">=</span><span style=\"color: #374151; text-decoration-color: #374151; font-style: italic\">False</span><span style=\"color: #374151; text-decoration-color: #374151; font-weight: bold\">)</span><span style=\"color: #374151; text-decoration-color: #374151\">...</span>\n",
       "</pre>\n"
      ],
      "text/plain": [
       "✨ You're running DeepEval's latest \u001b[38;2;106;0;255mFaithfulness Metric\u001b[0m! \u001b[1;38;2;55;65;81m(\u001b[0m\u001b[38;2;55;65;81musing llama3.\u001b[0m\u001b[1;38;2;55;65;81m2\u001b[0m\u001b[38;2;55;65;81m \u001b[0m\u001b[1;38;2;55;65;81m(\u001b[0m\u001b[38;2;55;65;81mOllama\u001b[0m\u001b[1;38;2;55;65;81m)\u001b[0m\u001b[38;2;55;65;81m, \u001b[0m\u001b[38;2;55;65;81mstrict\u001b[0m\u001b[38;2;55;65;81m=\u001b[0m\u001b[3;38;2;55;65;81mFalse\u001b[0m\u001b[38;2;55;65;81m, \u001b[0m\n",
       "\u001b[38;2;55;65;81masync_mode\u001b[0m\u001b[38;2;55;65;81m=\u001b[0m\u001b[3;38;2;55;65;81mFalse\u001b[0m\u001b[1;38;2;55;65;81m)\u001b[0m\u001b[38;2;55;65;81m...\u001b[0m\n"
      ]
     },
     "metadata": {},
     "output_type": "display_data"
    },
    {
     "data": {
      "text/html": [
       "<pre style=\"white-space:pre;overflow-x:auto;line-height:normal;font-family:Menlo,'DejaVu Sans Mono',consolas,'Courier New',monospace\">✨ You're running DeepEval's latest <span style=\"color: #6a00ff; text-decoration-color: #6a00ff\">Contextual Relevancy Metric</span>! <span style=\"color: #374151; text-decoration-color: #374151; font-weight: bold\">(</span><span style=\"color: #374151; text-decoration-color: #374151\">using llama3.</span><span style=\"color: #374151; text-decoration-color: #374151; font-weight: bold\">2</span><span style=\"color: #374151; text-decoration-color: #374151\"> </span><span style=\"color: #374151; text-decoration-color: #374151; font-weight: bold\">(</span><span style=\"color: #374151; text-decoration-color: #374151\">Ollama</span><span style=\"color: #374151; text-decoration-color: #374151; font-weight: bold\">)</span><span style=\"color: #374151; text-decoration-color: #374151\">, </span><span style=\"color: #374151; text-decoration-color: #374151\">strict</span><span style=\"color: #374151; text-decoration-color: #374151\">=</span><span style=\"color: #374151; text-decoration-color: #374151; font-style: italic\">False</span><span style=\"color: #374151; text-decoration-color: #374151\">, </span>\n",
       "<span style=\"color: #374151; text-decoration-color: #374151\">async_mode</span><span style=\"color: #374151; text-decoration-color: #374151\">=</span><span style=\"color: #374151; text-decoration-color: #374151; font-style: italic\">False</span><span style=\"color: #374151; text-decoration-color: #374151; font-weight: bold\">)</span><span style=\"color: #374151; text-decoration-color: #374151\">...</span>\n",
       "</pre>\n"
      ],
      "text/plain": [
       "✨ You're running DeepEval's latest \u001b[38;2;106;0;255mContextual Relevancy Metric\u001b[0m! \u001b[1;38;2;55;65;81m(\u001b[0m\u001b[38;2;55;65;81musing llama3.\u001b[0m\u001b[1;38;2;55;65;81m2\u001b[0m\u001b[38;2;55;65;81m \u001b[0m\u001b[1;38;2;55;65;81m(\u001b[0m\u001b[38;2;55;65;81mOllama\u001b[0m\u001b[1;38;2;55;65;81m)\u001b[0m\u001b[38;2;55;65;81m, \u001b[0m\u001b[38;2;55;65;81mstrict\u001b[0m\u001b[38;2;55;65;81m=\u001b[0m\u001b[3;38;2;55;65;81mFalse\u001b[0m\u001b[38;2;55;65;81m, \u001b[0m\n",
       "\u001b[38;2;55;65;81masync_mode\u001b[0m\u001b[38;2;55;65;81m=\u001b[0m\u001b[3;38;2;55;65;81mFalse\u001b[0m\u001b[1;38;2;55;65;81m)\u001b[0m\u001b[38;2;55;65;81m...\u001b[0m\n"
      ]
     },
     "metadata": {},
     "output_type": "display_data"
    },
    {
     "name": "stderr",
     "output_type": "stream",
     "text": [
      "Evaluating 7 test case(s) sequentially: |█████████████████████████████████████████████████████|100% (7/7) [Time Taken: 03:46, 32.42s/test case]"
     ]
    },
    {
     "name": "stdout",
     "output_type": "stream",
     "text": [
      "\n",
      "======================================================================\n",
      "\n",
      "Metrics Summary\n",
      "\n",
      "  - ✅ Answer Relevancy (score: 0.7777777777777778, threshold: 0.7, strict: False, evaluation model: llama3.2 (Ollama), reason: The score is 0.78 because while the output contains some relevant information about diet and glycemic control, there are two irrelevant statements that detract from its usefulness: one general statement on overall health and another that focuses on improving weight management rather than specifically addressing blood sugar levels with diet., error: None)\n",
      "  - ✅ Faithfulness (score: 0.7333333333333333, threshold: 0.7, strict: False, evaluation model: llama3.2 (Ollama), reason: The score is 0.73 because the actual output contains contradictions regarding Einstein's nationality, the year he won the Nobel Prize, and the effectiveness of dietary supplementation for people with diabetes., error: None)\n",
      "  - ✅ Contextual Relevancy (score: 0.7666666666666667, threshold: 0.7, strict: False, evaluation model: llama3.2 (Ollama), reason: The score is 0.77 because the retrieval context contains relevant statements about diet and nutrition for controlling blood sugar levels, such as emphasizing fruits, legumes, whole grains, dairy products, and avoiding sugar-sweetened beverages, which are supported by quotes like 'fruits, legumes, whole grains, as well as dairy products should be emphasized who are on insulin therapy' and 'People with diabetes and those at risk are advised to avoid sugar-sweetened beverages (including fruit juices)'., error: None)\n",
      "\n",
      "For test case:\n",
      "\n",
      "  - input: How can I control my blood sugar level with diet according to the textbook?\n",
      "  - actual output:  To help control your blood sugar level according to the textbooks, consider following a balanced diet that emphasizes fruits, legumes, whole grains, dairy products, and lean protein from both animal and plant sources. Include at least 2-3 servings of fruits and vegetables daily. Try to avoid sugar-sweetened beverages including fruit juices for better glycemic control and weight management.\n",
      "\n",
      "Diet rich in monounsaturated and polyunsaturated fats, such as foods containing long-chain n-3 fatty acids like fatty fish (EPA and DHA), nuts, and seeds (ALA) may help improve glucose metabolism and lower cardiovascular disease risk.\n",
      "\n",
      "Remember that there is no clear evidence to suggest dietary supplementation with vitamins, minerals, herbs, or spices like chromium, vitamin D, cinnamon, or aloe vera can improve outcomes in people with diabetes as per the textbooks.\n",
      "\n",
      "It is important to keep a regular schedule and maintain protein and energy balance by consuming 1g of protein per kg body weight/day (adjusted according to nutritional status, physical activity level, disease status, and tolerance). For older adults or polymorbid medical inpatients, this amount may need to be increased.\n",
      "\n",
      "Always consult a healthcare professional for personalized medical advice based on your unique situation.\n",
      "  - expected output: None\n",
      "  - context: None\n",
      "  - retrieval context: ['fruits, legumes, whole grains, as well as dairy products should be emphasized who \\nare on insulin therapy. Education on carbohydrate counting should be given. \\nPeople with diabetes and those at risk are advised to avoid sugar-sweetened \\nbeverages (including fruit juices) in order to control glycemia, weight. It also \\nreduces their risk for cardiovascular disease and fatty liver. \\nDiet should contain sufficient protein from animal and plant sources. \\nDietary fat: Diet rich in monounsaturated and polyunsaturated fats may be \\nconsidered to improve glucose metabolism and lower cardiovascular disease risk. \\nFoods rich in long-chain n-3 fatty acids, such as fatty fish (EPA and DHA) and nuts \\nand seeds (ALA) are recommended to prevent or treat cardiovascular disease. \\nThere is no clear evidence that dietary supplementation with vitamins, minerals \\n(such as chromium and vitamin D), herbs, or spices (such as cinnamon or aloe vera) \\ncan improve outcomes in people with diabetes.', 'fruits, legumes, whole grains, as well as dairy products should be emphasized who \\nare on insulin therapy. Education on carbohydrate counting should be given. \\nPeople with diabetes and those at risk are advised to avoid sugar-sweetened \\nbeverages (including fruit juices) in order to control glycemia, weight. It also \\nreduces their risk for cardiovascular disease and fatty liver. \\nDiet should contain sufficient protein from animal and plant sources. \\nDietary fat: Diet rich in monounsaturated and polyunsaturated fats may be \\nconsidered to improve glucose metabolism and lower cardiovascular disease risk. \\nFoods rich in long-chain n-3 fatty acids, such as fatty fish (EPA and DHA) and nuts \\nand seeds (ALA) are recommended to prevent or treat cardiovascular disease. \\nThere is no clear evidence that dietary supplementation with vitamins, minerals \\n(such as chromium and vitamin D), herbs, or spices (such as cinnamon or aloe vera) \\ncan improve outcomes in people with diabetes.', 'but be careful about hyperglycemia \\n• Maintain a regular schedule \\n• Keep glucose drink or lozenge or tablet with you in isolation room or ward \\n• Take plenty fruits and vegetables at least 2 or 3 servings a day \\n• If you are unable to eat due to vomiting or cannot remain hydrated, get medical help soon \\n \\n• Protein and energy balance [4]:  \\no Take enough lean protein like fish, meat, egg, milk, cheese, seeds or nuts  \\no Daily 1 g protein per kg body weight/day in older p ersons, adjusted with regard to \\nnutritional status, physical activity level, disease status and tolerance. \\no Daily  ≥ 1 g protein per kg body weight/day in polymorbid medical inpatients in order to \\nprevent body weight loss, reduce the risk of complications  \\n• Critical/intensive care patients [4]:  \\no In COVID-19 critical, intubated or ventilated ICU p atients enteral nutrition (EN) should \\nbe started through a nasogastric tube.', 'but be careful about hyperglycemia \\n• Maintain a regular schedule \\n• Keep glucose drink or lozenge or tablet with you in isolation room or ward \\n• Take plenty fruits and vegetables at least 2 or 3 servings a day \\n• If you are unable to eat due to vomiting or cannot remain hydrated, get medical help soon \\n \\n• Protein and energy balance [4]:  \\no Take enough lean protein like fish, meat, egg, milk, cheese, seeds or nuts  \\no Daily 1 g protein per kg body weight/day in older p ersons, adjusted with regard to \\nnutritional status, physical activity level, disease status and tolerance. \\no Daily  ≥ 1 g protein per kg body weight/day in polymorbid medical inpatients in order to \\nprevent body weight loss, reduce the risk of complications  \\n• Critical/intensive care patients [4]:  \\no In COVID-19 critical, intubated or ventilated ICU p atients enteral nutrition (EN) should \\nbe started through a nasogastric tube.', 'OGTT procedure \\n¢ Person should take unrestricted diet containing at least 150 grams of \\ncarbohydrate daily for at least previous 3 days. \\n* The test should be in the morning after 8-14 hours of overnight fast (preferably \\nbefore 9 am). \\n* A fasting blood sample prior to glucose drink is collected. \\n* An oral glucose load of 75 gram for adult (1.75 gram/kg body weight, up to \\nmaximum 75 gram for child) is given in 250-300 ml of water.The drink must be \\ncompleted within 5 minutes. \\n* Asecond blood sample is collected at 120th minute after the glucose drink. \\n* If glucose is not estimated immediately then the blood sample may be \\npreserved with sodium fluoride (6 mg/ml whole blood). Blood should be \\ncentrifuged, and plasma separated and frozen until estimation. \\n* Smoking, tea or physical stress is not allowed during the test. \\nReferences \\n* Diabetes Mellitus, Distance Learning Program, 5th edition, BADAS, 2018.']\n",
      "\n",
      "======================================================================\n",
      "\n",
      "Metrics Summary\n",
      "\n",
      "  - ❌ Answer Relevancy (score: 0.6, threshold: 0.7, strict: False, evaluation model: llama3.2 (Ollama), reason: The score is 0.60 because while the output provides some information on insulin initiation, it contains irrelevant statements (e.g., 'In general, consult a healthcare professional to determine the best dose for your specific needs.') that distract from providing directly relevant information about the BADAS guideline., error: None)\n",
      "  - ✅ Faithfulness (score: 1.0, threshold: 0.7, strict: False, evaluation model: llama3.2 (Ollama), reason: The score is 1.00 because there are no contradictions found in the actual output., error: None)\n",
      "  - ✅ Contextual Relevancy (score: 0.7, threshold: 0.7, strict: False, evaluation model: llama3.2 (Ollama), reason: The score is 0.70 because the retrieval context contains some relevant information about insulin initiation (e.g., \"Insulin should be initiated at an initial dose of 0.5 units per kg body weight.\") but is also cluttered with irrelevant details (e.g., \"The unit of insulin to be added to 5 or 10% dextrose or dextrose saline needs to be\")., error: None)\n",
      "\n",
      "For test case:\n",
      "\n",
      "  - input: What does the BADAS guideline say about insulin initiation?\n",
      "  - actual output:  According to the BADAS Guideline 2019, in all major surgeries, glucose-insulin infusion should be started. However, it does not specify the exact type or dosage of insulin to be used in the context provided. It's essential to consult a healthcare professional for personalized medical advice regarding insulin initiation, including the appropriate unit and type of insulin to use during surgery.\n",
      "  - expected output: None\n",
      "  - context: None\n",
      "  - retrieval context: ['10 ‘lI Diabetes Care: BADAS Guideline 2019', '10 ‘lI Diabetes Care: BADAS Guideline 2019', '« In all major surgeries glucose-insulin infusion should be started. The unit of \\ninsulin to be added to 5 or 10% dextrose or dextrose saline needs to be \\n  \\nDiabetes Care: BADAS Guideline 2019 HEI 63', '« In all major surgeries glucose-insulin infusion should be started. The unit of \\ninsulin to be added to 5 or 10% dextrose or dextrose saline needs to be \\n  \\nDiabetes Care: BADAS Guideline 2019 HEI 63', 'From the Government side, we want to maintain a collaboration with BADAS to \\ntake such type of initiative in future which is in line with non-communicable \\ndisease control program of the Government. \\n| sincerely hope this guideline will be helpful to physicians and will serve useful \\npurpose in daily practice. \\ni = = = \\nProf Dr AHM Enayet Hossain \\n  \\nDiabetes Care: BADAS Guideline 2019 HEI) 7']\n",
      "\n",
      "======================================================================\n",
      "\n",
      "Metrics Summary\n",
      "\n",
      "  - ✅ Answer Relevancy (score: 0.7272727272727273, threshold: 0.7, strict: False, evaluation model: llama3.2 (Ollama), reason: The score is 0.73 because while there are some relevant points about personalizing advice for diabetes management during Ramadan, the output contains general statements and reminders that don't directly address individual circumstances or unique health needs, hence lowering the relevancy score., error: None)\n",
      "  - ❌ Faithfulness (score: 0.5, threshold: 0.7, strict: False, evaluation model: llama3.2 (Ollama), reason: The score is 0.50 because several claims in the 'actual output' contradict the more specific information provided in the retrieval context about managing diabetes during Ramadan. Specifically, the claims about adjusting medication doses, consulting a healthcare professional for advice on modifying medications, and regularly checking blood glucose levels are not supported by the guidance on managing diabetes during Ramadan., error: None)\n",
      "  - ✅ Contextual Relevancy (score: 0.8055555555555556, threshold: 0.7, strict: False, evaluation model: llama3.2 (Ollama), reason: The score is 0.81 because the retrieval context provided relevant statements about managing diabetes during Ramadan, such as 'Managing diabetes during Ramadan requires careful planning and monitoring', 'Monitoring blood glucose levels is essential during Ramadan to prevent episodes of hypoglycemia or hyperglycemia', and 'Adjust insulin doses according to the body's needs during Ramadan' (supporting quote from Beshyah SA. Fasting during the month of Ramadan for people with diabetes: Medicine and Fiqh united at last.), which are directly relevant to the input, outweighing the irrelevance of unrelated statements like 'References' and 'Diabetes Canada'., error: None)\n",
      "\n",
      "For test case:\n",
      "\n",
      "  - input: Tell me about managing diabetes during Ramadan based on the provided texts.\n",
      "  - actual output:  To manage diabetes during Ramadan, it's crucial to adjust medication doses, diet, and exercise regimens as recommended. The following are some general practices that can be considered:\n",
      "\n",
      "1. Medication adjustments: Consult a healthcare professional for advice on how to modify insulin or oral medications doses to accommodate the fasting hours.\n",
      "\n",
      "2. Diet: Focus on consuming nutrient-dense meals during Suhoor (pre-dawn meal) and Iftar (evening meal). Incorporate complex carbohydrates, lean proteins, and healthy fats in your meals. Common Bangladeshi foods like steamed rice with lentils or vegetables, fish or chicken, and yogurt can be included.\n",
      "\n",
      "3. Hydration: Drink plenty of water during the non-fasting hours to prevent dehydration, especially during Suhoor.\n",
      "\n",
      "4. Exercise: Engage in moderate physical activity during the non-fasting hours to help maintain blood sugar levels and overall health.\n",
      "\n",
      "5. Monitoring: Regularly check blood glucose levels throughout Ramadan, especially before meals and after exercise. Adjust your meal plan or medication doses as necessary based on these readings.\n",
      "\n",
      "6. Consult a healthcare professional: If you have any concerns about managing diabetes during Ramadan, consult a healthcare provider for personalized medical advice.\n",
      "\n",
      "Please note that this advice is general and may not apply to every individual with diabetes. It's essential to work closely with a healthcare team to create an appropriate management plan tailored to your specific needs.\n",
      "  - expected output: None\n",
      "  - context: None\n",
      "  - retrieval context: ['Section 6  \\n \\n \\nReferences:  \\n1. Al-Arouj M, Bouguerra R, Buse J, Hafez S, Hassanein M, Ibrahim MA, et al. \\nRecommendations for Management of Diabetes During Ramadan. Diabetes \\nCare 2015; 28(9):2305-2311.  \\n2. Pathan MF, Sahay RK, Zargar  AH, Raza SA, Khan AKA, Gaine MA, Siddiqui \\nMN, Amin F, Ishtiaq O, Kalra S. South Asian Consensus Guideline: Use of \\ninsulin in diabetes during Ramadan. Indian J Endocrinol Metab. 2012; 16(4): \\n499–502. doi: 10.4103/2230-8210.97992: 10.4103/2230-8210.97992.  \\n3. Kobeissy A, Zantout MS, Azar ST. Suggested insulin regimens for patients \\nwith type 1 diabetes mellitus who wish to fast during the month of Ramadan. \\nClin Ther 2008;30:1408–15. [Pub Med: 18803984]  \\n4. Benaji B, Mounib N, Roky R, Aadil N, Houti IE, Moussamih S, et al. Diabetes and \\nRamadan: Review of the literature. Diabetes Res Clin Pract 2006;73:117–25.  \\n5. Kadiri A, Al-Nakhi A, El-Ghazali S, Jabbar A, Al Arouj M, Akram J, et al. Treatment of', 'Section 6  \\n \\n \\nReferences:  \\n1. Al-Arouj M, Bouguerra R, Buse J, Hafez S, Hassanein M, Ibrahim MA, et al. \\nRecommendations for Management of Diabetes During Ramadan. Diabetes \\nCare 2015; 28(9):2305-2311.  \\n2. Pathan MF, Sahay RK, Zargar  AH, Raza SA, Khan AKA, Gaine MA, Siddiqui \\nMN, Amin F, Ishtiaq O, Kalra S. South Asian Consensus Guideline: Use of \\ninsulin in diabetes during Ramadan. Indian J Endocrinol Metab. 2012; 16(4): \\n499–502. doi: 10.4103/2230-8210.97992: 10.4103/2230-8210.97992.  \\n3. Kobeissy A, Zantout MS, Azar ST. Suggested insulin regimens for patients \\nwith type 1 diabetes mellitus who wish to fast during the month of Ramadan. \\nClin Ther 2008;30:1408–15. [Pub Med: 18803984]  \\n4. Benaji B, Mounib N, Roky R, Aadil N, Houti IE, Moussamih S, et al. Diabetes and \\nRamadan: Review of the literature. Diabetes Res Clin Pract 2006;73:117–25.  \\n5. Kadiri A, Al-Nakhi A, El-Ghazali S, Jabbar A, Al Arouj M, Akram J, et al. Treatment of', '• Adjust medication dose, diet and exercise as per recommendations.  \\n \\n \\nReferences: \\n \\n1. Al-Arouj M, Bouguerra R, Buse J, Hafez S, Hassanein M, Ibrahim MA, et al. \\nRecommendations for management of diabetes during Ramadan. Diabetes \\nCare 2005 Sept;28 (9):2305-11.  \\n2. Diabetes Canada. Clinical Practice Guideline 2018.  \\n3. Al-Arouj M. Risk stratification of Ramadan fasting in person with diabetes. J \\nPak Med Assoc 2015;65:S18-21.  \\n4. Al-Arouj M, Assaad-Khalil S, Buse J, et al. Recommendations for management \\nof diabetes during Ramadan: Update 2010. Diabetes Care 2010;33:1895-902.  \\n5. Beshyah SA. Fasting during the month of Ramadan for people with diabetes: \\nMedicine and Fiqh united at last. Ibnosina J Med Biomed Sci 2009;1:58-60.  \\n6. International Diabetes Federation and the DAR International Alliance. Diabetes and \\nRamadan: Practical Guidelines. Brussels, Belgium: International Diabetes Federation, \\n2016. www.idf.org/guidelines/diabetes-in-ramadan and www.daralliance.org.', '• Adjust medication dose, diet and exercise as per recommendations.  \\n \\n \\nReferences: \\n \\n1. Al-Arouj M, Bouguerra R, Buse J, Hafez S, Hassanein M, Ibrahim MA, et al. \\nRecommendations for management of diabetes during Ramadan. Diabetes \\nCare 2005 Sept;28 (9):2305-11.  \\n2. Diabetes Canada. Clinical Practice Guideline 2018.  \\n3. Al-Arouj M. Risk stratification of Ramadan fasting in person with diabetes. J \\nPak Med Assoc 2015;65:S18-21.  \\n4. Al-Arouj M, Assaad-Khalil S, Buse J, et al. Recommendations for management \\nof diabetes during Ramadan: Update 2010. Diabetes Care 2010;33:1895-902.  \\n5. Beshyah SA. Fasting during the month of Ramadan for people with diabetes: \\nMedicine and Fiqh united at last. Ibnosina J Med Biomed Sci 2009;1:58-60.  \\n6. International Diabetes Federation and the DAR International Alliance. Diabetes and \\nRamadan: Practical Guidelines. Brussels, Belgium: International Diabetes Federation, \\n2016. www.idf.org/guidelines/diabetes-in-ramadan and www.daralliance.org.', 'Section 9  \\n \\n \\n \\n \\nReferences: \\n \\n1. Al-Arouj M, Assaad-Khalil S, Buse J, et al. Recommendations for management \\nof diabetes during Ramadan: Update 2010. Diabetes Care 2010; 33:1895-902.  \\n2. Bravis V, Hui E, Salih S, et al. Ramadan Education and Awareness in \\nDiabetes (READ) programme for Muslims with Type 2 diabetes who fast \\nduring Ramadan. Diabet Med 2010; 27:327-31.  \\n3. Lee SW, Lee JY, Tan CS, et al. Strategies to make Ramadan fasting safer in type \\n2 diabetics: A systematic review and network meta -analysis of randomized \\ncontrolled trials and observational studies. Medicine (Baltimore) 2016; 95:e2457. \\n \\n4. Al-Arouj M, Bouguerra R, Buse J, et al. Recommendations for management of \\ndiabetes during Ramadan. Diabetes Care 2005;28:2305-11.  \\n5. Azad K, Mohsin F, Zargar AH, et al. Fasting guidelines for diabetic children \\nand adolescents. Indian J Endocrinol Metab2012;16:516-8.  \\n6. Paul A, Kh an M, Fariduddin M. Effect of Ramadan Fasting on']\n",
      "\n",
      "======================================================================\n",
      "\n",
      "Metrics Summary\n",
      "\n",
      "  - ✅ Answer Relevancy (score: 0.7142857142857143, threshold: 0.7, strict: False, evaluation model: llama3.2 (Ollama), reason: The score is 0.71 because the answer is partially relevant to addressing the input about eating sweets for someone with diabetes, but it also contains irrelevant information about nonnutritive sweeteners and fails to provide a clear yes/no answer., error: None)\n",
      "  - ❌ Faithfulness (score: 0.625, threshold: 0.7, strict: False, evaluation model: llama3.2 (Ollama), reason: The score is 0.62 because there are significant contradictions in the actual output, including inaccuracies about nonnutritive sweeteners reducing overall calorie and carbohydrate intake, a direct contradiction regarding the impact on both types of sweetened beverages, and an unclear distinction between simply 'emphasizing' drinking water versus actually encouraging it., error: None)\n",
      "  - ❌ Contextual Relevancy (score: 0.6896551724137931, threshold: 0.7, strict: False, evaluation model: llama3.2 (Ollama), reason: The score is 0.69 because the retrieval context contains mostly irrelevant information about exercise recommendations and dietary restrictions for adults with diabetes, such as 'Exercise recommendation for persons with diabetes is the same, as for persons without diabetes', 'Can I eat sweets?', '$¢ Persons with diabetes who do not have complications and have good blood glucose control, can do all levels of exercise, including leisure activities, recreational' which are not directly relevant to the input about eating sweets. The only partially relevant statement 'Nonnutritive sweeteners can reduce overall calorie and carbohydrate intake' is overshadowed by irrelevant information., error: None)\n",
      "\n",
      "For test case:\n",
      "\n",
      "  - input: I have diabetes. Can I eat sweets?\n",
      "  - actual output:  While you can consume sweets, it is advisable to do so in moderation as part of a balanced diet. It's important to limit your overall calorie and carbohydrate intake from sweetened foods. Nonnutritive sweeteners can help reduce calories, but it's encouraged to decrease both sweetened and non-nutritive sweetened beverages. Drinking plenty of water is emphasized. As always, consult a healthcare professional for personalized medical advice.\n",
      "  - expected output: None\n",
      "  - context: None\n",
      "  - retrieval context: ['(such as chromium and vitamin D), herbs, or spices (such as cinnamon or aloe vera) \\ncan improve outcomes in people with diabetes. \\nAdults with diabetes who drink alcohol should do so in moderation (no more than \\none drink per day for adult women and no more than two drinks per day for adult \\nmen) it is better to stop alcohol drinking. \\nAs for the general population, people with diabetes should limit salt consumption \\nto 6 gm/day. \\nNonnutritive sweeteners can reduce overall calorie and carbohydrate intake but \\noverall, people are encouraged to decrease both sweetened and non-nutritive \\nsweetened beverages and to use other alternatives, with an emphasis on water \\nintake. \\n  \\n22 ‘iI Diabetes Care: BADAS Guideline 2019', '(such as chromium and vitamin D), herbs, or spices (such as cinnamon or aloe vera) \\ncan improve outcomes in people with diabetes. \\nAdults with diabetes who drink alcohol should do so in moderation (no more than \\none drink per day for adult women and no more than two drinks per day for adult \\nmen) it is better to stop alcohol drinking. \\nAs for the general population, people with diabetes should limit salt consumption \\nto 6 gm/day. \\nNonnutritive sweeteners can reduce overall calorie and carbohydrate intake but \\noverall, people are encouraged to decrease both sweetened and non-nutritive \\nsweetened beverages and to use other alternatives, with an emphasis on water \\nintake. \\n  \\n22 ‘iI Diabetes Care: BADAS Guideline 2019', 'older adults with diabetes. Yoga and tai chi may be included based on individual \\npreferences to increase flexibility, muscular strength, and balance. \\nSome practical points on exercise \\n* Exercise recommendation for persons with diabetes is the same, as for persons \\nwithout diabetes, where an exercise programme includes a proper warm-up and \\ncool-down period. A warm-up should consist of 5-10 minutes of aerobic activity \\n(eg. walking) at a low-intensity level; it prepares the heart for exercise. After a short \\nwarm-up, muscles should be gently stretched for another 5-10 minutes for prepar- \\ning the muscle and preventing muscle injury. A cool down period of 5-10 minutes \\nshould follow the main activity session. It gradually brings the heart rate down to \\npre-exercise level. \\n¢ Persons with diabetes who do not have complications and have good blood \\nglucose control, can do all levels of exercise, including leisure activities, recreational', 'older adults with diabetes. Yoga and tai chi may be included based on individual \\npreferences to increase flexibility, muscular strength, and balance. \\nSome practical points on exercise \\n* Exercise recommendation for persons with diabetes is the same, as for persons \\nwithout diabetes, where an exercise programme includes a proper warm-up and \\ncool-down period. A warm-up should consist of 5-10 minutes of aerobic activity \\n(eg. walking) at a low-intensity level; it prepares the heart for exercise. After a short \\nwarm-up, muscles should be gently stretched for another 5-10 minutes for prepar- \\ning the muscle and preventing muscle injury. A cool down period of 5-10 minutes \\nshould follow the main activity session. It gradually brings the heart rate down to \\npre-exercise level. \\n¢ Persons with diabetes who do not have complications and have good blood \\nglucose control, can do all levels of exercise, including leisure activities, recreational', '* Smoking, tea or physical stress is not allowed during the test. \\nReferences \\n* Diabetes Mellitus, Distance Learning Program, 5th edition, BADAS, 2018. \\n* Standards of Medical care in Diabetes, ADA (American Diabetes Association), 2019. \\n* Definition and Diagnosis of Diabetes Mellitus and Intermediate hyperglycemia, a \\nReport of a WHO (World Health Organization) Consultation, 2011. \\n¢ Global Guideline for Type 2 Diabetes, Clinical Guidelines Task Force, IDF \\n(International Diabetes Federation), 2012. \\n  \\n20 ‘IN Diabetes Care: BADAS Guideline 2019']\n",
      "\n",
      "======================================================================\n",
      "\n",
      "Metrics Summary\n",
      "\n",
      "  - ✅ Answer Relevancy (score: 0.8333333333333334, threshold: 0.7, strict: False, evaluation model: llama3.2 (Ollama), reason: The score is 0.83 because the answer focuses on general information about hypoglycemia without directly addressing specific symptoms, but still provides a clear definition and explanation, hence contributing to a moderate relevancy score., error: None)\n",
      "  - ❌ Faithfulness (score: 0.47619047619047616, threshold: 0.7, strict: False, evaluation model: llama3.2 (Ollama), reason: The score is 0.48 because The actual output contains several contradictory definitions and causative factors for hypoglycemia, including inconsistent severity levels (e.g., <3.9 mmol/L vs <3.0 mmol/L), incorrect associations with symptoms (e.g., sweating vs palpitation), and unclear causes of hypoglycemia in the elderly population (e.g., polypharmacy, renal/hepatic impairment, malabsorption)., error: None)\n",
      "  - ✅ Contextual Relevancy (score: 0.7142857142857143, threshold: 0.7, strict: False, evaluation model: llama3.2 (Ollama), reason: The score is 0.71 because most relevant symptoms of hypoglycemia were mentioned in the retrieval context (e.g., Autonomic Sweating, palpitation, tremor, irritability, hunger; Neuroglycopenic Headache, visual disturbance Confusion, drowsiness, behavioral abnormality), indicating high contextual relevancy, but some irrelevant information (e.g., 'Mild to moderate' is not specific to symptoms of hypoglycemia) slightly reduced the overall score., error: None)\n",
      "\n",
      "For test case:\n",
      "\n",
      "  - input: What are the symptoms of hypoglycemia?\n",
      "  - actual output:  The symptoms of hypoglycemia in Bangladesh, according to the BADAS Guideline 2019, include sweating, palpitation, tremor, irritability, hunger for mild to moderate cases. For more severe cases, symptoms may progress to headache, visual disturbance, confusion, drowsiness, behavioral abnormality, convulsion, and coma. However, it is important to note that some diabetics may experience these symptoms at higher blood glucose levels. If you are experiencing any of these symptoms, consult a healthcare professional for personalized medical advice.\n",
      "  - expected output: None\n",
      "  - context: None\n",
      "  - retrieval context: ['Clinical features of hypoglycemia \\nClinical features of hypoglycemia according to severity \\nTypes of features Severity of hypoglycemia \\nMild to moderate Severe \\nLevel 1 Level 2,3 \\nAutonomic Sweating, palpitation, tremor, \\nirritability, hunger. \\nNeuroglycopenic Headache, visual disturbance Confusion, drowsiness, \\nbehavioral abnormality \\nconvulsion, coma \\nTreatment of hypoglycemia \\nLevel 1: Mild to moderate hypoglycemia \\n* Treated by the patient him/herself or by a family member \\n* — It is usually relieved by 15 gm glucose or equivalent food, e.g. a glass of soft \\ndrink or fruit juice or snacks or meal (if it is due). These measures are usually \\nadequate to raise blood glucose to reasonably safe limit (5.5 mmol/L). \\n* The food/drink is repeated every 15 minutes until the patient is stable. \\n* If recurrent hypoglycemia follows, hospitalization should be considered. \\n* Modification in ongoing treatment should be considered. \\nLevel 2,3: Severe hypoglycemia', 'Clinical features of hypoglycemia \\nClinical features of hypoglycemia according to severity \\nTypes of features Severity of hypoglycemia \\nMild to moderate Severe \\nLevel 1 Level 2,3 \\nAutonomic Sweating, palpitation, tremor, \\nirritability, hunger. \\nNeuroglycopenic Headache, visual disturbance Confusion, drowsiness, \\nbehavioral abnormality \\nconvulsion, coma \\nTreatment of hypoglycemia \\nLevel 1: Mild to moderate hypoglycemia \\n* Treated by the patient him/herself or by a family member \\n* — It is usually relieved by 15 gm glucose or equivalent food, e.g. a glass of soft \\ndrink or fruit juice or snacks or meal (if it is due). These measures are usually \\nadequate to raise blood glucose to reasonably safe limit (5.5 mmol/L). \\n* The food/drink is repeated every 15 minutes until the patient is stable. \\n* If recurrent hypoglycemia follows, hospitalization should be considered. \\n* Modification in ongoing treatment should be considered. \\nLevel 2,3: Severe hypoglycemia', 'Chapter 4 \\nAcute Complications of Diabetes Mellitus \\n4.1 Hypoglycemia \\nIt is defined biochemically with blood glucose level below 3.9 mmol/L (70 mg/dl) \\nwith clinical features of autonomic over activity and neuroglycopenia. \\nSome diabetics, especially those with persistent high blood glucose, may develop \\nclinical features (particularly autonomic) of hypoglycemia at a higher blood \\nglucose level. It occurs more in Type 1 than Type 2 diabetes. \\nLevels of hypoglycemia \\nLevel 1: blood glucose <3.9 mmol/L - 3.0 mmol/L \\nLevel 2: blood glucose <3.0 mmol/L \\nLevel 3: A severe event characterized by altered mental and/or physical status \\nrequiring assistance \\nCauses of hypoglycemia \\n* Taking excess dose of insulin \\n* Excess intake of anti-diabetic medications, specially insulin secretagogues \\n* Delay, omission or undue reduction of a meal \\n* Unusual exercise \\n* Over intake of alcohol \\n* Severe renal or hepatic impairment \\nConsequences of hypoglycemia', 'Chapter 4 \\nAcute Complications of Diabetes Mellitus \\n4.1 Hypoglycemia \\nIt is defined biochemically with blood glucose level below 3.9 mmol/L (70 mg/dl) \\nwith clinical features of autonomic over activity and neuroglycopenia. \\nSome diabetics, especially those with persistent high blood glucose, may develop \\nclinical features (particularly autonomic) of hypoglycemia at a higher blood \\nglucose level. It occurs more in Type 1 than Type 2 diabetes. \\nLevels of hypoglycemia \\nLevel 1: blood glucose <3.9 mmol/L - 3.0 mmol/L \\nLevel 2: blood glucose <3.0 mmol/L \\nLevel 3: A severe event characterized by altered mental and/or physical status \\nrequiring assistance \\nCauses of hypoglycemia \\n* Taking excess dose of insulin \\n* Excess intake of anti-diabetic medications, specially insulin secretagogues \\n* Delay, omission or undue reduction of a meal \\n* Unusual exercise \\n* Over intake of alcohol \\n* Severe renal or hepatic impairment \\nConsequences of hypoglycemia', 'Acute emergencies in elderly \\nHypoglycemia and sick day management plan should be strengthened. Older \\npeople are more prone to hypoglycemia. Blood glucose <6.0 mmol/L is to be \\navoided. HbA1c <7.0% should be taken as warning of possible overtreatment. \\nCauses of ‘hypoglycemia’ in the elderly people: \\nPolypharmacy \\nErratic meals, unusual activity \\nRenal, hepatic impairment \\nMalabsorption, swallowing problems \\n  \\n62 {I Diabetes Care: BADAS Guideline 2019']\n",
      "\n",
      "======================================================================\n",
      "\n",
      "Metrics Summary\n",
      "\n",
      "  - ❌ Answer Relevancy (score: 0.6666666666666666, threshold: 0.7, strict: False, evaluation model: llama3.2 (Ollama), reason: The score is 0.67 because while there are no irrelevant statements that would decrease the relevancy, the answer could be more specific and detailed given the query's specificity about insulin brand names., error: None)\n",
      "  - ❌ Faithfulness (score: 0.5, threshold: 0.7, strict: False, evaluation model: llama3.2 (Ollama), reason: The score is 0.50 because the actual output contains contradictions regarding the use of insulin (requiring brains to use successfully), the availability of IDF diabetes atlas 2015, and the relationship between inflammation and cardiovascular disease in diabetes patients., error: None)\n",
      "  - ❌ Contextual Relevancy (score: 0.6190476190476191, threshold: 0.7, strict: False, evaluation model: llama3.2 (Ollama), reason: The score is 0.62 because most statements in the retrieval context relate to insulin brand names or types (e.g., 'rapid-acting insulin analogues', 'Insulin Analogues', '6. Rolla A. Pharmacokinetic and Pharmacodynamic Advantages of Insulin Analogues and Premixed Insulin Analogues over Human Insulins') which are not specifically mentioned in the input, while only a few statements (e.g., 'It is the responsibility of the physician to consider all the relevant factors before choosing the appropriate regime for a particular individual.') discuss general aspects of insulin usage, but these are too broad and don't directly address specific brand names., error: None)\n",
      "\n",
      "For test case:\n",
      "\n",
      "  - input: Does the context mention specific insulin brand names?\n",
      "  - actual output:  No, the provided context documents do not mention any specific insulin brand names. It is important to note that the selection of an appropriate insulin type and regime should be individualized based on several factors including clinical scenario, patient's perspective, compliance, diabetes self-management education, socioeconomic condition, availability, and understanding of the pharmacodynamic profile of each formulation. Always consult a healthcare professional for personalized medical advice.\n",
      "  - expected output: None\n",
      "  - context: None\n",
      "  - retrieval context: ['both mealtime and basal insulins based on the blood glucose levels and understanding of the \\npharmacodynamic proﬁle of each formulation [4,5]. \\n2.7.: Switching Between Insulin Regimen\\n2.7.a.: Regular human insulin and human NPH/Regular premixed formulations (70/30) are less costly \\nalternatives to rapid-acting insulin analogues, premixed insulin analogs and co-formulation. But their \\npharmacodynamic proﬁles may make them less optimal and frequent hypoglycemic events may \\nhamper treatment adhrenece.\\n2.7.b.: Consider switching patients from one regimen to another (i.e., premixed analog insulin three \\ntimes daily to basal- bolus regimen or vice-versa) if A1C targets are not being met and/or depending \\non other patient considerations( willing to reduce injection frequency, care giver dependency, when \\nfrequent monitoring of BG is not possible).\\n2.7.c.: Self-monitoring of blood glucose (SMBG) can be helpful in determining appropriate targets for', 'Bangladesh Endocrine Society (BES) Insulin Guideline\\nInsulin is a life-saving hormone   l   10\\nThe selection of type and regime of insulin is individualized [Table 3] depending upon particular \\nclinical scenario (type of diabetes, glycemic status, hypoglycemia, glycemic variability, presence of \\ncomplications and comorbidities) and patient’s perspective (compliance, diabetes self-management \\neducation, socioeconomic condition, availability). It is the responsibility of the physician to consider \\nall the relevant factors before choosing the appropriate regime for a particular individual. In this \\ncontext, we can recapitulate the ever memorable quote by Elliott Joslin,“Insulin is a remedy primarily \\nfor the wise and not for the foolish. Everyone knows it requires brains to live long with diabetes, but \\nto use insulin successfully requires more than brains” [8].\\nReferences:\\n1. IDF diabetes atlas 2015. Available at www.diabetesatlas.org/resources/2015-atlas.html.', 'Bangladesh Endocrine Society (BES) Insulin Guideline\\nInsulin is a life-saving hormone   l   10\\nThe selection of type and regime of insulin is individualized [Table 3] depending upon particular \\nclinical scenario (type of diabetes, glycemic status, hypoglycemia, glycemic variability, presence of \\ncomplications and comorbidities) and patient’s perspective (compliance, diabetes self-management \\neducation, socioeconomic condition, availability). It is the responsibility of the physician to consider \\nall the relevant factors before choosing the appropriate regime for a particular individual. In this \\ncontext, we can recapitulate the ever memorable quote by Elliott Joslin,“Insulin is a remedy primarily \\nfor the wise and not for the foolish. Everyone knows it requires brains to live long with diabetes, but \\nto use insulin successfully requires more than brains” [8].\\nReferences:\\n1. IDF diabetes atlas 2015. Available at www.diabetesatlas.org/resources/2015-atlas.html.', 'Practice Guidelines: Pharmacotherapy in Type 1 Diabetes. Can J Diabetes 2013; 37: \\nS56-S60.\\n6. Rolla A. Pharmacokinetic and Pharmacodynamic Advantages of Insulin Analogues and \\nPremixed Insulin Analogues over Human Insulins: Impact on Efficacy and Safety. The \\nAmerican Journal of Medicine 2008; 121: S9 –S19.\\n7. Donner T. Insulin – Pharmacology, Therapeutic Regimens and Principles of Intensive Insulin \\nTherapy. [Updated 2015 Oct 12]. In: De Groot LJ, Chrousos G, Dungan K, et al., editors. \\nEndotext [Internet]. South Dartmouth (MA): MDText.com, Inc.; 2000.\\n8. Joslin EP. Insulin, Section II. In: Joslin EP. The Treatment of Diabetes Mellitus. Philadelphia: \\nLea & Febiger, 1928: 69.', 'Practice Guidelines: Pharmacotherapy in Type 1 Diabetes. Can J Diabetes 2013; 37: \\nS56-S60.\\n6. Rolla A. Pharmacokinetic and Pharmacodynamic Advantages of Insulin Analogues and \\nPremixed Insulin Analogues over Human Insulins: Impact on Efficacy and Safety. The \\nAmerican Journal of Medicine 2008; 121: S9 –S19.\\n7. Donner T. Insulin – Pharmacology, Therapeutic Regimens and Principles of Intensive Insulin \\nTherapy. [Updated 2015 Oct 12]. In: De Groot LJ, Chrousos G, Dungan K, et al., editors. \\nEndotext [Internet]. South Dartmouth (MA): MDText.com, Inc.; 2000.\\n8. Joslin EP. Insulin, Section II. In: Joslin EP. The Treatment of Diabetes Mellitus. Philadelphia: \\nLea & Febiger, 1928: 69.']\n",
      "\n",
      "======================================================================\n",
      "\n",
      "Metrics Summary\n",
      "\n",
      "  - ✅ Answer Relevancy (score: 0.875, threshold: 0.7, strict: False, evaluation model: llama3.2 (Ollama), reason: The score is 0.88 because the answer provides relevant information on managing diabetes during the pandemic, but includes some general health recommendations that are not directly applicable to this specific topic., error: None)\n",
      "  - ✅ Faithfulness (score: 0.75, threshold: 0.7, strict: False, evaluation model: llama3.2 (Ollama), reason: The score is 0.75 because there are minor discrepancies in the actual output regarding specific details (after hospital discharge) and interpretation of 'Sick Day Rules', but overall the information aligns with the retrieval context., error: None)\n",
      "  - ❌ Contextual Relevancy (score: 0.6538461538461539, threshold: 0.7, strict: False, evaluation model: llama3.2 (Ollama), reason: The score is 0.65 because while some statements in the retrieval context like 'Frequent BG monitoring\\u00b7 Good glycemic control \\u00b7 Stabilize cardiac & renal status (control BP and lipid, stop smoking)' provide relevant COVID-19 recommendations for diabetic patients, many other statements are general guidelines or unrelated to COVID-19, resulting in a moderate contextual relevancy score., error: None)\n",
      "\n",
      "For test case:\n",
      "\n",
      "  - input: Summarize the COVID-19 recommendations for diabetic patients.\n",
      "  - actual output: 1. Maintain home isolation for at least 3 weeks after hospital discharge if you are a COVID-19 patient with diabetes.\n",
      "2. Adhere to general precautions to prevent contracting COVID-19, including hand hygiene, respiratory hygiene, social and physical distancing, and avoiding non-essential travels.\n",
      "3. For specific precautions, monitor your blood glucose levels frequently, aim for good glycemic control, stabilize cardiac and renal status (control blood pressure and lipids, stop smoking if possible).\n",
      "4. Perform daily foot checks to ensure early detection of poor blood supply or infection.\n",
      "5. If overweight or obese, try to lose weight through a balanced diet and regular exercise, following local guidelines where applicable.\n",
      "6. Follow 'Sick Day Rules' at home: maintain a healthy diet (containing adequate vitamin C, vitamin D, and zinc), stay hydrated, and perform home-bound exercise.\n",
      "7. In all cases, consult a healthcare professional for personalized medical advice regarding COVID-19 and diabetes management.\n",
      "  - expected output: None\n",
      "  - context: None\n",
      "  - retrieval context: ['o Try to reduce body weight, if overweight or obese \\no Check BP at home \\no Vaccinate for influenza and pneumonia, if not done as per schedule. \\n7.2: Isolation after Discharge from Hospital:  \\nAfter discharge from hospital, the COVID-19 patients with diabetes should maintain home isolation for \\nat least 3 weeks. \\n \\n7.3: Prevention of COVID-19 in people with diabetes [2] \\nGeneral precautions are mandatory for patients and caregivers, to prevent contracting COVID-19 (Text \\nbox: General precautions to prevent COVID-19 in people with diabetes). \\n7.3.1: General precautions: \\n• Hand hygiene \\n• Respiratory hygiene \\n• Social and physical distancing \\n• Avoid non-essential travels \\n7.3.2: Specific precautions: \\n• Frequent BG monitoring \\n• Good glycemic control \\n• Stabilize cardiac & renal status (control BP and lipid, stop smoking)', 'o Try to reduce body weight, if overweight or obese \\no Check BP at home \\no Vaccinate for influenza and pneumonia, if not done as per schedule. \\n7.2: Isolation after Discharge from Hospital:  \\nAfter discharge from hospital, the COVID-19 patients with diabetes should maintain home isolation for \\nat least 3 weeks. \\n \\n7.3: Prevention of COVID-19 in people with diabetes [2] \\nGeneral precautions are mandatory for patients and caregivers, to prevent contracting COVID-19 (Text \\nbox: General precautions to prevent COVID-19 in people with diabetes). \\n7.3.1: General precautions: \\n• Hand hygiene \\n• Respiratory hygiene \\n• Social and physical distancing \\n• Avoid non-essential travels \\n7.3.2: Specific precautions: \\n• Frequent BG monitoring \\n• Good glycemic control \\n• Stabilize cardiac & renal status (control BP and lipid, stop smoking)', '20 \\n \\n• Patient should have daily foot checks to ensure early detection of poor blood supply, infection. \\n \\n4.5: References: \\n1. National Guidelines on Clinical Management of Coronavirus Disease 2019 (COVID-19). Ver 6 May \\n2020. \\nhttps://dghs.gov.bd/images/docs/Guideline/COVID_Guideline_2.pdf \\n2. Covid-19 and Diabetes: BADAS guide for healthcare professionals. April 2020. https://www.dab-\\nbd.org/ \\n3. https://www.diabetes.org.uk/professionals/resources/coronavirus-clinical-guidance#guidance-\\ncare-homes. \\n4. World Health Organization (2020) Mental health and psychosocial considerations during COVID-\\n19 outbreak: document number: WHO/2019-nCoV/MentalH ealth/2020.1. Available from \\nhttps:// www.who.int/docs/default-source/coronaviruse/mental-healthconsiderations.pdf. \\nAccessed 23 Mar 2020 . \\n5. https://www.idf.org/our-network/regions-members/europe/europe-news/196-information-on-\\ncorona-virus-disease-2019-covid-19-outbreak-and-guidance-for-people-with-diabetes.html.', '20 \\n \\n• Patient should have daily foot checks to ensure early detection of poor blood supply, infection. \\n \\n4.5: References: \\n1. National Guidelines on Clinical Management of Coronavirus Disease 2019 (COVID-19). Ver 6 May \\n2020. \\nhttps://dghs.gov.bd/images/docs/Guideline/COVID_Guideline_2.pdf \\n2. Covid-19 and Diabetes: BADAS guide for healthcare professionals. April 2020. https://www.dab-\\nbd.org/ \\n3. https://www.diabetes.org.uk/professionals/resources/coronavirus-clinical-guidance#guidance-\\ncare-homes. \\n4. World Health Organization (2020) Mental health and psychosocial considerations during COVID-\\n19 outbreak: document number: WHO/2019-nCoV/MentalH ealth/2020.1. Available from \\nhttps:// www.who.int/docs/default-source/coronaviruse/mental-healthconsiderations.pdf. \\nAccessed 23 Mar 2020 . \\n5. https://www.idf.org/our-network/regions-members/europe/europe-news/196-information-on-\\ncorona-virus-disease-2019-covid-19-outbreak-and-guidance-for-people-with-diabetes.html.', '5 \\n \\nExecutive Summary  \\nGlycemic targets: \\n• Diabetes Mellitus is an important common co-morbid condition for COVID-19 infection. Patients \\nneed optimum glycemic control without hypoglycemia in this pandemic. \\n• Glycemic target should be – 1) HbA1c< 7.0% (but <8%  in some special cases), 2) fasting blood \\nglucose (FBG) 4.4 -6.1 mmol/L and 2h postprandial blood glucose (PPG) 6.1-7.8 mmol/L in young \\npatients with mild-moderate illness,3) FBG 6.1 -7.8  mmol/L and 2h PPG 7.8-10.0 mmol/L in \\nelderly patients with mild-moderate illness and in patients on steroids,  4) FBG 7.8 -10 mmol/L \\nand 2h PPG 7.8-13.9  mmol/L in severely ill patient s, and 5) random blood glucose (RPG) 7.8 – \\n10.0 mmol/L in ICU settings. \\nDiet and physical activity: \\n• At home, patients should follow ‘Sick Day Rules’, m aintain healthy diet (containing adequate  \\nvitamin C, vitamin D and zinc), stay hydrated and perform home bound exercise. \\nHome vs. Hospital care:']\n",
      "\n",
      "======================================================================\n",
      "\n",
      "Overall Metric Pass Rates\n",
      "\n",
      "Answer Relevancy: 71.43% pass rate\n",
      "Faithfulness: 42.86% pass rate\n",
      "Contextual Relevancy: 57.14% pass rate\n",
      "\n",
      "======================================================================\n",
      "\n"
     ]
    },
    {
     "name": "stderr",
     "output_type": "stream",
     "text": [
      "\n"
     ]
    },
    {
     "data": {
      "text/html": [
       "<pre style=\"white-space:pre;overflow-x:auto;line-height:normal;font-family:Menlo,'DejaVu Sans Mono',consolas,'Courier New',monospace\">\n",
       "<span style=\"color: #05f58d; text-decoration-color: #05f58d\">✓</span> Tests finished 🎉! Run <span style=\"color: #008000; text-decoration-color: #008000; font-weight: bold\">'deepeval login'</span> to save and analyze evaluation results on Confident AI.\n",
       " \n",
       "✨👀 Looking for a place for your LLM test data to live 🏡❤️ ? Use <span style=\"color: #6a00ff; text-decoration-color: #6a00ff\">Confident AI</span> to get &amp; share testing reports, \n",
       "experiment with models/prompts, and catch regressions for your LLM system. Just run <span style=\"color: #008080; text-decoration-color: #008080\">'deepeval login'</span> in the CLI. \n",
       "\n",
       "</pre>\n"
      ],
      "text/plain": [
       "\n",
       "\u001b[38;2;5;245;141m✓\u001b[0m Tests finished 🎉! Run \u001b[1;32m'deepeval login'\u001b[0m to save and analyze evaluation results on Confident AI.\n",
       " \n",
       "✨👀 Looking for a place for your LLM test data to live 🏡❤️ ? Use \u001b[38;2;106;0;255mConfident AI\u001b[0m to get & share testing reports, \n",
       "experiment with models/prompts, and catch regressions for your LLM system. Just run \u001b[36m'deepeval login'\u001b[0m in the CLI. \n",
       "\n"
      ]
     },
     "metadata": {},
     "output_type": "display_data"
    },
    {
     "name": "stdout",
     "output_type": "stream",
     "text": [
      "\n",
      "--- DeepEval Evaluation Complete ---\n",
      "\n",
      "Evaluation Results Summary:\n",
      "\n",
      "Evaluation finished.\n"
     ]
    }
   ],
   "source": [
    "print(\"\\n--- Starting DeepEval Evaluation (Synchronous Mode) ---\") \n",
    "\n",
    "if not test_cases:\n",
    "    print(\"No test cases were generated. Cannot run evaluation.\")\n",
    "else:\n",
    "    \n",
    "    evaluation_results = evaluate(\n",
    "        test_cases=test_cases,\n",
    "        metrics=metrics,\n",
    "        run_async=False  \n",
    "    )\n",
    "\n",
    "    print(\"\\n--- DeepEval Evaluation Complete ---\")\n",
    "\n",
    "    \n",
    "    print(\"\\nEvaluation Results Summary:\")\n",
    "    \n",
    "    pass\n",
    "\n",
    "print(\"\\nEvaluation finished.\")"
   ]
  }
 ],
 "metadata": {
  "kernelspec": {
   "display_name": "Python 3 (ipykernel)",
   "language": "python",
   "name": "python3"
  },
  "language_info": {
   "codemirror_mode": {
    "name": "ipython",
    "version": 3
   },
   "file_extension": ".py",
   "mimetype": "text/x-python",
   "name": "python",
   "nbconvert_exporter": "python",
   "pygments_lexer": "ipython3",
   "version": "3.13.3"
  }
 },
 "nbformat": 4,
 "nbformat_minor": 5
}
