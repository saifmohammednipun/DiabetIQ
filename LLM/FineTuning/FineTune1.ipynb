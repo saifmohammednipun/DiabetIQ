{
 "cells": [
  {
   "cell_type": "markdown",
   "id": "4487cb01-da31-4ef6-8f75-9fe6f0a5c5e3",
   "metadata": {},
   "source": [
    "# Environment Setup "
   ]
  },
  {
   "cell_type": "code",
   "execution_count": 1,
   "id": "e8a23c51-d75d-4bd6-9a00-1ded2835114a",
   "metadata": {},
   "outputs": [],
   "source": [
    "import os\n",
    "from dotenv import load_dotenv\n",
    "\n",
    "load_dotenv()\n",
    "langchain_api_key = os.getenv('LANGCHAIN_API_KEY')\n",
    "huggingface_api_key = os.getenv('HUGGINGFACE_API_KEY')\n",
    "os.environ['LANGCHAIN_TRACING_V2'] = 'true'\n",
    "os.environ['LANGCHAIN_API_KEY'] = langchain_api_key\n",
    "os.environ['HUGGINGFACE_API_KEY'] = huggingface_api_key"
   ]
  },
  {
   "cell_type": "code",
   "execution_count": 2,
   "id": "4b720f9a-0fed-41d9-a187-db86bf80dc87",
   "metadata": {},
   "outputs": [],
   "source": [
    "from langchain import hub\n",
    "from langchain.text_splitter import RecursiveCharacterTextSplitter\n",
    "from langchain_community.document_loaders import PyPDFLoader # Use this\n",
    "from langchain_community.vectorstores import Chroma\n",
    "from langchain_core.output_parsers import StrOutputParser\n",
    "from langchain_core.runnables import RunnablePassthrough\n",
    "from langchain_huggingface import HuggingFaceEmbeddings\n",
    "from langchain_ollama import OllamaLLM\n",
    "from langchain_core.documents import Document"
   ]
  },
  {
   "cell_type": "code",
   "execution_count": 4,
   "id": "6e21e4e2-9b17-4724-8729-f2cfb4ebd0ad",
   "metadata": {},
   "outputs": [
    {
     "name": "stdout",
     "output_type": "stream",
     "text": [
      "Loading and Processing PDFs...\n",
      "-> Loading: BES-COVID-Pract-Recomnd-06-June-Final-Copy.pdf\n",
      "   Loaded 38 pages.\n",
      "-> Loading: BES-Ramadan-Guideline-2020-min.pdf\n",
      "   Loaded 46 pages.\n",
      "-> Loading: Diabetes_Care_BADAS_guideline2019-3.pdf\n",
      "   Loaded 79 pages.\n",
      "-> Loading: Insulin-Guideline-min.pdf\n",
      "   Loaded 93 pages.\n",
      "\n",
      "Total documents loaded: 256\n",
      "\n",
      "Sample Document Metadata (first doc):\n",
      "{'producer': 'Nitro PDF PrimoPDF', 'creator': 'PrimoPDF http://www.primopdf.com', 'creationdate': '2020-06-07T20:17:39-06:00', 'moddate': '2020-06-07T20:17:39-06:00', 'title': 'Microsoft Word - BES COVID Pract Recomnd 06 June Final Copy', 'author': 'Mir', 'source': 'BES-COVID-Pract-Recomnd-06-June-Final-Copy.pdf', 'total_pages': 38, 'page': 0, 'page_label': '1'}\n",
      "\n",
      "Sample Document Content (first 500 chars of first doc):\n",
      "Bangladesh Endocrine Society (BES) \n",
      "Practical Recommendations for Management of \n",
      "Diabetes and Other Endocrine Diseases in Patients with \n",
      "COVID-19 \n",
      " \n",
      " \n",
      " \n",
      " \n",
      " \n",
      "Published Online June 2020 \n",
      " \n",
      " \n",
      "All rights reserved by: Bangladesh Endocrine Society (BES) \n",
      " \n",
      " \n",
      "Published by \n",
      "Bangladesh Endocrine Society (BES) \n",
      "Website: http://bes-org.net \n",
      "E-mail: \n",
      "endobd2012@gmail.com\n"
     ]
    }
   ],
   "source": [
    "pdf_files = [\n",
    "    r\"F:\\DiabetIQ\\LLM\\PDFs\\BES-COVID-Pract-Recomnd-06-June-Final-Copy.pdf\",\n",
    "    r\"F:\\DiabetIQ\\LLM\\PDFs\\BES-Ramadan-Guideline-2020-min.pdf\",\n",
    "    r\"F:\\DiabetIQ\\LLM\\PDFs\\Diabetes_Care_BADAS_guideline2019-3.pdf\",\n",
    "    r\"F:\\DiabetIQ\\LLM\\PDFs\\Insulin-Guideline-min.pdf\"\n",
    "]\n",
    "\n",
    "all_docs = [] # Will store LangChain Document objects\n",
    "\n",
    "print(\"Loading and Processing PDFs...\")\n",
    "for pdf_path in pdf_files:\n",
    "    try:\n",
    "        # Extract filename for metadata\n",
    "        file_name = os.path.basename(pdf_path)\n",
    "        print(f\"-> Loading: {file_name}\")\n",
    "\n",
    "        loader = PyPDFLoader(pdf_path)\n",
    "        # Load pages as individual documents. Each doc will have metadata['page']\n",
    "        pages = loader.load_and_split() # This does basic splitting\n",
    "\n",
    "        # Add source filename to metadata for each page/document\n",
    "        for page_doc in pages:\n",
    "            page_doc.metadata['source'] = file_name\n",
    "            # Optional: clean up page content slightly if needed\n",
    "            # page_doc.page_content = page_doc.page_content.replace('\\n', ' ').strip()\n",
    "\n",
    "        all_docs.extend(pages)\n",
    "        print(f\"   Loaded {len(pages)} pages.\")\n",
    "\n",
    "    except Exception as e:\n",
    "        print(f\"Error loading {pdf_path}: {e}\")\n",
    "\n",
    "print(f\"\\nTotal documents loaded: {len(all_docs)}\")\n",
    "if all_docs:\n",
    "    print(\"\\nSample Document Metadata (first doc):\")\n",
    "    print(all_docs[0].metadata)\n",
    "    print(\"\\nSample Document Content (first 500 chars of first doc):\")\n",
    "    print(all_docs[0].page_content[:500])\n",
    "else:\n",
    "    print(\"\\nNo documents were loaded successfully.\")\n",
    "    # Consider exiting or handling this error appropriately\n",
    "    exit()"
   ]
  },
  {
   "cell_type": "code",
   "execution_count": 5,
   "id": "38c0209a-2391-4d89-b5cd-f5002443c81a",
   "metadata": {},
   "outputs": [],
   "source": [
    "text_splitter = RecursiveCharacterTextSplitter(\n",
    "    chunk_size=1000,\n",
    "    chunk_overlap=200,\n",
    "    # Keep separators that make sense for text structure\n",
    "    separators=[\"\\n\\n\", \"\\n\", \". \", \", \", \" \", \"\"],\n",
    "    length_function=len,\n",
    ")"
   ]
  },
  {
   "cell_type": "code",
   "execution_count": 6,
   "id": "aeb2b0d5-220c-42f2-a252-b64354c1372f",
   "metadata": {},
   "outputs": [
    {
     "name": "stdout",
     "output_type": "stream",
     "text": [
      "\n",
      "Total chunks created: 702\n",
      "\n",
      "Sample Chunk Metadata (first chunk):\n",
      "{'producer': 'Nitro PDF PrimoPDF', 'creator': 'PrimoPDF http://www.primopdf.com', 'creationdate': '2020-06-07T20:17:39-06:00', 'moddate': '2020-06-07T20:17:39-06:00', 'title': 'Microsoft Word - BES COVID Pract Recomnd 06 June Final Copy', 'author': 'Mir', 'source': 'BES-COVID-Pract-Recomnd-06-June-Final-Copy.pdf', 'total_pages': 38, 'page': 0, 'page_label': '1'}\n",
      "\n",
      "Sample Chunk Content (first 500 chars):\n",
      "Bangladesh Endocrine Society (BES) \n",
      "Practical Recommendations for Management of \n",
      "Diabetes and Other Endocrine Diseases in Patients with \n",
      "COVID-19 \n",
      " \n",
      " \n",
      " \n",
      " \n",
      " \n",
      "Published Online June 2020 \n",
      " \n",
      " \n",
      "All rights reserved by: Bangladesh Endocrine Society (BES) \n",
      " \n",
      " \n",
      "Published by \n",
      "Bangladesh Endocrine Society (BES) \n",
      "Website: http://bes-org.net \n",
      "E-mail: \n",
      "endobd2012@gmail.com\n"
     ]
    }
   ],
   "source": [
    "chunks = text_splitter.split_documents(all_docs)\n",
    "\n",
    "print(f\"\\nTotal chunks created: {len(chunks)}\")\n",
    "if chunks:\n",
    "    print(\"\\nSample Chunk Metadata (first chunk):\")\n",
    "    print(chunks[0].metadata)\n",
    "    print(\"\\nSample Chunk Content (first 500 chars):\")\n",
    "    print(chunks[0].page_content[:500])\n",
    "else:\n",
    "    print(\"\\nNo chunks were created. Check splitting process.\")\n",
    "    exit()"
   ]
  },
  {
   "cell_type": "code",
   "execution_count": 7,
   "id": "4a73ae02-2db9-4825-8e7a-9859dd31de10",
   "metadata": {},
   "outputs": [
    {
     "name": "stdout",
     "output_type": "stream",
     "text": [
      "\n",
      "Initializing Embedding Model...\n",
      "\n",
      "Creating Vector Store (ChromaDB)...\n",
      "Vector Store Created.\n"
     ]
    }
   ],
   "source": [
    "print(\"\\nInitializing Embedding Model...\")\n",
    "embedding_model = HuggingFaceEmbeddings(model_name=\"intfloat/e5-small-v2\")\n",
    "\n",
    "print(\"\\nCreating Vector Store (ChromaDB)...\")\n",
    "# Chroma.from_documents handles Document objects directly\n",
    "# Consider adding persistence: persist_directory=\"./chroma_db_diabetiq\"\n",
    "vectorstore = Chroma.from_documents(\n",
    "    documents=chunks,\n",
    "    embedding=embedding_model,\n",
    "    # persist_directory=\"./chroma_db_diabetiq\" # Uncomment to save DB locally\n",
    ")\n",
    "# If persisting: vectorstore.persist()\n",
    "\n",
    "# To load later:\n",
    "# vectorstore = Chroma(persist_directory=\"./chroma_db_diabetiq\", embedding_function=embedding_model)\n",
    "\n",
    "print(\"Vector Store Created.\")"
   ]
  },
  {
   "cell_type": "code",
   "execution_count": 8,
   "id": "61d40225-55f0-497d-8939-8d1760d0ea3f",
   "metadata": {},
   "outputs": [],
   "source": [
    "retriever = vectorstore.as_retriever(search_kwargs={\"k\": 5}) # Retrieve top 5 chunks"
   ]
  },
  {
   "cell_type": "code",
   "execution_count": 9,
   "id": "ed085449-e449-4df1-9bac-71d866b0305e",
   "metadata": {},
   "outputs": [
    {
     "name": "stdout",
     "output_type": "stream",
     "text": [
      "Retriever configured (using k=5).\n"
     ]
    }
   ],
   "source": [
    "print(f\"Retriever configured (using k={retriever.search_kwargs.get('k', 'default')}).\")"
   ]
  },
  {
   "cell_type": "code",
   "execution_count": 10,
   "id": "64aa95ee-b7a8-4e1d-bf79-60416bbb8507",
   "metadata": {},
   "outputs": [],
   "source": [
    "from langchain_core.prompts import PromptTemplate\n",
    "prompt_template = \"\"\"\n",
    "You are DiabetIQ, an AI assistant specializing in diabetes management for patients in Bangladesh, based *strictly* on the provided context documents.\n",
    "\n",
    "Context Documents:\n",
    "{context}\n",
    "\n",
    "Based *only* on the information in the numbered context documents above, answer the following question concisely and directly.\n",
    "Your advice should be actionable and consider general practices relevant to Bangladesh where possible (e.g., common foods mentioned in context, local guidelines if present in context).\n",
    "Do *not* add information that is not present in the context.\n",
    "If the context does not contain the answer, state that clearly.\n",
    "Always conclude your response by advising the user to consult a healthcare professional for personalized medical advice.\n",
    "\n",
    "Question: {question}\n",
    "\n",
    "Answer:\n",
    "\"\"\"\n",
    "\n",
    "prompt = PromptTemplate.from_template(prompt_template)"
   ]
  },
  {
   "cell_type": "code",
   "execution_count": 11,
   "id": "9c897b46-b1ea-4da5-a975-7d0452fa186d",
   "metadata": {},
   "outputs": [
    {
     "name": "stdout",
     "output_type": "stream",
     "text": [
      "Initializing LLM (Ollama - Mistral)...\n"
     ]
    }
   ],
   "source": [
    "print(\"Initializing LLM (Ollama - Mistral)...\")\n",
    "llm = OllamaLLM(model=\"mistral\")"
   ]
  },
  {
   "cell_type": "code",
   "execution_count": 12,
   "id": "52530a75-6059-44bc-9cfe-01f99e6d6798",
   "metadata": {},
   "outputs": [],
   "source": [
    "def format_docs_with_metadata(docs):\n",
    "    \"\"\"Formats retrieved documents including source and page.\"\"\"\n",
    "    formatted_strings = []\n",
    "    for i, doc in enumerate(docs):\n",
    "        metadata_str = f\"Source: {doc.metadata.get('source', 'N/A')}, Page: {doc.metadata.get('page', 'N/A')}\"\n",
    "        content_str = doc.page_content.replace('\\n', ' ').strip()\n",
    "        formatted_strings.append(f\"{i+1}. [{metadata_str}] {content_str}\")\n",
    "    return \"\\n\\n\".join(formatted_strings)"
   ]
  },
  {
   "cell_type": "code",
   "execution_count": 13,
   "id": "b8bc1c61-8f59-4518-a48b-cc1577f57fb9",
   "metadata": {},
   "outputs": [
    {
     "name": "stdout",
     "output_type": "stream",
     "text": [
      "RAG Chain constructed.\n"
     ]
    }
   ],
   "source": [
    "rag_chain = (\n",
    "    {\"context\": retriever | format_docs_with_metadata, \"question\": RunnablePassthrough()}\n",
    "    | prompt\n",
    "    | llm\n",
    "    | StrOutputParser()\n",
    ")\n",
    "\n",
    "print(\"RAG Chain constructed.\")"
   ]
  },
  {
   "cell_type": "code",
   "execution_count": 14,
   "id": "285bb5d2-81a8-4253-b797-748f38d29958",
   "metadata": {},
   "outputs": [
    {
     "name": "stdout",
     "output_type": "stream",
     "text": [
      "\n",
      "--- Querying RAG Chain ---\n",
      "Question: How can I control my blood sugar level with diet according to the textbook?\n",
      "\n",
      "Response:\n",
      " To control your blood sugar level with diet as per the provided textbooks, follow these recommendations:\n",
      "\n",
      "1. Emphasize fruits, legumes, whole grains, and dairy products in your diet if you are on insulin therapy. Learn carbohydrate counting for proper portioning.\n",
      "2. Avoid sugar-sweetened beverages (including fruit juices) to manage glycemia, weight, reduce the risk of cardiovascular disease, and fatty liver.\n",
      "3. Ensure your diet contains sufficient protein from both animal sources like fish, meat, egg, milk, cheese, and plant sources such as seeds or nuts. In older people, aim for 1g of protein per kg body weight per day, adjusting with nutritional status, physical activity level, disease status, and tolerance.\n",
      "4. Consume at least 2-3 servings of fruits and vegetables daily.\n",
      "5. Aim for a diet rich in monounsaturated and polyunsaturated fats to improve glucose metabolism and lower cardiovascular disease risk. Foods rich in long-chain n-3 fatty acids, such as fatty fish (EPA and DHA) and nuts and seeds (ALA), are recommended for preventing or treating cardiovascular disease.\n",
      "6. Remember to maintain a regular schedule, and keep glucose drink or lozenge or tablet with you in isolation room or ward if needed. If unable to eat due to vomiting or cannot remain hydrated, seek medical help immediately.\n",
      "7. Consult a healthcare professional for personalized dietary advice based on your specific needs and condition.\n"
     ]
    }
   ],
   "source": [
    "print(\"\\n--- Querying RAG Chain ---\")\n",
    "question = \"How can I control my blood sugar level with diet according to the textbook?\" \n",
    "\n",
    "\n",
    "print(f\"Question: {question}\")\n",
    "\n",
    "try:\n",
    "    response = rag_chain.invoke(question)\n",
    "    print(\"\\nResponse:\")\n",
    "    print(response)\n",
    "except Exception as e:\n",
    "    print(f\"\\nError during RAG chain invocation: {e}\")"
   ]
  },
  {
   "cell_type": "code",
   "execution_count": 15,
   "id": "c080157c-d483-4126-b6ca-2c3f27aad468",
   "metadata": {},
   "outputs": [
    {
     "name": "stdout",
     "output_type": "stream",
     "text": [
      "\n",
      "--- Querying RAG Chain ---\n",
      "Question: What does the BADAS guideline say about insulin initiation?\n",
      "\n",
      "Response:\n",
      " According to the BADAS Guideline 2019, glucose-insulin infusion should be started in all major surgeries. In case of diabetes management outside surgery, if a person is already on insulin, intermediate or long acting insulin is continued; the dose may need to be reduced. Shorter acting insulin should be adjusted according to blood glucose values and food intake. However, I advise you to consult with a healthcare professional for personalized medical advice regarding insulin initiation or adjustment.\n"
     ]
    }
   ],
   "source": [
    "print(\"\\n--- Querying RAG Chain ---\")\n",
    "question = \"What does the BADAS guideline say about insulin initiation?\" \n",
    "\n",
    "\n",
    "\n",
    "print(f\"Question: {question}\")\n",
    "\n",
    "try:\n",
    "    response = rag_chain.invoke(question)\n",
    "    print(\"\\nResponse:\")\n",
    "    print(response)\n",
    "except Exception as e:\n",
    "    print(f\"\\nError during RAG chain invocation: {e}\")"
   ]
  },
  {
   "cell_type": "code",
   "execution_count": 16,
   "id": "6c7b88b0-79a3-405c-b75b-0d7241b22027",
   "metadata": {},
   "outputs": [
    {
     "name": "stdout",
     "output_type": "stream",
     "text": [
      "\n",
      "--- Querying RAG Chain ---\n",
      "Question: Tell me about managing diabetes during Ramadan based on the provided texts.\n",
      "\n",
      "Response:\n",
      " During Ramadan, it is essential for individuals with diabetes to manage their blood sugar levels carefully. The following are some general practices that can be considered, although personalized medical advice should always be sought from a healthcare professional.\n",
      "\n",
      "1. Balanced Diet: Consume a well-balanced diet during the daytime, including carbohydrates, proteins, and healthy fats. In Bangladesh, common foods such as rice, lentils, fish, vegetables, and fruits can form part of this diet. It is important to control portion sizes and consider meal timing to avoid postprandial blood sugar spikes.\n",
      "\n",
      "2. Hydration: Drink plenty of fluids during the non-fasting hours. Dehydration can affect blood sugar levels, so it's crucial to stay hydrated. However, avoid consuming large amounts of fluid close to suhoor (the pre-dawn meal) or iftar (the breaking of fast).\n",
      "\n",
      "3. Regular Medication: Continue taking diabetes medication as prescribed by your healthcare provider, even during Ramadan. Some medications may need adjustment based on the fasting schedule; consult a doctor for personalized advice.\n",
      "\n",
      "4. Fasting Schedule: It is generally recommended to take suhoor (the pre-dawn meal) around 2 hours before dawn and iftar (the breaking of fast) at sunset. Some people may find it beneficial to split their meals into smaller portions throughout the day.\n",
      "\n",
      "5. Monitor Blood Glucose Levels: Regularly monitor blood glucose levels and adjust your diet, medication, or activity level as needed based on the results.\n",
      "\n",
      "6. Physical Activity: Maintain a regular exercise routine during Ramadan, but avoid intense workouts immediately before or after meals to reduce the risk of hypoglycemia (low blood sugar).\n",
      "\n",
      "7. Rest and Stress Management: Ensure adequate rest and manage stress levels as best as possible, as these factors can influence blood glucose control.\n",
      "\n",
      "8. Consult a Healthcare Professional: If you have diabetes, consult your healthcare provider for personalized advice on managing your condition during Ramadan. They may recommend additional adjustments to your diet, medication, or activity regimen based on your specific needs and medical history.\n",
      "\n",
      "Always remember that the information provided here is general in nature and may not be suitable for everyone. It's essential to consult a healthcare professional for personalized advice regarding managing diabetes during Ramadan.\n"
     ]
    }
   ],
   "source": [
    "print(\"\\n--- Querying RAG Chain ---\")\n",
    "question = \"Tell me about managing diabetes during Ramadan based on the provided texts.\" \n",
    "\n",
    "\n",
    "\n",
    "print(f\"Question: {question}\")\n",
    "\n",
    "try:\n",
    "    response = rag_chain.invoke(question)\n",
    "    print(\"\\nResponse:\")\n",
    "    print(response)\n",
    "except Exception as e:\n",
    "    print(f\"\\nError during RAG chain invocation: {e}\")"
   ]
  },
  {
   "cell_type": "code",
   "execution_count": 17,
   "id": "5df17168-0894-4b13-a4a2-b6af44777175",
   "metadata": {},
   "outputs": [
    {
     "name": "stdout",
     "output_type": "stream",
     "text": [
      "\n",
      "--- Querying RAG Chain ---\n",
      "Question: I have diabetes. Can I eat sweets?\n",
      "\n",
      "Response:\n",
      " It is advisable to limit or avoid sweets, especially sugar-sweetened beverages like candy and desserts, as they can negatively impact your blood glucose levels and potentially lead to weight gain, which may increase the risk of complications for people with diabetes. Instead, focus on a diet rich in fruits, legumes, whole grains, dairy products, and lean proteins from both animal and plant sources. As always, it is essential to consult your healthcare professional for personalized medical advice.\n"
     ]
    }
   ],
   "source": [
    "print(\"\\n--- Querying RAG Chain ---\")\n",
    "question = \"I have diabetes. Can I eat sweets?\" \n",
    "\n",
    "\n",
    "\n",
    "print(f\"Question: {question}\")\n",
    "\n",
    "try:\n",
    "    response = rag_chain.invoke(question)\n",
    "    print(\"\\nResponse:\")\n",
    "    print(response)\n",
    "except Exception as e:\n",
    "    print(f\"\\nError during RAG chain invocation: {e}\")"
   ]
  }
 ],
 "metadata": {
  "kernelspec": {
   "display_name": "Python 3 (ipykernel)",
   "language": "python",
   "name": "python3"
  },
  "language_info": {
   "codemirror_mode": {
    "name": "ipython",
    "version": 3
   },
   "file_extension": ".py",
   "mimetype": "text/x-python",
   "name": "python",
   "nbconvert_exporter": "python",
   "pygments_lexer": "ipython3",
   "version": "3.11.2"
  }
 },
 "nbformat": 4,
 "nbformat_minor": 5
}
