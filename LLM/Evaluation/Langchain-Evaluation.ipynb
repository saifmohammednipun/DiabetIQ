{
 "cells": [
  {
   "cell_type": "markdown",
   "id": "291a9021-4ffc-4072-aaf5-2e84d7e0be87",
   "metadata": {},
   "source": [
    "# RAG Application Evaluation with Langsmith"
   ]
  },
  {
   "cell_type": "markdown",
   "id": "4487cb01-da31-4ef6-8f75-9fe6f0a5c5e3",
   "metadata": {},
   "source": [
    "# Environment Setup "
   ]
  },
  {
   "cell_type": "code",
   "execution_count": 2,
   "id": "e8a23c51-d75d-4bd6-9a00-1ded2835114a",
   "metadata": {},
   "outputs": [],
   "source": [
    "import os\n",
    "from dotenv import load_dotenv\n",
    "\n",
    "load_dotenv()\n",
    "langchain_api_key = os.getenv('LANGCHAIN_API_KEY')\n",
    "langsmith_api_key = os.getenv('LANGSMITH_API_KEY')\n",
    "huggingface_api_key = os.getenv('HUGGINGFACE_API_KEY')\n",
    "\n",
    "os.environ['LANGCHAIN_TRACING_V2'] = 'true'\n",
    "os.environ['LANGSMITH_TRACING'] = 'true'\n",
    "os.environ['LANGCHAIN_API_KEY'] = langchain_api_key\n",
    "os.environ['LANGSMITH_API_KEY'] = langsmith_api_key\n",
    "os.environ['HUGGINGFACE_API_KEY'] = huggingface_api_key"
   ]
  },
  {
   "cell_type": "code",
   "execution_count": 3,
   "id": "4b720f9a-0fed-41d9-a187-db86bf80dc87",
   "metadata": {},
   "outputs": [],
   "source": [
    "from langchain import hub\n",
    "from langchain.text_splitter import RecursiveCharacterTextSplitter\n",
    "from langchain_community.document_loaders import PyPDFLoader # Use this\n",
    "from langchain_community.vectorstores import Chroma\n",
    "from langchain_core.output_parsers import StrOutputParser\n",
    "from langchain_core.runnables import RunnablePassthrough\n",
    "from langchain_huggingface import HuggingFaceEmbeddings\n",
    "from langchain_ollama import OllamaLLM\n",
    "from langchain_core.documents import Document"
   ]
  },
  {
   "cell_type": "code",
   "execution_count": 4,
   "id": "6e21e4e2-9b17-4724-8729-f2cfb4ebd0ad",
   "metadata": {},
   "outputs": [
    {
     "name": "stdout",
     "output_type": "stream",
     "text": [
      "Loading and Processing PDFs...\n",
      "-> Loading: BES-COVID-Pract-Recomnd-06-June-Final-Copy.pdf\n",
      "   Loaded 38 pages.\n",
      "-> Loading: BES-Ramadan-Guideline-2020-min.pdf\n",
      "   Loaded 46 pages.\n",
      "-> Loading: Diabetes_Care_BADAS_guideline2019-3.pdf\n",
      "   Loaded 79 pages.\n",
      "-> Loading: Insulin-Guideline-min.pdf\n",
      "   Loaded 93 pages.\n",
      "\n",
      "Total documents loaded: 256\n",
      "\n",
      "Sample Document Metadata (first doc):\n",
      "{'producer': 'Nitro PDF PrimoPDF', 'creator': 'PrimoPDF http://www.primopdf.com', 'creationdate': '2020-06-07T20:17:39-06:00', 'moddate': '2020-06-07T20:17:39-06:00', 'title': 'Microsoft Word - BES COVID Pract Recomnd 06 June Final Copy', 'author': 'Mir', 'source': 'BES-COVID-Pract-Recomnd-06-June-Final-Copy.pdf', 'total_pages': 38, 'page': 0, 'page_label': '1'}\n",
      "\n",
      "Sample Document Content (first 500 chars of first doc):\n",
      "Bangladesh Endocrine Society (BES) \n",
      "Practical Recommendations for Management of \n",
      "Diabetes and Other Endocrine Diseases in Patients with \n",
      "COVID-19 \n",
      " \n",
      " \n",
      " \n",
      " \n",
      " \n",
      "Published Online June 2020 \n",
      " \n",
      " \n",
      "All rights reserved by: Bangladesh Endocrine Society (BES) \n",
      " \n",
      " \n",
      "Published by \n",
      "Bangladesh Endocrine Society (BES) \n",
      "Website: http://bes-org.net \n",
      "E-mail: \n",
      "endobd2012@gmail.com\n"
     ]
    }
   ],
   "source": [
    "pdf_files = [\n",
    "    r\"E:\\DiabetIQ\\LLM\\PDFs\\BES-COVID-Pract-Recomnd-06-June-Final-Copy.pdf\",\n",
    "    r\"E:\\DiabetIQ\\LLM\\PDFs\\BES-Ramadan-Guideline-2020-min.pdf\",\n",
    "    r\"E:\\DiabetIQ\\LLM\\PDFs\\Diabetes_Care_BADAS_guideline2019-3.pdf\",\n",
    "    r\"E:\\DiabetIQ\\LLM\\PDFs\\Insulin-Guideline-min.pdf\"\n",
    "]\n",
    "\n",
    "all_docs = [] # Will store LangChain Document objects\n",
    "\n",
    "print(\"Loading and Processing PDFs...\")\n",
    "for pdf_path in pdf_files:\n",
    "    try:\n",
    "        # Extract filename for metadata\n",
    "        file_name = os.path.basename(pdf_path)\n",
    "        print(f\"-> Loading: {file_name}\")\n",
    "\n",
    "        loader = PyPDFLoader(pdf_path)\n",
    "        # Load pages as individual documents. Each doc will have metadata['page']\n",
    "        pages = loader.load_and_split() # This does basic splitting\n",
    "\n",
    "        # Add source filename to metadata for each page/document\n",
    "        for page_doc in pages:\n",
    "            page_doc.metadata['source'] = file_name\n",
    "            # Optional: clean up page content slightly if needed\n",
    "            # page_doc.page_content = page_doc.page_content.replace('\\n', ' ').strip()\n",
    "\n",
    "        all_docs.extend(pages)\n",
    "        print(f\"   Loaded {len(pages)} pages.\")\n",
    "\n",
    "    except Exception as e:\n",
    "        print(f\"Error loading {pdf_path}: {e}\")\n",
    "\n",
    "print(f\"\\nTotal documents loaded: {len(all_docs)}\")\n",
    "if all_docs:\n",
    "    print(\"\\nSample Document Metadata (first doc):\")\n",
    "    print(all_docs[0].metadata)\n",
    "    print(\"\\nSample Document Content (first 500 chars of first doc):\")\n",
    "    print(all_docs[0].page_content[:500])\n",
    "else:\n",
    "    print(\"\\nNo documents were loaded successfully.\")\n",
    "    # Consider exiting or handling this error appropriately\n",
    "    exit()"
   ]
  },
  {
   "cell_type": "code",
   "execution_count": 5,
   "id": "38c0209a-2391-4d89-b5cd-f5002443c81a",
   "metadata": {},
   "outputs": [],
   "source": [
    "text_splitter = RecursiveCharacterTextSplitter(\n",
    "    chunk_size=1000,\n",
    "    chunk_overlap=200,\n",
    "    # Keep separators that make sense for text structure\n",
    "    separators=[\"\\n\\n\", \"\\n\", \". \", \", \", \" \", \"\"],\n",
    "    length_function=len,\n",
    ")"
   ]
  },
  {
   "cell_type": "code",
   "execution_count": 6,
   "id": "aeb2b0d5-220c-42f2-a252-b64354c1372f",
   "metadata": {},
   "outputs": [
    {
     "name": "stdout",
     "output_type": "stream",
     "text": [
      "\n",
      "Total chunks created: 702\n",
      "\n",
      "Sample Chunk Metadata (first chunk):\n",
      "{'producer': 'Nitro PDF PrimoPDF', 'creator': 'PrimoPDF http://www.primopdf.com', 'creationdate': '2020-06-07T20:17:39-06:00', 'moddate': '2020-06-07T20:17:39-06:00', 'title': 'Microsoft Word - BES COVID Pract Recomnd 06 June Final Copy', 'author': 'Mir', 'source': 'BES-COVID-Pract-Recomnd-06-June-Final-Copy.pdf', 'total_pages': 38, 'page': 0, 'page_label': '1'}\n",
      "\n",
      "Sample Chunk Content (first 500 chars):\n",
      "Bangladesh Endocrine Society (BES) \n",
      "Practical Recommendations for Management of \n",
      "Diabetes and Other Endocrine Diseases in Patients with \n",
      "COVID-19 \n",
      " \n",
      " \n",
      " \n",
      " \n",
      " \n",
      "Published Online June 2020 \n",
      " \n",
      " \n",
      "All rights reserved by: Bangladesh Endocrine Society (BES) \n",
      " \n",
      " \n",
      "Published by \n",
      "Bangladesh Endocrine Society (BES) \n",
      "Website: http://bes-org.net \n",
      "E-mail: \n",
      "endobd2012@gmail.com\n"
     ]
    }
   ],
   "source": [
    "chunks = text_splitter.split_documents(all_docs)\n",
    "\n",
    "print(f\"\\nTotal chunks created: {len(chunks)}\")\n",
    "if chunks:\n",
    "    print(\"\\nSample Chunk Metadata (first chunk):\")\n",
    "    print(chunks[0].metadata)\n",
    "    print(\"\\nSample Chunk Content (first 500 chars):\")\n",
    "    print(chunks[0].page_content[:500])\n",
    "else:\n",
    "    print(\"\\nNo chunks were created. Check splitting process.\")\n",
    "    exit()"
   ]
  },
  {
   "cell_type": "code",
   "execution_count": 7,
   "id": "4a73ae02-2db9-4825-8e7a-9859dd31de10",
   "metadata": {},
   "outputs": [
    {
     "name": "stdout",
     "output_type": "stream",
     "text": [
      "\n",
      "Initializing Embedding Model...\n",
      "\n",
      "Creating Vector Store (ChromaDB)...\n",
      "Vector Store Created.\n"
     ]
    }
   ],
   "source": [
    "print(\"\\nInitializing Embedding Model...\")\n",
    "embedding_model = HuggingFaceEmbeddings(model_name=\"intfloat/e5-small-v2\")\n",
    "\n",
    "print(\"\\nCreating Vector Store (ChromaDB)...\")\n",
    "# Chroma.from_documents handles Document objects directly\n",
    "# Consider adding persistence: persist_directory=\"./chroma_db_diabetiq\"\n",
    "vectorstore = Chroma.from_documents(\n",
    "    documents=chunks,\n",
    "    embedding=embedding_model,\n",
    "    # persist_directory=\"./chroma_db_diabetiq\" # Uncomment to save DB locally\n",
    ")\n",
    "# If persisting: vectorstore.persist()\n",
    "\n",
    "# To load later:\n",
    "# vectorstore = Chroma(persist_directory=\"./chroma_db_diabetiq\", embedding_function=embedding_model)\n",
    "\n",
    "print(\"Vector Store Created.\")"
   ]
  },
  {
   "cell_type": "code",
   "execution_count": 8,
   "id": "61d40225-55f0-497d-8939-8d1760d0ea3f",
   "metadata": {},
   "outputs": [],
   "source": [
    "retriever = vectorstore.as_retriever(search_kwargs={\"k\": 5}) # Retrieve top 5 chunks"
   ]
  },
  {
   "cell_type": "code",
   "execution_count": 9,
   "id": "ed085449-e449-4df1-9bac-71d866b0305e",
   "metadata": {},
   "outputs": [
    {
     "name": "stdout",
     "output_type": "stream",
     "text": [
      "Retriever configured (using k=5).\n"
     ]
    }
   ],
   "source": [
    "print(f\"Retriever configured (using k={retriever.search_kwargs.get('k', 'default')}).\")"
   ]
  },
  {
   "cell_type": "code",
   "execution_count": 10,
   "id": "64aa95ee-b7a8-4e1d-bf79-60416bbb8507",
   "metadata": {},
   "outputs": [],
   "source": [
    "from langchain_core.prompts import PromptTemplate\n",
    "prompt_template = \"\"\"\n",
    "You are DiabetIQ, an AI assistant specializing in diabetes management for patients in Bangladesh, based *strictly* on the provided context documents.\n",
    "\n",
    "Context Documents:\n",
    "{context}\n",
    "\n",
    "Based *only* on the information in the numbered context documents above, answer the following question concisely and directly.\n",
    "Your advice should be actionable and consider general practices relevant to Bangladesh where possible (e.g., common foods mentioned in context, local guidelines if present in context).\n",
    "Do *not* add information that is not present in the context.\n",
    "If the context does not contain the answer, state that clearly.\n",
    "Always conclude your response by advising the user to consult a healthcare professional for personalized medical advice.\n",
    "\n",
    "Question: {question}\n",
    "\n",
    "Answer:\n",
    "\"\"\"\n",
    "\n",
    "prompt = PromptTemplate.from_template(prompt_template)"
   ]
  },
  {
   "cell_type": "code",
   "execution_count": 11,
   "id": "9c897b46-b1ea-4da5-a975-7d0452fa186d",
   "metadata": {},
   "outputs": [
    {
     "name": "stdout",
     "output_type": "stream",
     "text": [
      "Initializing LLM (Ollama - Mistral)...\n"
     ]
    }
   ],
   "source": [
    "print(\"Initializing LLM (Ollama - Mistral)...\")\n",
    "llm = OllamaLLM(model=\"mistral\")"
   ]
  },
  {
   "cell_type": "code",
   "execution_count": 12,
   "id": "52530a75-6059-44bc-9cfe-01f99e6d6798",
   "metadata": {},
   "outputs": [],
   "source": [
    "def format_docs_with_metadata(docs):\n",
    "    \"\"\"Formats retrieved documents including source and page.\"\"\"\n",
    "    formatted_strings = []\n",
    "    for i, doc in enumerate(docs):\n",
    "        metadata_str = f\"Source: {doc.metadata.get('source', 'N/A')}, Page: {doc.metadata.get('page', 'N/A')}\"\n",
    "        content_str = doc.page_content.replace('\\n', ' ').strip()\n",
    "        formatted_strings.append(f\"{i+1}. [{metadata_str}] {content_str}\")\n",
    "    return \"\\n\\n\".join(formatted_strings)"
   ]
  },
  {
   "cell_type": "code",
   "execution_count": 13,
   "id": "b8bc1c61-8f59-4518-a48b-cc1577f57fb9",
   "metadata": {},
   "outputs": [
    {
     "name": "stdout",
     "output_type": "stream",
     "text": [
      "RAG Chain constructed.\n"
     ]
    }
   ],
   "source": [
    "rag_chain = (\n",
    "    {\"context\": retriever | format_docs_with_metadata, \"question\": RunnablePassthrough()}\n",
    "    | prompt\n",
    "    | llm\n",
    "    | StrOutputParser()\n",
    ")\n",
    "\n",
    "print(\"RAG Chain constructed.\")"
   ]
  },
  {
   "cell_type": "code",
   "execution_count": 14,
   "id": "285bb5d2-81a8-4253-b797-748f38d29958",
   "metadata": {},
   "outputs": [
    {
     "name": "stdout",
     "output_type": "stream",
     "text": [
      "\n",
      "--- Querying RAG Chain ---\n",
      "Question: How can I control my blood sugar level with diet according to the textbook?\n",
      "\n",
      "Response:\n",
      "1. Emphasize consumption of fruits, legumes, whole grains, and dairy products if you are on insulin therapy. You should receive education on carbohydrate counting.\n",
      "2. Avoid sugar-sweetened beverages (including fruit juices) to control glycemia, weight, reduce the risk for cardiovascular disease and fatty liver. Eat at least 2 or 3 servings of fruits and vegetables daily.\n",
      "3. Maintain a regular diet containing approximately 150 grams of carbohydrate per day before undergoing an OGTT (Oral Glucose Tolerance Test). The test should be done in the morning after fasting for 8-14 hours, and you should not smoke or engage in physical stress during the test.\n",
      "4. Ensure a balanced diet with sufficient protein from animal and plant sources like fish, meat, egg, milk, cheese, seeds, and nuts. Daily protein intake should be approximately 1 gram per kg body weight for older individuals, adjusted according to nutritional status, physical activity level, disease status, and tolerance. For polymorbid medical inpatients, the daily protein intake should be at least 1 gram per kg body weight.\n",
      "5. To improve glucose metabolism and lower cardiovascular disease risk, opt for a diet rich in monounsaturated and polyunsaturated fats. Foods rich in long-chain n-3 fatty acids, such as fatty fish (EPA and DHA) and nuts and seeds (ALA), are recommended to prevent or treat cardiovascular disease.\n",
      "6. It is not advised that dietary supplementation with vitamins, minerals (such as chromium and vitamin D), herbs, or spices (such as cinnamon or aloe vera) can improve outcomes in people with diabetes based on the provided context.\n",
      "7. Always consult a healthcare professional for personalized medical advice to control your blood sugar level effectively.\n"
     ]
    }
   ],
   "source": [
    "print(\"\\n--- Querying RAG Chain ---\")\n",
    "question = \"How can I control my blood sugar level with diet according to the textbook?\" \n",
    "\n",
    "\n",
    "print(f\"Question: {question}\")\n",
    "\n",
    "try:\n",
    "    response = rag_chain.invoke(question)\n",
    "    print(\"\\nResponse:\")\n",
    "    print(response)\n",
    "except Exception as e:\n",
    "    print(f\"\\nError during RAG chain invocation: {e}\")"
   ]
  },
  {
   "cell_type": "code",
   "execution_count": 15,
   "id": "c080157c-d483-4126-b6ca-2c3f27aad468",
   "metadata": {},
   "outputs": [
    {
     "name": "stdout",
     "output_type": "stream",
     "text": [
      "\n",
      "--- Querying RAG Chain ---\n",
      "Question: What does the BADAS guideline say about insulin initiation?\n",
      "\n",
      "Response:\n",
      " The BADAS Guideline 2019 suggests that in major surgeries, glucose-insulin infusion should be started. For regular practice, if a person is on insulin, both intermediate or long acting insulin and the dose may need to be reduced. Shorter acting insulin should be adjusted according to blood glucose values and food intake. However, it's important to consult with a healthcare professional for personalized medical advice.\n"
     ]
    }
   ],
   "source": [
    "print(\"\\n--- Querying RAG Chain ---\")\n",
    "question = \"What does the BADAS guideline say about insulin initiation?\"\n",
    "\n",
    "print(f\"Question: {question}\")\n",
    "\n",
    "try:\n",
    "    response = rag_chain.invoke(question)\n",
    "    print(\"\\nResponse:\")\n",
    "    print(response)\n",
    "except Exception as e:\n",
    "    print(f\"\\nError during RAG chain invocation: {e}\")"
   ]
  },
  {
   "cell_type": "code",
   "execution_count": 16,
   "id": "6c7b88b0-79a3-405c-b75b-0d7241b22027",
   "metadata": {},
   "outputs": [
    {
     "name": "stdout",
     "output_type": "stream",
     "text": [
      "\n",
      "--- Querying RAG Chain ---\n",
      "Question: Tell me about managing diabetes during Ramadan based on the provided texts.\n",
      "\n",
      "Response:\n",
      " To manage diabetes during Ramadan in Bangladesh, it is recommended to follow these practices based on the information provided:\n",
      "\n",
      "1. Maintain a balanced diet: While fasting, consume meals that are nutritious and well-balanced. Try to include foods rich in fiber, lean proteins, and complex carbohydrates like brown rice, whole wheat roti, lentils, fruits, and vegetables.\n",
      "\n",
      "2. Monitor blood sugar levels: Regularly check your blood sugar levels before meals and at night. Fasting can affect blood sugar control, so it is crucial to monitor levels carefully during this time.\n",
      "\n",
      "3. Hydrate yourself: Drink plenty of water or fluids when you break your fast in the evening and during suhoor (the pre-fast meal). Avoid sugary drinks as they may cause a sudden spike in blood sugar levels.\n",
      "\n",
      "4. Adjust medication schedule: If taking insulin, it might be necessary to adjust dosage and timing depending on when meals are consumed during Ramadan. Consult your healthcare professional for advice on this matter.\n",
      "\n",
      "5. Be aware of symptoms: Familiarize yourself with the symptoms of hypoglycemia (low blood sugar) and hyperglycemia (high blood sugar). If any symptoms arise, seek medical attention immediately.\n",
      "\n",
      "6. Rest and exercise: Ensure you get adequate rest during the daytime hours when fasting and engage in moderate physical activity to maintain a healthy lifestyle.\n",
      "\n",
      "7. Consult with a healthcare professional: It is essential to consult your healthcare provider for personalized advice regarding diabetes management during Ramadan. The information provided here serves as general guidance only, and individual needs may vary.\n"
     ]
    }
   ],
   "source": [
    "print(\"\\n--- Querying RAG Chain ---\")\n",
    "question = \"Tell me about managing diabetes during Ramadan based on the provided texts.\" \n",
    "\n",
    "print(f\"Question: {question}\")\n",
    "\n",
    "try:\n",
    "    response = rag_chain.invoke(question)\n",
    "    print(\"\\nResponse:\")\n",
    "    print(response)\n",
    "except Exception as e:\n",
    "    print(f\"\\nError during RAG chain invocation: {e}\")"
   ]
  },
  {
   "cell_type": "code",
   "execution_count": 17,
   "id": "5df17168-0894-4b13-a4a2-b6af44777175",
   "metadata": {},
   "outputs": [
    {
     "name": "stdout",
     "output_type": "stream",
     "text": [
      "\n",
      "--- Querying RAG Chain ---\n",
      "Question: I have diabetes. Can I eat sweets?\n",
      "\n",
      "Response:\n",
      " It is advisable to limit or avoid sweets, especially sugar-sweetened beverages like candy and desserts, as they can negatively impact your blood glucose levels and potentially lead to weight gain, which may increase the risk of complications for people with diabetes. Instead, focus on a diet rich in fruits, legumes, whole grains, dairy products, and lean proteins from both animal and plant sources. As always, it is essential to consult your healthcare professional for personalized medical advice.\n"
     ]
    }
   ],
   "source": [
    "print(\"\\n--- Querying RAG Chain ---\")\n",
    "question = \"I have diabetes. Can I eat sweets?\" \n",
    "\n",
    "\n",
    "\n",
    "print(f\"Question: {question}\")\n",
    "\n",
    "try:\n",
    "    response = rag_chain.invoke(question)\n",
    "    print(\"\\nResponse:\")\n",
    "    print(response)\n",
    "except Exception as e:\n",
    "    print(f\"\\nError during RAG chain invocation: {e}\")"
   ]
  },
  {
   "cell_type": "markdown",
   "id": "5b3782a7-7585-4527-8775-3aad52e37648",
   "metadata": {},
   "source": [
    "# Dataset"
   ]
  },
  {
   "cell_type": "code",
   "execution_count": 21,
   "id": "b81cc47c-eda6-4e04-8506-ecc20fdb0351",
   "metadata": {},
   "outputs": [
    {
     "data": {
      "text/plain": [
       "{'example_ids': ['7293e7dd-c0f8-491c-9067-efeb0de32c46',\n",
       "  '70c8275e-bfc6-4cee-8f4c-e0e8e5216c37',\n",
       "  '8208f035-3082-4f01-9e8f-c920a97d99b2',\n",
       "  '8a60cad6-4a3e-49c9-8af6-da5683439416',\n",
       "  '18523223-c8ec-4250-865c-dcfeb8e94d1f'],\n",
       " 'count': 5}"
      ]
     },
     "execution_count": 21,
     "metadata": {},
     "output_type": "execute_result"
    }
   ],
   "source": [
    "from langsmith import Client\n",
    "\n",
    "client = Client()\n",
    "\n",
    "examples = [\n",
    "    {\n",
    "        \"inputs\": {\"question\": \"What are common symptoms of low blood sugar (hypoglycemia)?\"},\n",
    "        \"outputs\": {\"answer\": \"Common symptoms of hypoglycemia include shakiness, sweating, dizziness, confusion, rapid heartbeat, hunger, and irritability. Severe cases can lead to loss of consciousness. It's important to treat it promptly.\"},\n",
    "    },\n",
    "    {\n",
    "        \"inputs\": {\"question\": \"How can I use the DiabetIQ app to log my meals?\"},\n",
    "        \"outputs\": {\"answer\": \"In the DiabetIQ app, navigate to the 'Log' or 'Diary' section, select 'Meal', and enter details like the food items, portion sizes, estimated carbohydrates, and the time of the meal. Saving this helps track your dietary intake.\"},\n",
    "    },\n",
    "    {\n",
    "        \"inputs\": {\"question\": \"Why is monitoring blood glucose levels important for diabetes management?\"},\n",
    "        \"outputs\": {\"answer\": \"Monitoring blood glucose helps you understand how food, activity, medication, and stress affect your levels. This information empowers you and your healthcare team to make informed decisions about your treatment plan to maintain target ranges and prevent complications.\"},\n",
    "    },\n",
    "    {\n",
    "        \"inputs\": {\"question\": \"Can DiabetIQ help predict my risk of high blood sugar?\"},\n",
    "        \"outputs\": {\"answer\": \"DiabetIQ uses machine learning based on your logged data (like meals, activity, glucose readings) to identify patterns and potentially indicate an increased short-term risk of high blood sugar (hyperglycemia). This feature is for informational purposes to help you be proactive and should be discussed with your healthcare provider.\"},\n",
    "    },\n",
    "    {\n",
    "        \"inputs\": {\"question\": \"What type of exercise is good for managing diabetes?\"},\n",
    "        \"outputs\": {\"answer\": \"A combination of aerobic exercise (like brisk walking, swimming, cycling) and resistance training (like lifting weights or using resistance bands) is generally recommended. Always consult your doctor before starting any new exercise program to ensure it's safe and appropriate for you.\"}\n",
    "    }\n",
    "]\n",
    "\n",
    "\n",
    "# Create the dataset and examples in LangSmith\n",
    "dataset_name = \"DiabetIQ Chatbot Q&A\"\n",
    "dataset = client.create_dataset(dataset_name=dataset_name)\n",
    "client.create_examples(\n",
    "    dataset_id=dataset.id,\n",
    "    examples=examples\n",
    ")"
   ]
  },
  {
   "cell_type": "markdown",
   "id": "4f92abbf-b774-4207-9ef8-80c7bde5fdbb",
   "metadata": {},
   "source": [
    "# Correctness: Response vs reference answer"
   ]
  },
  {
   "cell_type": "code",
   "execution_count": 24,
   "id": "eb731558-18bd-420e-ad73-f5a0fc047b0e",
   "metadata": {},
   "outputs": [],
   "source": [
    "from typing_extensions import Annotated, TypedDict\n",
    "from langchain_core.output_parsers import JsonOutputParser\n",
    "\n",
    "\n",
    "class CorrectnessGrade(TypedDict):\n",
    "    explanation: Annotated[str, ..., \"Detailed clinical reasoning for diabetes management accuracy\"]\n",
    "    correct: Annotated[bool, ..., \"True if answer is medically accurate for diabetes care\"]\n",
    "\n",
    "\n",
    "# Grade prompt for diabetes management\n",
    "diabetes_correctness_instructions = \"\"\"You are a medical professional evaluating diabetes-related advice.\n",
    "\n",
    "You will be given:\n",
    "- A PATIENT QUESTION about diabetes management\n",
    "- The MEDICALLY VALID ANSWER (ground truth)\n",
    "- The SYSTEM'S RESPONSE to the patient\n",
    "\n",
    "Evaluation Criteria:\n",
    "1. Medical Accuracy: Must match current diabetes treatment guidelines\n",
    "2. Safety: Must not contain dangerous or misleading advice\n",
    "3. Completeness: Should cover key aspects of the question\n",
    "4. Clarity: Should be understandable for patients\n",
    "\n",
    "Special Considerations:\n",
    "- Be strict with medication/dosage information\n",
    "- Flag any advice that contradicts standard care\n",
    "- Note if answer oversimplifies complex topics\n",
    "- Consider cultural sensitivity in dietary advice\n",
    "\n",
    "Respond with a JSON object containing:\n",
    "- \"explanation\": your detailed analysis\n",
    "- \"correct\": boolean for medical accuracy\n",
    "- \"safety_flag\": boolean for dangerous advice\n",
    "- \"completeness\": score from 0-1\n",
    "\n",
    "Provide detailed analysis before concluding.\"\"\"\n",
    "\n",
    "# Configure the Ollama Mistral LLM\n",
    "medical_grader_llm = OllamaLLM(\n",
    "    model=\"mistral\",\n",
    "    temperature=0,\n",
    "    system=diabetes_correctness_instructions\n",
    ")\n",
    "\n",
    "# Set up JSON output parser\n",
    "output_parser = JsonOutputParser(pydantic_object=DiabetesCorrectnessGrade)\n",
    "\n",
    "def evaluate_diabetes_response(inputs: dict, outputs: dict, reference_outputs: dict) -> dict:\n",
    "    \"\"\"Evaluator for DiabetIQ chatbot responses using Ollama Mistral\"\"\"\n",
    "    evaluation_context = f\"\"\"\\\n",
    "PATIENT QUESTION: {inputs['question']}\n",
    "MEDICAL STANDARD ANSWER: {reference_outputs['answer']}\n",
    "SYSTEM RESPONSE: {outputs['answer']}\"\"\"\n",
    "\n",
    "    # Run medical evaluation\n",
    "    response = medical_grader_llm.invoke(evaluation_context)\n",
    "    grade = output_parser.parse(response)\n",
    "    \n",
    "    return {\n",
    "        \"is_correct\": grade[\"correct\"],\n",
    "        \"is_safe\": not grade[\"safety_flag\"],\n",
    "        \"completeness_score\": grade[\"completeness\"],\n",
    "        \"explanation\": grade[\"explanation\"]\n",
    "    }"
   ]
  },
  {
   "cell_type": "code",
   "execution_count": null,
   "id": "124f8065-5559-4d29-b077-893dc5bb5d0c",
   "metadata": {},
   "outputs": [],
   "source": []
  }
 ],
 "metadata": {
  "kernelspec": {
   "display_name": "Python 3 (ipykernel)",
   "language": "python",
   "name": "python3"
  },
  "language_info": {
   "codemirror_mode": {
    "name": "ipython",
    "version": 3
   },
   "file_extension": ".py",
   "mimetype": "text/x-python",
   "name": "python",
   "nbconvert_exporter": "python",
   "pygments_lexer": "ipython3",
   "version": "3.13.2"
  }
 },
 "nbformat": 4,
 "nbformat_minor": 5
}
